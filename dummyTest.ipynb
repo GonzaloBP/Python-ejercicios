{
 "cells": [
  {
   "cell_type": "code",
   "execution_count": 34,
   "metadata": {},
   "outputs": [],
   "source": [
    "#Uso inicial de Jupiter\n",
    "ejecutar_linea_programa = \" con CTRL + ENTER se corre las lineas \\n  --> obteniedose el resultado en la siguiente linea\""
   ]
  },
  {
   "cell_type": "code",
   "execution_count": 40,
   "metadata": {},
   "outputs": [
    {
     "output_type": "stream",
     "name": "stdout",
     "text": "con CTRL + ENTER se corre las lineas \n  --> obteniedose el resultado en la siguiente linea\n"
    }
   ],
   "source": [
    "#Impresion del string\n",
    "print(ejecutar_linea_programa)"
   ]
  },
  {
   "cell_type": "code",
   "execution_count": 38,
   "metadata": {},
   "outputs": [],
   "source": [
    "# asiganacion de variable \n",
    "a = 2"
   ]
  },
  {
   "cell_type": "code",
   "execution_count": 39,
   "metadata": {},
   "outputs": [
    {
     "output_type": "execute_result",
     "data": {
      "text/plain": "2"
     },
     "metadata": {},
     "execution_count": 39
    }
   ],
   "source": [
    "#check\n",
    "a\n"
   ]
  },
  {
   "cell_type": "code",
   "execution_count": 45,
   "metadata": {},
   "outputs": [
    {
     "output_type": "stream",
     "name": "stdout",
     "text": "C:\\some\\name\n"
    }
   ],
   "source": [
    "# agregar r para evitar el que se genere una nueva linea \\n  en direcciones\n",
    "print (r\"C:\\some\\name\")"
   ]
  },
  {
   "cell_type": "code",
   "execution_count": 51,
   "metadata": {},
   "outputs": [
    {
     "output_type": "stream",
     "name": "stdout",
     "text": "\n\nUso: Cosas [OPCIONES]\n-h                    Muestra el uso del mensaje\n-H hostname           hostname a conectar\n\n"
    }
   ],
   "source": [
    "#con \\n generamos una nueva linea\n",
    "print(\"\"\"\\n\n",
    "Uso: Cosas [OPCIONES]\n",
    "-h                    Muestra el uso del mensaje\n",
    "-H hostname           hostname a conectar\n",
    "\"\"\")"
   ]
  },
  {
   "cell_type": "code",
   "execution_count": 7,
   "metadata": {},
   "outputs": [
    {
     "data": {
      "text/plain": [
       "'Hola Hola Hola Mundo'"
      ]
     },
     "execution_count": 7,
     "metadata": {},
     "output_type": "execute_result"
    }
   ],
   "source": [
    "# incremeto de la cadena generada (Hola) y posterior concatenacion (Mundo)\n",
    "3 * \"Hola \" + \"Mundo\""
   ]
  },
  {
   "cell_type": "code",
   "execution_count": 8,
   "metadata": {},
   "outputs": [
    {
     "data": {
      "text/plain": [
       "'Python'"
      ]
     },
     "execution_count": 8,
     "metadata": {},
     "output_type": "execute_result"
    }
   ],
   "source": [
    "\"Py\" \"thon\""
   ]
  },
  {
   "cell_type": "code",
   "execution_count": 2,
   "metadata": {},
   "outputs": [
    {
     "data": {
      "text/plain": [
       "'hola mundo'"
      ]
     },
     "execution_count": 2,
     "metadata": {},
     "output_type": "execute_result"
    }
   ],
   "source": [
    "'hola mundo'"
   ]
  },
  {
   "cell_type": "code",
   "execution_count": 3,
   "metadata": {},
   "outputs": [
    {
     "data": {
      "text/plain": [
       "'hola mundo desde casa /n mira vos he bajado un escalon /n y otra vez'"
      ]
     },
     "execution_count": 3,
     "metadata": {},
     "output_type": "execute_result"
    }
   ],
   "source": [
    "'hola mundo desde casa /n mira vos he bajado un escalon /n y otra vez'"
   ]
  },
  {
   "cell_type": "code",
   "execution_count": 5,
   "metadata": {},
   "outputs": [
    {
     "name": "stdout",
     "output_type": "stream",
     "text": [
      "Hola mundo \n",
      " hola Karl \n",
      " hola Carlos\n"
     ]
    }
   ],
   "source": [
    "print ('Hola mundo \\n hola Karl \\n hola Carlos')\n"
   ]
  },
  {
   "cell_type": "code",
   "execution_count": 54,
   "metadata": {},
   "outputs": [
    {
     "output_type": "execute_result",
     "data": {
      "text/plain": "10"
     },
     "metadata": {},
     "execution_count": 54
    }
   ],
   "source": [
    "#Longitud de la cadena --> len (unString) -> int \n",
    "len ('hola mundo')"
   ]
  },
  {
   "cell_type": "code",
   "execution_count": 8,
   "metadata": {},
   "outputs": [
    {
     "data": {
      "text/plain": [
       "66"
      ]
     },
     "execution_count": 8,
     "metadata": {},
     "output_type": "execute_result"
    }
   ],
   "source": [
    "len('la longitud de este string se calcula con len(unString a evaluar))')"
   ]
  },
  {
   "cell_type": "code",
   "execution_count": 2,
   "metadata": {},
   "outputs": [
    {
     "output_type": "stream",
     "name": "stdout",
     "text": "Hello world!\nWhat is your name?\nIt is good to meet you, gonza\nThe length of your name is:\n5\nWhat is your age?\nYou will be 32 in a year.\n"
    }
   ],
   "source": [
    "# This program says hello and asks for my name.\n",
    "print('Hello world!')\n",
    "print('What is your name?') # ask for their name\n",
    "myName = input()\n",
    "print('It is good to meet you, ' + myName)\n",
    "print('The length of your name is:')\n",
    "print(len(myName))\n",
    "print('What is your age?')\n",
    "# ask for their age\n",
    "myAge = input()\n",
    "print('You will be ' + str(int(myAge) + 1) + ' in a year.')\n"
   ]
  },
  {
   "cell_type": "code",
   "execution_count": 8,
   "metadata": {},
   "outputs": [
    {
     "output_type": "execute_result",
     "data": {
      "text/plain": "'Pn'"
     },
     "metadata": {},
     "execution_count": 8
    }
   ],
   "source": [
    "# concatenacion de caracteres de una cadena,retornando un string de esta union\n",
    "checkString = \"Python\"\n",
    "checkString[0] + checkString[5] \n",
    " "
   ]
  },
  {
   "cell_type": "code",
   "execution_count": 10,
   "metadata": {},
   "outputs": [
    {
     "output_type": "stream",
     "name": "stdout",
     "text": "0\n1\n2\n3\n4\n5\n6\n7\n8\n9\n"
    }
   ],
   "source": [
    "for number_in_interval in range(10):\n",
    "    print(number_in_interval)"
   ]
  },
  {
   "cell_type": "code",
   "execution_count": 14,
   "metadata": {},
   "outputs": [
    {
     "output_type": "stream",
     "name": "stdout",
     "text": "5\n6\n7\n8\n9\n"
    }
   ],
   "source": [
    "# uso de FOR para recorrer un rango de valores\n",
    "intervalo_menos_ultimo = range(5, 10)\n",
    "for numero_en_intervalo in intervalo_menos_ultimo:\n",
    "    print(numero_en_intervalo)"
   ]
  },
  {
   "cell_type": "code",
   "execution_count": 15,
   "metadata": {},
   "outputs": [
    {
     "output_type": "stream",
     "name": "stdout",
     "text": "range(0, 10)\n"
    }
   ],
   "source": [
    "print(range(0,10))"
   ]
  },
  {
   "cell_type": "code",
   "execution_count": 108,
   "metadata": {},
   "outputs": [
    {
     "output_type": "stream",
     "name": "stdout",
     "text": "Rango a sumar\n0\n3\n6\n9\nEl resultado de la suma es igual a 18\n"
    }
   ],
   "source": [
    "# sumar el contenido de la secuencia 0, 3, 6, 9 o sea  18\n",
    "inicio_rango_en_numero = 0\n",
    "\n",
    "limite_rango_sin_numero = 10\n",
    "\n",
    "incremento_secuencia_por_numero = 3\n",
    "\n",
    "print(\"Rango a sumar\")\n",
    "\n",
    "rango_a_sumar =(range(inicio_rango_en_numero, limite_rango_sin_numero,incremento_secuencia_por_numero))\n",
    "\n",
    "for numero_en_intervalo in rango_a_sumar:\n",
    "    print(numero_en_intervalo)\n",
    "\n",
    "resultado_suma_rango = sum(rango_a_sumar)\n",
    "\n",
    "print(\"El resultado de la suma es igual a \" + str(resultado_suma_rango))\n",
    " \n"
   ]
  },
  {
   "cell_type": "code",
   "execution_count": 90,
   "metadata": {},
   "outputs": [
    {
     "output_type": "execute_result",
     "data": {
      "text/plain": "[0, 1, 2, 3, 4, 5]"
     },
     "metadata": {},
     "execution_count": 90
    }
   ],
   "source": [
    "#genera una lista con los valores de un rango dado\n",
    "list(range(6))"
   ]
  },
  {
   "cell_type": "code",
   "execution_count": 85,
   "metadata": {},
   "outputs": [
    {
     "output_type": "stream",
     "name": "stdout",
     "text": "ingrese 'sorpresa' o 'trato' y vea lo que sucede\nno hay sorpresa ni trato\n"
    }
   ],
   "source": [
    "#uso basico de los condicionales\n",
    "#solicita el ingreso de \"sorpresa\" o \"trato\" para tener un susto\n",
    "print(\"ingrese 'sorpresa' o 'trato' y vea lo que sucede\")\n",
    "entrada_usuario = input()\n",
    "if (entrada_usuario == \"sorpresa\"):\n",
    "    print('KABOOM')\n",
    "elif (entrada_usuario == \"trato\"):\n",
    "    print(\"te atreves a ingresar  'sopresa' la proxima vez \")\n",
    "else: \n",
    "    print(\"no hay sorpresa ni trato\")"
   ]
  },
  {
   "cell_type": "code",
   "execution_count": 87,
   "metadata": {},
   "outputs": [
    {
     "output_type": "stream",
     "name": "stdout",
     "text": "gato 4\nperro 5\niguana 6\n"
    }
   ],
   "source": [
    "# uso de FOR para medir algunos strings\n",
    "palabras = ['gato', 'perro', 'iguana']\n",
    "for animal in palabras:\n",
    "    print(animal, len(animal))"
   ]
  },
  {
   "cell_type": "code",
   "execution_count": 10,
   "metadata": {},
   "outputs": [
    {
     "output_type": "execute_result",
     "data": {
      "text/plain": "3"
     },
     "metadata": {},
     "execution_count": 10
    }
   ],
   "source": [
    "# operaciones trunc\n",
    "x = 3.23423\n",
    "math.trunc(x)"
   ]
  },
  {
   "cell_type": "code",
   "execution_count": 19,
   "metadata": {},
   "outputs": [
    {
     "output_type": "execute_result",
     "data": {
      "text/plain": "3.59"
     },
     "metadata": {},
     "execution_count": 19
    }
   ],
   "source": [
    "# operaciones trunc\n",
    "x = 3.59423\n",
    "round(x, 2)"
   ]
  },
  {
   "cell_type": "code",
   "execution_count": 32,
   "metadata": {},
   "outputs": [
    {
     "output_type": "stream",
     "name": "stdout",
     "text": "<class 'str'>\n<class 'range'>\n<class 'int'>\n"
    }
   ],
   "source": [
    "# test len y range\n",
    "\n",
    "palabra = \"hola que tal\"\n",
    "len(palabra)\n",
    "range(len(palabra))\n",
    "print(type(palabra))\n",
    "print(type(range(len(palabra))))\n",
    "print(type(len(palabra)))"
   ]
  },
  {
   "cell_type": "code",
   "execution_count": 40,
   "metadata": {},
   "outputs": [
    {
     "output_type": "stream",
     "name": "stdout",
     "text": "0 1 1 2 3 5 8 13 21 34 55 89 144 233 377 610 987 1597 2584 \n<class 'NoneType'>\n"
    }
   ],
   "source": [
    "#Fibonacci hasta el numero n\n",
    "def fib(n):    # write Fibonacci series up to n\n",
    "    \"\"\"Print a Fibonacci series up to n.\"\"\"\n",
    "    a, b = 0, 1\n",
    "    while a < n:\n",
    "        print(a, end=' ')\n",
    "        a, b = b, a+b\n",
    "    print()\n",
    "\n",
    "\n",
    "\n",
    "a = fib(3424)\n",
    "print(type(a))\n"
   ]
  },
  {
   "cell_type": "code",
   "execution_count": 8,
   "metadata": {},
   "outputs": [
    {
     "output_type": "stream",
     "name": "stdout",
     "text": "123-2342-4545 es un numero de telefono:\nTrue\nMoch-1233-mdisdf es un numero de telefono:\nFalse\n"
    }
   ],
   "source": [
    "# identificar si un string tiene el formato (123-2342-4545) de un numero telefonico , sin el uso de expresiones regulares\n",
    "\n",
    "def esNumeroTelefonico (text):\n",
    "    if len(text) != 12:\n",
    "        return False\n",
    "    for posicion_numero_telefonico in range(0, 3):\n",
    "        if not text[posicion_numero_telefonico].isdecimal():\n",
    "            return False\n",
    "    if text[3] != \"-\":\n",
    "        return False\n",
    "    for posicion_numero_telefonico in range(4, 7):\n",
    "        if not text[posicion_numero_telefonico].isdecimal():\n",
    "            return False\n",
    "    if text[7] != \"-\":\n",
    "        return False   \n",
    "    for posicion_numero_telefonico in range(8, 12):\n",
    "        if not text[posicion_numero_telefonico].isdecimal():\n",
    "            return False\n",
    "    return True\n",
    "\n",
    "\n",
    "print(\"123-2342-4545 es un numero de telefono:\")\n",
    "print(esNumeroTelefonico(\"123-185-4545\"))\n",
    "print(\"Moch-1233-mdisdf es un numero de telefono:\")\n",
    "print(esNumeroTelefonico(\"Moch-1233-mdisdf\"))"
   ]
  },
  {
   "cell_type": "code",
   "execution_count": 7,
   "metadata": {},
   "outputs": [
    {
     "output_type": "stream",
     "name": "stdout",
     "text": "Numero de telefono encotrado: 234-423-2343\n<class 'str'>\n"
    }
   ],
   "source": [
    "# re modulo, usando expresiones regulares\n",
    "\n",
    "# importamos el modulo re\n",
    "import re\n",
    "\n",
    "es_numero_telefono_redex = re.compile(r'\\d\\d\\d-\\d\\d\\d-\\d\\d\\d\\d')\n",
    "mo = es_numero_telefono_redex.search('mi numero de telefono es 234-423-2343.')\n",
    "print('Numero de telefono encotrado: ' + mo.group())\n",
    "print(type(mo.group()))\n"
   ]
  },
  {
   "cell_type": "code",
   "execution_count": 11,
   "metadata": {},
   "outputs": [
    {
     "output_type": "stream",
     "name": "stdout",
     "text": "234-423-2343\n234-423-2343\n234\n423-2343\n"
    }
   ],
   "source": [
    "import re\n",
    "\n",
    "es_numero_telefono_redex = re.compile(r'(\\d\\d\\d)-(\\d\\d\\d-\\d\\d\\d\\d)')\n",
    "mo = es_numero_telefono_redex.search('mi numero de telefono es 234-423-2343.')\n",
    "print(mo.group())\n",
    "print(mo.group(0))\n",
    "print(mo.group(1))\n",
    "print(mo.group(2))\n"
   ]
  },
  {
   "cell_type": "code",
   "execution_count": 13,
   "metadata": {},
   "outputs": [
    {
     "output_type": "stream",
     "name": "stdout",
     "text": "Batman\nTina Fey\n"
    }
   ],
   "source": [
    "#uso de pipe, para encotrar first mach\n",
    "import re\n",
    "\n",
    "heroRegex = re.compile (r'Batman|Tina Fey')\n",
    "mo1 = heroRegex.search('Batman and Tina Fey.')\n",
    "print(mo1.group())\n",
    "\n",
    "mo2 = heroRegex.search('Tina Fey and Batman and Tina Fey.')\n",
    "print(mo2.group())"
   ]
  },
  {
   "cell_type": "code",
   "execution_count": 17,
   "metadata": {},
   "outputs": [
    {
     "output_type": "execute_result",
     "data": {
      "text/plain": "False"
     },
     "metadata": {},
     "execution_count": 17
    }
   ],
   "source": [
    "def ask_ok(prompt, retries=4, reminder='Please try again!'):\n",
    "    while True:\n",
    "        ok = input(prompt)\n",
    "        if ok in ('y', 'ye', 'yes'):\n",
    "            return True\n",
    "        if ok in ('n', 'no', 'nop', 'nope'):\n",
    "            return False\n",
    "        retries = retries - 1\n",
    "        if retries < 0:\n",
    "            raise ValueError('invalid user response')\n",
    "        print(reminder)\n",
    "        \n",
    "ask_ok('Do you really want to quit?')        "
   ]
  },
  {
   "cell_type": "code",
   "execution_count": 18,
   "metadata": {},
   "outputs": [
    {
     "output_type": "stream",
     "name": "stdout",
     "text": "-- This parrot wouldn't voom if you put 1000 volts through it.\n-- Lovely plumage, the Norwegian Blue\n-- It's a stiff !\n-- This parrot wouldn't voom if you put 1000 volts through it.\n-- Lovely plumage, the Norwegian Blue\n-- It's a stiff !\n-- This parrot wouldn't VOOOOOM if you put 1000000 volts through it.\n-- Lovely plumage, the Norwegian Blue\n-- It's a stiff !\n-- This parrot wouldn't VOOOOOM if you put 1000000 volts through it.\n-- Lovely plumage, the Norwegian Blue\n-- It's a stiff !\n-- This parrot wouldn't jump if you put a million volts through it.\n-- Lovely plumage, the Norwegian Blue\n-- It's bereft of life !\n-- This parrot wouldn't voom if you put a thousand volts through it.\n-- Lovely plumage, the Norwegian Blue\n-- It's pushing up the daisies !\n"
    }
   ],
   "source": [
    "# argumentos y funciones\n",
    "\n",
    "def parrot(voltage, state='a stiff', action='voom', type='Norwegian Blue'):\n",
    "    print(\"-- This parrot wouldn't\", action, end=' ')\n",
    "    print(\"if you put\", voltage, \"volts through it.\")\n",
    "    print(\"-- Lovely plumage, the\", type)\n",
    "    print(\"-- It's\", state, \"!\")\n",
    "\n",
    "parrot(1000)                                          # 1 positional argument\n",
    "parrot(voltage=1000)                                  # 1 keyword argument\n",
    "parrot(voltage=1000000, action='VOOOOOM')             # 2 keyword arguments\n",
    "parrot(action='VOOOOOM', voltage=1000000)             # 2 keyword arguments\n",
    "parrot('a million', 'bereft of life', 'jump')         # 3 positional arguments\n",
    "parrot('a thousand', state='pushing up the daisies')  # 1 positional, 1 keyword"
   ]
  },
  {
   "cell_type": "code",
   "execution_count": 19,
   "metadata": {},
   "outputs": [
    {
     "output_type": "stream",
     "name": "stdout",
     "text": "-- Do you have any Limburger ?\n-- I'm sorry, we're all out of Limburger\nIt's very runny, sir.\nIt's really very, VERY runny, sir.\n----------------------------------------\nshopkeeper : Michael Palin\nclient : John Cleese\nsketch : Cheese Shop Sketch\n"
    }
   ],
   "source": [
    "\n",
    "def cheeseshop(kind, *arguments, **keywords):\n",
    "    print(\"-- Do you have any\", kind, \"?\")\n",
    "    print(\"-- I'm sorry, we're all out of\", kind)\n",
    "    for arg in arguments:\n",
    "        print(arg)\n",
    "    print(\"-\" * 40)\n",
    "    for kw in keywords:\n",
    "        print(kw, \":\", keywords[kw])\n",
    "\n",
    "cheeseshop(\"Limburger\", \"It's very runny, sir.\",\n",
    "           \"It's really very, VERY runny, sir.\",\n",
    "           shopkeeper=\"Michael Palin\",\n",
    "           client=\"John Cleese\",\n",
    "           sketch=\"Cheese Shop Sketch\")"
   ]
  },
  {
   "cell_type": "code",
   "execution_count": 61,
   "metadata": {},
   "outputs": [
    {
     "output_type": "stream",
     "name": "stdout",
     "text": "['a', 'c', 'ccca', 'd', 'mal']\n[2, 2, 4, 21, 32]\n--------------------------------------------------------------------------------\n"
    },
    {
     "output_type": "execute_result",
     "data": {
      "text/plain": "[('dave', 'B', 10), ('jane', 'B', 12), ('john', 'A', 15)]"
     },
     "metadata": {},
     "execution_count": 61
    }
   ],
   "source": [
    "# sorted() -> ordenamientos de listas \n",
    "# list.sort() -> devuelte la lista ordenada de menor a mayor (a--z, 1..99*)\n",
    "\n",
    "#por defecto ordena de menor a mayor\n",
    "mis_numeros = [2, 32, 21, 4, 2]\n",
    "print(sorted([\"a\", \"c\", \"mal\", \"d\", \"ccca\"]))\n",
    "print(sorted(mis_numeros))\n",
    "print(\"-\" * 80)\n",
    "\n",
    "student_tuples = [\n",
    "    ('john', 'A', 15),\n",
    "    ('jane', 'B', 12),\n",
    "    ('dave', 'B', 10),\n",
    "]\n",
    "sorted(student_tuples, key=lambda student: student[2])   # sort by age\n",
    "#[('dave', 'B', 10), ('jane', 'B', 12), ('john', 'A', 15)]\n",
    "\n",
    "\n",
    "# definimos la clase Student para un ordenamiento posterior\n",
    "class Student:\n",
    "    def __init__(self, name, grade, age):\n",
    "        self.name = name\n",
    "        self.grade = grade\n",
    "        self.age = age\n",
    "    def __repr__(self):\n",
    "        return repr((self.name, self.grade, self.age))\n",
    "\n",
    "# definimos una lista de estudiantes con sus atributos inicializados\n",
    "student_objects = [\n",
    "    Student('john', 'A', 15),\n",
    "    Student('jane', 'B', 12),\n",
    "    Student('dave', 'B', 10),\n",
    "]\n",
    "\n",
    "# Solicitamos un ordenamiento de la lista student_object\n",
    "# tal que devuelta una lista de objetos de estudiantes que este ordenado \n",
    "# por edad (menor a mayor)\n",
    "\n",
    "sorted(student_objects, key=lambda student: student.age)   # sort by age\n",
    "[('dave', 'B', 10), ('jane', 'B', 12), ('john', 'A', 15)]\n",
    "\n",
    "# el modulo operador provee de metodos que facilitan los ordenamientos\n",
    "# Dos ejemplo de estos son:\n",
    "# itemgetter \n",
    "# attrgetter\n",
    "from operator import itemgetter, attrgetter\n",
    "\n",
    "#ordena de menor a mayor por edad devolviendo una lista de objetos #estudiante  segun el item 2 de un estudiante o sea age(edad)\n",
    "sorted(student_tuples, key=itemgetter(2))\n",
    "#[('dave', 'B', 10), ('jane', 'B', 12), ('john', 'A', 15)]\n",
    "\n",
    "#ordena de menor a mayor por edad devolviendo una lista de objetos  #estudiante  segun el atributo definido =\"age\" de estudiante  \n",
    "sorted(student_objects, key=attrgetter('age'))\n",
    "#[('dave', 'B', 10), ('jane', 'B', 12), ('john', 'A', 15)]\n",
    "\n",
    "# podemos tener multiples niveles de ordenamieto por ejemplo \n",
    "# ordenamos primero por grado y luego por edad\n",
    "\n",
    "#usando itemgetter\n",
    "sorted(student_tuples, key=itemgetter(1,2))\n",
    "#[('john', 'A', 15), ('dave', 'B', 10), ('jane', 'B', 12)]\n",
    "\n",
    "#usando attrgetter--> se obtiene los mismos resultados\n",
    "sorted(student_objects, key=attrgetter('grade', 'age'))\n",
    "#[('john', 'A', 15), ('dave', 'B', 10), ('jane', 'B', 12)]\n",
    "\n",
    "#si queremos ordenamiento inverso o sea de MAYOR A MERNOR -> usar reverse=True\n",
    "\n",
    "sorted(student_tuples, key=itemgetter(2), reverse=True)\n",
    "#[('john', 'A', 15), ('jane', 'B', 12), ('dave', 'B', 10)]\n",
    "\n",
    "sorted(student_tuples, key=itemgetter(2), reverse=True)\n",
    "#[('john', 'A', 15), ('jane', 'B', 12), ('dave', 'B', 10)]\n",
    "\n",
    "#podemos ordenar, a la lista de estudiantes en multiples pasos\n",
    "s = sorted(student_objects, key=attrgetter('age'))     # sort on secondary key\n",
    "sorted(s, key=attrgetter('grade'), reverse=True)       # now sort on primary key, descending\n"
   ]
  },
  {
   "cell_type": "code",
   "execution_count": null,
   "metadata": {},
   "outputs": [],
   "source": [
    "#listas operaciones \n",
    "\n",
    "mi_zoo = [ \"vaca\",\"gato\",\"gallo\"]\n",
    "\n",
    "# list.append(x) -> inserta un elto en la ultima posicion de la lista\n",
    "mi_zoo.append(\" append(elto)\")\n",
    "print(mi_zoo)\n",
    "print(\"*\" * 80)\n",
    "\n",
    "# list.extend (otraLista) -> agrega o extiende otra lista (al final)\n",
    "mi_circo = [\"elefante\",\"caballo\", \"leon\"]\n",
    "mi_zoo.extend(mi_circo)\n",
    "print(mi_zoo)\n",
    "print(\"*\" * 80)\n",
    "\n",
    "# list.insert (posicion_a_insertar_en_lista, elto_nuevo_a_insertar)\n",
    "mi_zoo.insert(0,\"tucan\")\n",
    "print(mi_zoo)\n",
    "mi_zoo.insert(2,\"gorila\")\n",
    "print(mi_zoo)\n",
    "mi_zoo.insert(len(mi_zoo),\"huron\") \n",
    "print(mi_zoo)\n",
    "print(\"*\" * 80)\n",
    "\n",
    "#list.remove(unElto) \n",
    "mi_zoo.remove(\"huron\")\n",
    "print(mi_zoo)\n",
    "#se genera un error si el elto no esta en la lista\n",
    "#mi.zoo.remove(\"unicornio\")\n",
    "print(\"*\" * 80)\n",
    "\n",
    "#list.pop([posicion_del_elto_a_remover_de_lista_y_retornar])\n",
    "\n",
    "#estado original\n",
    "print(mi_zoo)\n",
    "\n",
    "#remuevo vaca de la lista y lo imprimo por pantalla\n",
    "mi_zoo.pop(1) == \"vaca\"\n",
    "print(mi_zoo) \n",
    "\n",
    "#por default (sin posicion), de borra el ultimo elto de la lista y se lo devulve --> ademas lo imprimo\n",
    "mi_zoo.pop()\n",
    "print(mi_zoo)\n",
    "\n",
    "\n",
    "print(\"*\" * 80)\n",
    "\n",
    "# list.clear --> remueve todos los eltos de la lista\n",
    "print(mi_circo)\n",
    "mi_circo.clear()\n",
    "print(mi_circo)\n",
    "\n",
    "#list.index -> devueve la posicion en la lista del elto pasodo como argumento\n",
    "mi_zoo.append(\"gorila\")\n",
    "mi_zoo.append(\"gorila\")\n",
    "print(mi_zoo)\n",
    "#se puede definir una sub-secuecia para encontra coincidencias(posiciones del elto buscaso) dentro ese subrango\n",
    "print(mi_zoo.index(\"gorila\",6,8))\n",
    "\n",
    "print(\"*\" * 80)\n",
    "\n",
    "#list.count(elto_a_buscar) -> retorna cuantas veces se repite el elto buscado\n",
    "\n",
    "mi_zoo.count(\"gorila\")\n",
    "print(\"*\" * 80)\n",
    "\n",
    "# list.reverse()\n",
    "a = mi_zoo.copy()\n",
    "print(a)"
   ]
  },
  {
   "cell_type": "code",
   "execution_count": 10,
   "metadata": {},
   "outputs": [
    {
     "output_type": "execute_result",
     "data": {
      "text/plain": [
       "<function str.isdigit()>"
      ]
     },
     "metadata": {},
     "execution_count": 10
    }
   ],
   "source": [
    "\"34\".isi"
   ]
  },
  {
   "cell_type": "code",
   "execution_count": 24,
   "metadata": {},
   "outputs": [
    {
     "output_type": "stream",
     "name": "stdout",
     "text": [
      "Count 50\nSum 2186\n"
     ]
    }
   ],
   "source": [
    "\n",
    "from urllib.request import urlopen\n",
    "from bs4 import BeautifulSoup\n",
    "import ssl\n",
    "\n",
    "# ignorar certificado SSL\n",
    "ctx = ssl.create_default_context()\n",
    "ctx.check_hostname = False\n",
    "ctx.verify_mode = ssl.CERT_NONE\n",
    "\n",
    "url = input('Enter - ')\n",
    "html = urlopen(url, context=ctx).read()\n",
    "sum_num_span_tag = 0\n",
    "count_numbers = 0\n",
    "soup = BeautifulSoup(html, \"html.parser\")\n",
    "\n",
    "\n",
    "# Retrieve all of the anchor tags of span\n",
    "tags = soup('span')\n",
    "for tag in tags:\n",
    "    # Look at the parts of a tag_span and sum the num content \n",
    "      content_convert_to_int = str(tag.contents[0])\n",
    "      if content_convert_to_int.isdigit() :\n",
    "          count_numbers = count_numbers + 1\n",
    "          sum_num_span_tag = sum_num_span_tag + int(content_convert_to_int)\n",
    "print(\"Count\",count_numbers)  \n",
    "print(\"Sum\",sum_num_span_tag)"
   ]
  },
  {
   "cell_type": "code",
   "execution_count": 73,
   "metadata": {},
   "outputs": [
    {
     "output_type": "stream",
     "name": "stdout",
     "text": [
      "Fikret Montgomery Anona Zoe Carmyle Airidas Margaret Alexanne Christin Landon Colton Hyden Jaden Clio Griffin Dhyia Dharam Lang Jemma Dillon Atal Coray Ayub Inaara Shahd Thumbiko Shonagh Kieron Kallan Amyleigh Rachel Lisa Jubin Conli Hayla Teejay Elyana Tobi Zamaar Samarjit Obieluem Alister Giancarlo Tamsin Kelisse Simra Wallace Tee Danyil Wasif Hayden Makenna Naomie Cassia Taegan Baylie Odynn Laurence Renas Lowena Kerryanne Josephine Hadeel Matia Olie Joyce Emi Edward Barbara Fatou Savanah Chidera Jacques Lennan Caragh Motade Giane Saanvi Makayla Coban Katelyn Regan Kirstie Macy Georgy Paula Brian Eagann Raunaq Dregan Madinah Keegan Ellyn Keatin Keeman Angus Oz Aliyaan Fergal Johnathan Ceiron Marriam Rhoridh Meenal Marwan Minna Matia Cailyne Kenzy Loche Dawson Edward Aayma Warkhas Tzara Ninon Jaimee Darrell Alyessa Mackena Murdo Ember Juliet Maude Rihonn Raonaid Ruben Mercedez Lusiana Kirwin Torin Hussnan Nicolina Kalum\n"
     ]
    }
   ],
   "source": [
    "# To run this, download the BeautifulSoup zip file\n",
    "# http://www.py4e.com/code3/bs4.zip\n",
    "# and unzip it in the same directory as this file\n",
    "\n",
    "import urllib.request, urllib.parse, urllib.error\n",
    "from bs4 import BeautifulSoup\n",
    "import ssl\n",
    "\n",
    "# Ignore SSL certificate errors\n",
    "ctx = ssl.create_default_context()\n",
    "ctx.check_hostname = False\n",
    "ctx.verify_mode = ssl.CERT_NONE\n",
    "\n",
    "url = input('Enter - ')\n",
    "html = urllib.request.urlopen(url, context=ctx).read()\n",
    "soup = BeautifulSoup(html, 'html.parser')\n",
    "count_line = 0\n",
    "name = (str(soup('title'))).split()\n",
    "name = ((name[2]))\n",
    "pos = 0\n",
    "# Retrieve all of the anchor tags\n",
    "for pos in range(0,4):\n",
    "    tags = soup('a')\n",
    "    for tag in tags:\n",
    "        #print(tag.get('href', None))\n",
    "        count_line = count_line + 1\n",
    "        if (count_line == 3) :\n",
    "            count_line = 0\n",
    "            #print(tag.get('href', None))\n",
    "            mi_url = tag.get('href', None)\n",
    "            html = urllib.request.urlopen(mi_url, context=ctx).read()\n",
    "            soup = BeautifulSoup(html, 'html.parser')\n",
    "            n = (str(soup('title'))).split()\n",
    "            name = name +\" \"+ n[2] \n",
    "            tags = soup('a')\n",
    "print(name)"
   ]
  },
  {
   "cell_type": "code",
   "execution_count": 26,
   "metadata": {},
   "outputs": [
    {
     "output_type": "stream",
     "name": "stdout",
     "text": [
      "http://py4e-data.dr-chuck.net/known_by_Kitty.html\n",
      "http://py4e-data.dr-chuck.net/known_by_Aniqa.html\n",
      "http://py4e-data.dr-chuck.net/known_by_Ogheneruno.html\n",
      "http://py4e-data.dr-chuck.net/known_by_Montgomery.html\n",
      "http://py4e-data.dr-chuck.net/known_by_Joris.html\n",
      "http://py4e-data.dr-chuck.net/known_by_Lexis.html\n",
      "http://py4e-data.dr-chuck.net/known_by_Mhairade.html\n",
      "http://py4e-data.dr-chuck.net/known_by_Aneliese.html\n",
      "http://py4e-data.dr-chuck.net/known_by_Seze.html\n",
      "http://py4e-data.dr-chuck.net/known_by_Butchi.html\n",
      "http://py4e-data.dr-chuck.net/known_by_Eilish.html\n",
      "http://py4e-data.dr-chuck.net/known_by_Charlize.html\n",
      "http://py4e-data.dr-chuck.net/known_by_Anayah.html\n"
     ]
    }
   ],
   "source": [
    "import urllib.request, urllib.parse, urllib.error\n",
    "import ssl\n",
    "from bs4 import BeautifulSoup\n",
    "\n",
    "# ignorar certificado SSL\n",
    "ctx = ssl.create_default_context()\n",
    "ctx.check_hostname = False\n",
    "ctx.verify_mode = ssl.CERT_NONE\n",
    "\n",
    "url_procesar = input('Enter URL -')\n",
    "numero_repeticiones = int(input('Enter count: '))\n",
    "posicion = int(input('Enter position: '))\n",
    "# Print la primera url antes de comenzar el proceso\n",
    "print(mi_url)\n",
    "\n",
    "for posicion_repeticion in range(numero_repeticiones):\n",
    "    html = urllib.request.urlopen(url_procesar, context=ctx).read()\n",
    "    soup = BeautifulSoup(html, 'html.parser')\n",
    "    # tag a para procesar los href solicitadas\n",
    "    tags = soup('a')\n",
    "    conteo_tag = 0\n",
    "    #bucle para recorrer cada tags en la url a procesar\n",
    "    for tag in tags:\n",
    "        conteo_tag = conteo_tag + 1\n",
    "        # Parar de contar (break) si el conteo_tag es mayor a la posicion ingresada\n",
    "        if conteo_tag>posicion:\n",
    "            break\n",
    "        url_procesar = tag.get('href', None)\n",
    "        # Print la posicion de la url en la posicion seleccionada\n",
    "        print(url_procesar)\n",
    "            "
   ]
  },
  {
   "cell_type": "code",
   "execution_count": 24,
   "metadata": {},
   "outputs": [
    {
     "output_type": "stream",
     "name": "stdout",
     "text": [
      "http://py4e-data.dr-chuck.net/known_by_Hogan.html\n",
      "http://py4e-data.dr-chuck.net/known_by_Kitty.html\n",
      "http://py4e-data.dr-chuck.net/known_by_Kitty.html\n",
      "http://py4e-data.dr-chuck.net/known_by_Kitty.html\n",
      "http://py4e-data.dr-chuck.net/known_by_Kitty.html\n",
      "http://py4e-data.dr-chuck.net/known_by_Kitty.html\n",
      "http://py4e-data.dr-chuck.net/known_by_Kitty.html\n",
      "http://py4e-data.dr-chuck.net/known_by_Kitty.html\n"
     ]
    }
   ],
   "source": [
    "import urllib.request, urllib.parse, urllib.error\n",
    "import ssl\n",
    "from bs4 import BeautifulSoup\n",
    "\n",
    "ctx = ssl.create_default_context()\n",
    "ctx.check_hostname = False\n",
    "ctx.verify_mode = ssl.CERT_NONE\n",
    "\n",
    "mi_url = input('Enter URL -')\n",
    "repeat = int(input('Enter number of repeatations: '))\n",
    "position = int(input('Enter the link position: '))\n",
    "print(url)\n",
    "#to repeat desired times\n",
    "for i in range(repeat):\n",
    "    html = urllib.request.urlopen(url, context=ctx).read()\n",
    "    soup = BeautifulSoup(html, 'html.parser')\n",
    "    tags = soup('a')\n",
    "    count = 0\n",
    "    for tag in tags:\n",
    "        count = count +1\n",
    "\n",
    "        #stopping at desired position\n",
    "        if count>position:\n",
    "            break\n",
    "        url = tag.get('href', None)\n",
    "        if count==position:\n",
    "            print(mi_url)    \n"
   ]
  },
  {
   "cell_type": "code",
   "execution_count": 30,
   "metadata": {},
   "outputs": [
    {
     "output_type": "stream",
     "name": "stdout",
     "text": [
      "http://py4e-data.dr-chuck.net/known_by_Fikret.html\n",
      "http://py4e-data.dr-chuck.net/known_by_Adeena.html\n",
      "http://py4e-data.dr-chuck.net/known_by_Campbel.html\n",
      "http://py4e-data.dr-chuck.net/known_by_Eiko.html\n",
      "http://py4e-data.dr-chuck.net/known_by_Naomi.html\n",
      "http://py4e-data.dr-chuck.net/known_by_Cherelle.html\n",
      "http://py4e-data.dr-chuck.net/known_by_Aarman.html\n",
      "http://py4e-data.dr-chuck.net/known_by_Zaki.html\n"
     ]
    }
   ],
   "source": [
    "import urllib.request, urllib.parse, urllib.error\n",
    "import ssl\n",
    "from bs4 import BeautifulSoup\n",
    "\n",
    "# ignorar certificado SSL\n",
    "ctx = ssl.create_default_context()\n",
    "ctx.check_hostname = False\n",
    "ctx.verify_mode = ssl.CERT_NONE\n",
    "\n",
    "url_procesar = input('Enter URL -')\n",
    "numero_repeticiones = int(input('Enter count: '))\n",
    "posicion = int(input('Enter position: '))\n",
    "# Print la primera url antes de comenzar el proceso\n",
    "print(mi_url)\n",
    "\n",
    "for posicion_repeticion in range(numero_repeticiones):\n",
    "    html = urllib.request.urlopen(url_procesar, context=ctx).read()\n",
    "    soup = BeautifulSoup(html, 'html.parser')\n",
    "    # tag a para procesar los href solicitadas\n",
    "    tags = soup('a')\n",
    "    conteo_tag = 0\n",
    "    #bucle para recorrer cada tags en la url a procesar\n",
    "    for tag in tags:\n",
    "        conteo_tag = conteo_tag + 1\n",
    "        # Parar de contar (break) si el conteo_tag es mayor a la posicion ingresada\n",
    "        if conteo_tag>posicion:\n",
    "            break\n",
    "        url_procesar = tag.get('href', None)\n",
    "        # Print la posicion de la url en la posicion seleccionada\n",
    "        if conteo_tag==posicion:\n",
    "            print(url_procesar)"
   ]
  },
  {
   "cell_type": "code",
   "execution_count": null,
   "metadata": {},
   "outputs": [],
   "source": [
    "import xml.etree.ElementTree as ET\n",
    "\n",
    "data = '''\n",
    "<person>\n",
    "  <name>Chuck</name>\n",
    "  <phone type=\"intl\">\n",
    "    +1 734 303 4456\n",
    "  </phone>\n",
    "  <email hide=\"yes\" />\n",
    "</person>'''\n",
    "\n",
    "tree = ET.fromstring(data)\n",
    "print('Name:', tree.find('name').text)\n",
    "print('Attr:', tree.find('email').get('hide'))\n"
   ]
  },
  {
   "cell_type": "code",
   "execution_count": null,
   "metadata": {},
   "outputs": [],
   "source": [
    "import xml.etree.ElementTree as ET\n",
    "\n",
    "input = '''\n",
    "<stuff>\n",
    "  <users>\n",
    "    <user x=\"2\">\n",
    "      <id>001</id>\n",
    "      <name>Chuck</name>\n",
    "    </user>\n",
    "    <user x=\"7\">\n",
    "      <id>009</id>\n",
    "      <name>Brent</name>\n",
    "    </user>\n",
    "  </users>\n",
    "</stuff>'''\n",
    "\n",
    "stuff = ET.fromstring(input)\n",
    "lst = stuff.findall('users/user')\n",
    "print('User count:', len(lst))\n",
    "\n",
    "for item in lst:\n",
    "    print('Name', item.find('name').text)\n",
    "    print('Id', item.find('id').text)\n",
    "    print('Attribute', item.get('x'))"
   ]
  },
  {
   "cell_type": "code",
   "execution_count": 28,
   "metadata": {},
   "outputs": [
    {
     "output_type": "stream",
     "name": "stdout",
     "text": [
      "Enter Location: http://py4e-data.dr-chuck.net/comments_776175.xml\nRetriving: http://py4e-data.dr-chuck.net/comments_776175.xml\nRetrieved: 4206 characters\nCount: 50\nSum: 2661\n"
     ]
    }
   ],
   "source": [
    "import urllib.request, urllib.parse, urllib.error\n",
    "import xml.etree.ElementTree as ET\n",
    "import ssl\n",
    "\n",
    " \n",
    "\n",
    "# INGNORAR ERRORES DE CERTIFICADOS SSL\n",
    "ctx = ssl.create_default_context()\n",
    "ctx.check_hostname = False\n",
    "ctx.verify_mode = ssl.CERT_NONE\n",
    "\n",
    "#Ingresar direccion por terminal\n",
    "url_a_procesar = input(\"Ingresar direccion:\")\n",
    "print(\"Enter Location: \" + url_a_procesar )\n",
    "# analizar si la direccion ingresada es valida\n",
    "if len(url_a_procesar) < 1:\n",
    "    print(\"Direción ingresada invalida\")\n",
    "else:\n",
    "    url_a_procesar = \"http://py4e-data.dr-chuck.net/comments_776175.xml\"\n",
    "    print(\"Retriving: \" + url_a_procesar)\n",
    "\n",
    "suma_count = 0\n",
    "\n",
    "# open(apertura)  y lectura de la url (similar al tratamiento de un archivo)\n",
    "mi_xml = urllib.request.urlopen(url_a_procesar).read()\n",
    "print(\"Retrieved: \" + str(len(mi_xml))+\" characters\")\n",
    "\n",
    "arbol_de_comentarios = ET.fromstring(mi_xml)\n",
    "\n",
    "counts = arbol_de_comentarios.findall(\".//count\")\n",
    "print(\"Count: \" + str(len(counts)))\n",
    "\n",
    "for leaf_count  in counts:\n",
    "    suma_count = suma_count + int(leaf_count.text)\n",
    "\n",
    "print(\"Sum: \"+ str(suma_count))\n"
   ]
  },
  {
   "cell_type": "code",
   "execution_count": null,
   "metadata": {},
   "outputs": [],
   "source": [
    "import json\n",
    "\n",
    "data = '''\n",
    "{\n",
    "  \"name\" : \"Chuck\",\n",
    "  \"phone\" : {\n",
    "    \"type\" : \"intl\",\n",
    "    \"number\" : \"+1 734 303 4456\"\n",
    "   },\n",
    "   \"email\" : {\n",
    "     \"hide\" : \"yes\"\n",
    "   }\n",
    "}'''\n",
    "\n",
    "info = json.loads(data)\n",
    "print('Name:', info[\"name\"])\n",
    "print('Hide:', info[\"email\"][\"hide\"])\n"
   ]
  },
  {
   "cell_type": "code",
   "execution_count": null,
   "metadata": {},
   "outputs": [],
   "source": [
    "import json\n",
    "\n",
    "data = '''\n",
    "[\n",
    "  { \"id\" : \"001\",\n",
    "    \"x\" : \"2\",\n",
    "    \"name\" : \"Chuck\"\n",
    "  } ,\n",
    "  { \"id\" : \"009\",\n",
    "    \"x\" : \"7\",\n",
    "    \"name\" : \"Brent\"\n",
    "  }\n",
    "]'''\n",
    "\n",
    "info = json.loads(data)\n",
    "print('User count:', len(info))\n",
    "\n",
    "for item in info:\n",
    "    print('Name', item['name'])\n",
    "    print('Id', item['id'])\n",
    "    print('Attribute', item['x'])"
   ]
  },
  {
   "cell_type": "code",
   "execution_count": 1,
   "metadata": {},
   "outputs": [
    {
     "output_type": "stream",
     "name": "stdout",
     "text": [
      "Retrieving http://py4e-data.dr-chuck.net/json?address=Ann+Arbor+MI&key=42\n",
      "Retrieved 1736 characters\n",
      "{\n",
      "    \"results\": [\n",
      "        {\n",
      "            \"address_components\": [\n",
      "                {\n",
      "                    \"long_name\": \"Ann Arbor\",\n",
      "                    \"short_name\": \"Ann Arbor\",\n",
      "                    \"types\": [\n",
      "                        \"locality\",\n",
      "                        \"political\"\n",
      "                    ]\n",
      "                },\n",
      "                {\n",
      "                    \"long_name\": \"Washtenaw County\",\n",
      "                    \"short_name\": \"Washtenaw County\",\n",
      "                    \"types\": [\n",
      "                        \"administrative_area_level_2\",\n",
      "                        \"political\"\n",
      "                    ]\n",
      "                },\n",
      "                {\n",
      "                    \"long_name\": \"Michigan\",\n",
      "                    \"short_name\": \"MI\",\n",
      "                    \"types\": [\n",
      "                        \"administrative_area_level_1\",\n",
      "                        \"political\"\n",
      "                    ]\n",
      "                },\n",
      "                {\n",
      "                    \"long_name\": \"United States\",\n",
      "                    \"short_name\": \"US\",\n",
      "                    \"types\": [\n",
      "                        \"country\",\n",
      "                        \"political\"\n",
      "                    ]\n",
      "                }\n",
      "            ],\n",
      "            \"formatted_address\": \"Ann Arbor, MI, USA\",\n",
      "            \"geometry\": {\n",
      "                \"bounds\": {\n",
      "                    \"northeast\": {\n",
      "                        \"lat\": 42.3239728,\n",
      "                        \"lng\": -83.6758069\n",
      "                    },\n",
      "                    \"southwest\": {\n",
      "                        \"lat\": 42.222668,\n",
      "                        \"lng\": -83.799572\n",
      "                    }\n",
      "                },\n",
      "                \"location\": {\n",
      "                    \"lat\": 42.2808256,\n",
      "                    \"lng\": -83.7430378\n",
      "                },\n",
      "                \"location_type\": \"APPROXIMATE\",\n",
      "                \"viewport\": {\n",
      "                    \"northeast\": {\n",
      "                        \"lat\": 42.3239728,\n",
      "                        \"lng\": -83.6758069\n",
      "                    },\n",
      "                    \"southwest\": {\n",
      "                        \"lat\": 42.222668,\n",
      "                        \"lng\": -83.799572\n",
      "                    }\n",
      "                }\n",
      "            },\n",
      "            \"place_id\": \"ChIJMx9D1A2wPIgR4rXIhkb5Cds\",\n",
      "            \"types\": [\n",
      "                \"locality\",\n",
      "                \"political\"\n",
      "            ]\n",
      "        }\n",
      "    ],\n",
      "    \"status\": \"OK\"\n",
      "}\n",
      "lat 42.2808256 lng -83.7430378\n",
      "Ann Arbor, MI, USA\n",
      "Retrieving http://py4e-data.dr-chuck.net/json?address=Ann+Arbor+MI&key=42\n",
      "Retrieved 1736 characters\n",
      "{\n",
      "    \"results\": [\n",
      "        {\n",
      "            \"address_components\": [\n",
      "                {\n",
      "                    \"long_name\": \"Ann Arbor\",\n",
      "                    \"short_name\": \"Ann Arbor\",\n",
      "                    \"types\": [\n",
      "                        \"locality\",\n",
      "                        \"political\"\n",
      "                    ]\n",
      "                },\n",
      "                {\n",
      "                    \"long_name\": \"Washtenaw County\",\n",
      "                    \"short_name\": \"Washtenaw County\",\n",
      "                    \"types\": [\n",
      "                        \"administrative_area_level_2\",\n",
      "                        \"political\"\n",
      "                    ]\n",
      "                },\n",
      "                {\n",
      "                    \"long_name\": \"Michigan\",\n",
      "                    \"short_name\": \"MI\",\n",
      "                    \"types\": [\n",
      "                        \"administrative_area_level_1\",\n",
      "                        \"political\"\n",
      "                    ]\n",
      "                },\n",
      "                {\n",
      "                    \"long_name\": \"United States\",\n",
      "                    \"short_name\": \"US\",\n",
      "                    \"types\": [\n",
      "                        \"country\",\n",
      "                        \"political\"\n",
      "                    ]\n",
      "                }\n",
      "            ],\n",
      "            \"formatted_address\": \"Ann Arbor, MI, USA\",\n",
      "            \"geometry\": {\n",
      "                \"bounds\": {\n",
      "                    \"northeast\": {\n",
      "                        \"lat\": 42.3239728,\n",
      "                        \"lng\": -83.6758069\n",
      "                    },\n",
      "                    \"southwest\": {\n",
      "                        \"lat\": 42.222668,\n",
      "                        \"lng\": -83.799572\n",
      "                    }\n",
      "                },\n",
      "                \"location\": {\n",
      "                    \"lat\": 42.2808256,\n",
      "                    \"lng\": -83.7430378\n",
      "                },\n",
      "                \"location_type\": \"APPROXIMATE\",\n",
      "                \"viewport\": {\n",
      "                    \"northeast\": {\n",
      "                        \"lat\": 42.3239728,\n",
      "                        \"lng\": -83.6758069\n",
      "                    },\n",
      "                    \"southwest\": {\n",
      "                        \"lat\": 42.222668,\n",
      "                        \"lng\": -83.799572\n",
      "                    }\n",
      "                }\n",
      "            },\n",
      "            \"place_id\": \"ChIJMx9D1A2wPIgR4rXIhkb5Cds\",\n",
      "            \"types\": [\n",
      "                \"locality\",\n",
      "                \"political\"\n",
      "            ]\n",
      "        }\n",
      "    ],\n",
      "    \"status\": \"OK\"\n",
      "}\n",
      "lat 42.2808256 lng -83.7430378\n",
      "Ann Arbor, MI, USA\n"
     ]
    }
   ],
   "source": [
    "import urllib.request, urllib.parse, urllib.error\n",
    "import json\n",
    "import ssl\n",
    "\n",
    "api_key = False\n",
    "# If you have a Google Places API key, enter it here\n",
    "# api_key = 'AIzaSy___IDByT70'\n",
    "# https://developers.google.com/maps/documentation/geocoding/intro\n",
    "\n",
    "if api_key is False:\n",
    "    api_key = 42\n",
    "    serviceurl = 'http://py4e-data.dr-chuck.net/json?'\n",
    "else :\n",
    "    serviceurl = 'https://maps.googleapis.com/maps/api/geocode/json?'\n",
    "\n",
    "# Ignore SSL certificate errors\n",
    "ctx = ssl.create_default_context()\n",
    "ctx.check_hostname = False\n",
    "ctx.verify_mode = ssl.CERT_NONE\n",
    "\n",
    "while True:\n",
    "    address = input('Enter location: ')\n",
    "    if len(address) < 1: break\n",
    "\n",
    "    parms = dict()\n",
    "    parms['address'] = address\n",
    "    if api_key is not False: parms['key'] = api_key\n",
    "    url = serviceurl + urllib.parse.urlencode(parms)\n",
    "\n",
    "    print('Retrieving', url)\n",
    "    uh = urllib.request.urlopen(url, context=ctx)\n",
    "    data = uh.read().decode()\n",
    "    print('Retrieved', len(data), 'characters')\n",
    "\n",
    "    try:\n",
    "        js = json.loads(data)\n",
    "    except:\n",
    "        js = None\n",
    "\n",
    "    if not js or 'status' not in js or js['status'] != 'OK':\n",
    "        print('==== Failure To Retrieve ====')\n",
    "        print(data)\n",
    "        continue\n",
    "\n",
    "    print(json.dumps(js, indent=4))\n",
    "\n",
    "    lat = js['results'][0]['geometry']['location']['lat']\n",
    "    lng = js['results'][0]['geometry']['location']['lng']\n",
    "    print('lat', lat, 'lng', lng)\n",
    "    location = js['results'][0]['formatted_address']\n",
    "    print(location)\n"
   ]
  },
  {
   "cell_type": "code",
   "execution_count": 1,
   "metadata": {},
   "outputs": [
    {
     "output_type": "stream",
     "name": "stdout",
     "text": [
      "User count: 2\nName Chuck\nId 001\nAttribute 2\nName Brent\nId 009\nAttribute 7\n"
     ]
    }
   ],
   "source": [
    "import json\n",
    "\n",
    "data = '''\n",
    "[\n",
    "  { \"id\" : \"001\",\n",
    "    \"x\" : \"2\",\n",
    "    \"name\" : \"Chuck\"\n",
    "  } ,\n",
    "  { \"id\" : \"009\",\n",
    "    \"x\" : \"7\",\n",
    "    \"name\" : \"Brent\"\n",
    "  }\n",
    "]'''\n",
    "\n",
    "info = json.loads(data)\n",
    "print('User count:', len(info))\n",
    "\n",
    "for item in info:\n",
    "    print('Name', item['name'])\n",
    "    print('Id', item['id'])\n",
    "    print('Attribute', item['x'])"
   ]
  },
  {
   "cell_type": "code",
   "execution_count": 26,
   "metadata": {},
   "outputs": [
    {
     "output_type": "stream",
     "name": "stdout",
     "text": [
      "Retrieving http://py4e-data.dr-chuck.net/comments_42.json\n",
      "Retrieved 2711 characters\n",
      "Count:  50\n",
      "Sum:  2553\n",
      "Retrieving http://py4e-data.dr-chuck.net/comments_42.json\n",
      "Retrieved 2711 characters\n",
      "Count:  50\n",
      "Sum:  2553\n"
     ]
    }
   ],
   "source": [
    "import urllib.request, urllib.parse, urllib.error\n",
    "import xml.etree.ElementTree as ET\n",
    "import ssl\n",
    "\n",
    "\n",
    "\n",
    "# Ignore SSL certificate errors\n",
    "ctx = ssl.create_default_context()\n",
    "ctx.check_hostname = False\n",
    "ctx.verify_mode = ssl.CERT_NONE\n",
    "\n",
    "while True:\n",
    "    address = input('Enter location: ')\n",
    "    if len(address) < 1: break\n",
    "\n",
    "    print('Retrieving', address)\n",
    "    uh = urllib.request.urlopen(address, context=ctx)\n",
    "    data = uh.read().decode()\n",
    "    print('Retrieved', len(data), 'characters')\n",
    "\n",
    "    try:\n",
    "        js = json.loads(data)\n",
    "    except:\n",
    "        js = None\n",
    "        \n",
    "    sum_numbers = 0\n",
    "   \n",
    "    for item in js[\"comments\"]:\n",
    "        sum_numbers += int(item.get('count'))\n",
    "        \n",
    "    print(\"Count: \", len(js[\"comments\"]))\n",
    "    print(\"Sum: \", sum_numbers)"
   ]
  },
  {
   "cell_type": "code",
   "execution_count": 9,
   "metadata": {},
   "outputs": [
    {
     "output_type": "stream",
     "name": "stdout",
     "text": [
      "Retrieving http://py4e-data.dr-chuck.net/json?address=South+Federal+University&key=42\n",
      "Retrieved 2290 characters\n",
      "lat 39.6602386 lng -105.0279355\n",
      "ChIJJ2MNmPl_bIcRt8t5x-X5ZhQ\n",
      "Retrieving http://py4e-data.dr-chuck.net/json?address=South+Federal+University&key=42\n",
      "Retrieved 2290 characters\n",
      "lat 39.6602386 lng -105.0279355\n",
      "ChIJJ2MNmPl_bIcRt8t5x-X5ZhQ\n",
      "Retrieving http://py4e-data.dr-chuck.net/json?address=South+Federal+University&key=42\n",
      "Retrieved 2290 characters\n",
      "lat 39.6602386 lng -105.0279355\n",
      "ChIJJ2MNmPl_bIcRt8t5x-X5ZhQ\n",
      "Retrieving http://py4e-data.dr-chuck.net/json?address=Kaunas+Technology+University&key=42\n",
      "Retrieved 2120 characters\n",
      "lat 54.898991 lng 23.912825\n",
      "ChIJiUOy_nQi50YR3wAbo1OCGeY\n"
     ]
    }
   ],
   "source": [
    "import urllib.request, urllib.parse, urllib.error\n",
    "import json\n",
    "import ssl\n",
    "\n",
    "api_key = False\n",
    "# If you have a Google Places API key, enter it here\n",
    "# api_key = 'AIzaSy___IDByT70'\n",
    "\n",
    "\n",
    "\n",
    "# API endopoint suministrado por drchuck\n",
    "if api_key is False:\n",
    "    api_key = 42\n",
    "    serviceurl = 'http://py4e-data.dr-chuck.net/json?'\n",
    "\n",
    "\n",
    "# Ignore SSL certificate errors\n",
    "ctx = ssl.create_default_context()\n",
    "ctx.check_hostname = False\n",
    "ctx.verify_mode = ssl.CERT_NONE\n",
    "\n",
    "while True:\n",
    "    address = input('Enter location: ')\n",
    "    if len(address) < 1: break\n",
    "\n",
    "    parms = dict()\n",
    "    parms['address'] = address\n",
    "    if api_key is not False: parms['key'] = api_key\n",
    "    url = serviceurl + urllib.parse.urlencode(parms)\n",
    "\n",
    "    print('Retrieving', url)\n",
    "    uh = urllib.request.urlopen(url, context=ctx)\n",
    "    data = uh.read().decode()\n",
    "    print('Retrieved', len(data), 'characters')\n",
    "\n",
    "    try:\n",
    "        js = json.loads(data)\n",
    "    except:\n",
    "        js = None\n",
    "\n",
    "    if not js or 'status' not in js or js['status'] != 'OK':\n",
    "        print('==== Failure To Retrieve ====')\n",
    "        continue\n",
    "\n",
    "    \n",
    "    place = js['results'][0]['place_id']\n",
    "    print(\"Place id\" , place)\n",
    "    "
   ]
  },
  {
   "cell_type": "code",
   "execution_count": 1,
   "metadata": {},
   "outputs": [
    {
     "output_type": "stream",
     "name": "stdout",
     "text": [
      "Hasta ahora 1\nHasta ahora 2\nHasta ahora 3\nHasta ahora 4\n"
     ]
    }
   ],
   "source": [
    "class GrupoAnimal:\n",
    "    x = 0\n",
    "\n",
    "    def grupo(self) :\n",
    "        self.x = self.x + 1\n",
    "        print(\"Hasta ahora\",self.x)\n",
    "\n",
    "an = GrupoAnimal()\n",
    "an.grupo()\n",
    "an.grupo()\n",
    "an.grupo()\n",
    "GrupoAnimal.grupo(an)"
   ]
  },
  {
   "cell_type": "code",
   "execution_count": null,
   "metadata": {},
   "outputs": [],
   "source": []
  }
 ],
 "metadata": {
  "kernelspec": {
   "display_name": "Python 3",
   "language": "python",
   "name": "python3"
  },
  "language_info": {
   "codemirror_mode": {
    "name": "ipython",
    "version": 3
   },
   "file_extension": ".py",
   "mimetype": "text/x-python",
   "name": "python",
   "nbconvert_exporter": "python",
   "pygments_lexer": "ipython3",
   "version": "3.7.6-final"
  }
 },
 "nbformat": 4,
 "nbformat_minor": 4
}