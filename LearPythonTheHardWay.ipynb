{
 "cells": [
  {
   "cell_type": "code",
   "execution_count": 1,
   "metadata": {},
   "outputs": [
    {
     "name": "stdout",
     "output_type": "stream",
     "text": [
      "Hola mundo\n"
     ]
    }
   ],
   "source": [
    "print (\"Hola mundo\")"
   ]
  },
  {
   "cell_type": "code",
   "execution_count": 1,
   "metadata": {
    "tags": []
   },
   "outputs": [
    {
     "output_type": "stream",
     "name": "stdout",
     "text": "hola mundo y comendo\nhola mundo de vuelta \n"
    }
   ],
   "source": [
    "# Un comentario es importante usalo\n",
    "\n",
    "print(\"hola mundo y comendo\")\n",
    "\n",
    "# Tambien puedo hacer esto jajaja\n",
    "\n",
    "print(\"hola mundo de vuelta \")\n"
   ]
  },
  {
   "cell_type": "code",
   "execution_count": 3,
   "metadata": {
    "tags": []
   },
   "outputs": [
    {
     "output_type": "stream",
     "name": "stdout",
     "text": "comendo y munfo hola\nvuelta de mundo hola\n"
    }
   ],
   "source": [
    "# usalo importante es comentar Un\n",
    "\n",
    "print( \"comendo y munfo hola\")\n",
    "\n",
    "# jajaja esto hacer puedo Tambien\n",
    "\n",
    "print(\"vuelta de mundo hola\")"
   ]
  },
  {
   "cell_type": "code",
   "execution_count": 1,
   "metadata": {
    "tags": []
   },
   "outputs": [
    {
     "output_type": "stream",
     "name": "stdout",
     "text": "ahora voy a contar mis gallinas\nLara 35.5\nTom 10\n32\nTrue\n la suma de pollitos es: 9\n la suma de polliltos es: 21\no asi que era verdadero al final\n"
    }
   ],
   "source": [
    "\n",
    "# Que voy a hacer\n",
    "\n",
    "print (\"ahora voy a contar mis gallinas\")\n",
    "\n",
    "# el Peso de la gallina Lara\n",
    "\n",
    "print (\"Lara\", 24 + 23 / 2 )\n",
    "\n",
    "# el Peso del gallo Tom\n",
    "\n",
    "print (\"Tom\", 10 - 2 * 3 % 2)\n",
    "\n",
    "# Ahora voy a contar los huevos del gallinero\n",
    "\n",
    "print ( 2 + 1 + 2 + 3 + 4 + 5 + 5 + 2 + 3 + 5)\n",
    "\n",
    "# comprobemos que 1 es menor que 9 segun la logica\n",
    "\n",
    "print ( 3 - 2 < 12 - 2)\n",
    "\n",
    "# sumando polluelos\n",
    "\n",
    "print ( \" la suma de pollitos es:\",  3 + 2 + 4) \n",
    "print ( \" la suma de polliltos es:\", 6 + 8 + 7)\n",
    "\n",
    "# vemos que puedo ver lo que escribo\n",
    "\n",
    "print (\"o asi que era verdadero al final\")"
   ]
  },
  {
   "cell_type": "code",
   "execution_count": 2,
   "metadata": {
    "tags": []
   },
   "outputs": [
    {
     "output_type": "stream",
     "name": "stdout",
     "text": "autos disponibles 100\n plaza_disponibles_por_vehiculo 400\npasajeros por emprender viaje 234\ncantidad de plazas vacantes 166\n"
    }
   ],
   "source": [
    "# asignacion de variables en python \n",
    "\n",
    "autos = 100\n",
    "plazas_en_auto = 4\n",
    "pasajeros_por_viajar = 234\n",
    "plazas_disponibles = autos * plazas_en_auto\n",
    "lugares_disponibles = plazas_disponibles - pasajeros_por_viajar\n",
    "\n",
    "# Cantidad de autos disponibles para los viajes\n",
    " \n",
    "print ( \" autos disponibles\", autos)\n",
    "\n",
    "# cantidad de plazas disponibles en el auto\n",
    "\n",
    "print (\" plaza_disponibles_por_vehiculo\", plazas_disponibles)\n",
    "\n",
    "# cantidad de pasajeros a emprender un viaje \n",
    "\n",
    "print (\"pasajeros por emprender viaje\",pasajeros_por_viajar)\n",
    "\n",
    "# Cantidad de lugares disponibles para ser ocupados por pasajeros\n",
    "\n",
    "print (\"cantidad de plazas vacantes\", lugares_disponibles)\n",
    "\n",
    "\n",
    "\n",
    "\n",
    "\n",
    "\n"
   ]
  },
  {
   "cell_type": "code",
   "execution_count": 28,
   "metadata": {
    "tags": []
   },
   "outputs": [
    {
     "output_type": "stream",
     "name": "stdout",
     "text": "Existen 10 tipos de personas\nAquellos que saben binario y las que no\nIsn't that joke so funny?! False\n Este es la perte izquierda.--- un string del lado derecho\n"
    }
   ],
   "source": [
    "\n",
    "# ejercicio numero 10 python hard way\n",
    "\n",
    "tipos_de_personas = 10\n",
    "x = f\"Existen {tipos_de_personas} tipos de personas\"\n",
    "\n",
    "las_que_saben_binario = \"binario\"\n",
    "las_que_no_saben_binario = \"las que no\"\n",
    "y = f\"Aquellos que saben {las_que_saben_binario} y {las_que_no_saben_binario}\"\n",
    "\n",
    "print(x)\n",
    "print(y)\n",
    "\n",
    "hilarious = False\n",
    "joke_evaluation = \"Isn't that joke so funny?! {}\"\n",
    "\n",
    "print (joke_evaluation.format(hilarious))\n",
    "\n",
    "w = \" Este es la perte izquierda.---\"\n",
    "e = \" un string del lado derecho\"\n",
    "\n",
    "print (w + e)"
   ]
  },
  {
   "cell_type": "code",
   "execution_count": 7,
   "metadata": {
    "tags": []
   },
   "outputs": [
    {
     "output_type": "stream",
     "name": "stdout",
     "text": "Mary tenia un lindo corderito\nera blanco como la snow. \nY fue andondequiera que Mary iba\n..........\nCheese Buger\n"
    }
   ],
   "source": [
    "print(\"Mary tenia un lindo corderito\")\n",
    "print(\"era blanco como la {}. \".format(\"snow\"))\n",
    "print(\"Y fue andondequiera que Mary iba\")\n",
    "print(\".\" * 10) # que hace esto ?\n",
    "\n",
    "end1 = \"C\"\n",
    "end2 = \"h\"\n",
    "end3 = \"e\"\n",
    "end4 = \"e\"\n",
    "end5 = \"s\"\n",
    "end6 = \"e\"\n",
    "end7 = \"B\"\n",
    "end8 = \"u\"\n",
    "end9 = \"r\"\n",
    "end10 = \"g\"\n",
    "end11 = \"e\"\n",
    "end12 = \"r\"\n",
    "\n",
    "# mira end = \" \" al final. Trata de remover para ver que psa\n",
    "print (end1 + end2 + end3 + end4 + end5 + end6, end=\" \")\n",
    "print (end7 + end8 + end10 + end11 + end12)\n",
    "\n"
   ]
  },
  {
   "cell_type": "code",
   "execution_count": 8,
   "metadata": {
    "tags": []
   },
   "outputs": [
    {
     "output_type": "stream",
     "name": "stdout",
     "text": "me quede en problema 8 en lear the hard way\n"
    }
   ],
   "source": [
    "print(\"me quede en problema 8 en lear the hard way\")"
   ]
  },
  {
   "cell_type": "code",
   "execution_count": 6,
   "metadata": {
    "tags": []
   },
   "outputs": [
    {
     "output_type": "stream",
     "name": "stdout",
     "text": "1 2 3 4\none dos tres cuatro\nTrue False False True\n{} {} {} {} {} {} {} {} {} {} {} {} {} {} {} {}\nproba vos Tu propio texto Puede ser un poema o una cancion acerca de la felicidad\n"
    }
   ],
   "source": [
    "# ejecicio 8 lear the hard way\n",
    "\n",
    "formatter = \"{} {} {} {}\"\n",
    "\n",
    "print(formatter.format(1, 2, 3, 4))\n",
    "print(formatter.format(\"one\", \"dos\", \"tres\", \"cuatro\"))\n",
    "print(formatter.format(True, False, False, True))\n",
    "print(formatter.format(formatter, formatter, formatter, formatter))\n",
    "print(formatter.format(\n",
    "    \"proba vos\",\n",
    "    \"Tu propio texto\",\n",
    "    \"Puede ser un poema\",\n",
    "    \"o una cancion acerca de la felicidad\"\n",
    "))\n"
   ]
  },
  {
   "cell_type": "code",
   "execution_count": 9,
   "metadata": {
    "tags": []
   },
   "outputs": [
    {
     "output_type": "stream",
     "name": "stdout",
     "text": "Aqui estan los dias:  Lun Mar Mie Jue Vie Sab Dom\nAqui estan los meses:   \nEne\nFeb\nMar\nAbr\nMay\nJun\nJul\nAgo\n\nHay algo ocurriendo aqui.\ncon estas triple cuotes.\npodemos escribir lo que queramos.\nTal ves 4, 5, 6 lineas de comentarios.\n\n"
    }
   ],
   "source": [
    "\n",
    "dias = \"Lun Mar Mie Jue Vie Sab Dom\"\n",
    "meses = \" \\nEne\\nFeb\\nMar\\nAbr\\nMay\\nJun\\nJul\\nAgo\"\n",
    "\n",
    "print( \"Aqui estan los dias: \", dias)\n",
    "print( \"Aqui estan los meses: \", meses)\n",
    "\n",
    "print(\"\"\"\n",
    "Hay algo ocurriendo aqui.\n",
    "con estas triple cuotes.\n",
    "podemos escribir lo que queramos.\n",
    "Tal ves 4, 5, 6 lineas de comentarios.\n",
    "\"\"\")"
   ]
  },
  {
   "cell_type": "code",
   "execution_count": 13,
   "metadata": {
    "tags": []
   },
   "outputs": [
    {
     "output_type": "stream",
     "name": "stdout",
     "text": "Yo soy el gato tabi and I'm bad cat\nI'm partir\nesta linea\nI'm \\ a \\ cat\n\nI'll do a list:\n\t* Cat food\n\t* Pescados\n\t* Catnip\n\t* grass\n\n"
    }
   ],
   "source": [
    "\n",
    " gato_tabi = \"\\tYo soy el gato tabi and I'm bad cat\"\n",
    " gato_persa = \"I'm partir\\nesta linea\"\n",
    " gato_negro = \"I'm \\\\ a \\\\ cat\"\n",
    "\n",
    " gato_gordo = \"\"\"\n",
    " I'll do a list:\n",
    " \\t* Cat food\n",
    " \\t* Pescados\n",
    " \\t* Catnip\\n\\t* grass\n",
    " \"\"\"\n",
    " \n",
    " print(gato_tabi)\n",
    " print(gato_persa)\n",
    " print(gato_negro)\n",
    " print(gato_gordo)"
   ]
  },
  {
   "cell_type": "code",
   "execution_count": 14,
   "metadata": {
    "tags": []
   },
   "outputs": [
    {
     "output_type": "stream",
     "name": "stdout",
     "text": "que edad tienesque tan alto eres:cuantos pesasasi, que tu tienes 34 años, 1,78 de alto y 83 de peso\n"
    }
   ],
   "source": [
    "\n",
    "print(\"que edad tienes\", end=' ')\n",
    "age = input()\n",
    "print(\"que tan alto eres:\", end= ' ')\n",
    "altura = input()\n",
    "print(\"cuantos pesas\", end= ' ')\n",
    "peso = input()\n",
    "\n",
    "print(f\"asi, que tu tienes {age} años, {altura} de alto y {peso} de peso\")\n"
   ]
  },
  {
   "cell_type": "code",
   "execution_count": 15,
   "metadata": {
    "tags": []
   },
   "outputs": [
    {
     "output_type": "stream",
     "name": "stdout",
     "text": "Asi, que tu tienes 34 años, 1.59 de alto y pesas 68kg\n"
    }
   ],
   "source": [
    "edad = input( \" que edad tienes tu\")\n",
    "altura = input( \" que altura tienes tu\")\n",
    "peso = input (\" que peso tienes tu\")\n",
    "\n",
    "print(f\"Asi, que tu tienes {edad} años, {altura} de alto y pesas {peso}kg\")"
   ]
  },
  {
   "cell_type": "code",
   "execution_count": 16,
   "metadata": {},
   "outputs": [
    {
     "output_type": "error",
     "ename": "ValueError",
     "evalue": "not enough values to unpack (expected 4, got 3)",
     "traceback": [
      "\u001b[0;31m---------------------------------------------------------------------------\u001b[0m",
      "\u001b[0;31mValueError\u001b[0m                                Traceback (most recent call last)",
      "\u001b[0;32m<ipython-input-16-03196ddd7925>\u001b[0m in \u001b[0;36m<module>\u001b[0;34m\u001b[0m\n\u001b[1;32m      2\u001b[0m \u001b[0;31m# leer el WYSS section para correr esto\u001b[0m\u001b[0;34m\u001b[0m\u001b[0;34m\u001b[0m\u001b[0;34m\u001b[0m\u001b[0m\n\u001b[1;32m      3\u001b[0m \u001b[0;34m\u001b[0m\u001b[0m\n\u001b[0;32m----> 4\u001b[0;31m \u001b[0mscript\u001b[0m\u001b[0;34m,\u001b[0m \u001b[0mfirst\u001b[0m\u001b[0;34m,\u001b[0m \u001b[0msecond\u001b[0m\u001b[0;34m,\u001b[0m \u001b[0mthirt\u001b[0m \u001b[0;34m=\u001b[0m \u001b[0margv\u001b[0m\u001b[0;34m\u001b[0m\u001b[0;34m\u001b[0m\u001b[0m\n\u001b[0m\u001b[1;32m      5\u001b[0m \u001b[0;34m\u001b[0m\u001b[0m\n\u001b[1;32m      6\u001b[0m \u001b[0mprint\u001b[0m\u001b[0;34m(\u001b[0m\u001b[0;34m\" el script es llamado:\"\u001b[0m\u001b[0;34m,\u001b[0m \u001b[0mscript\u001b[0m\u001b[0;34m)\u001b[0m\u001b[0;34m\u001b[0m\u001b[0;34m\u001b[0m\u001b[0m\n",
      "\u001b[0;31mValueError\u001b[0m: not enough values to unpack (expected 4, got 3)"
     ]
    }
   ],
   "source": [
    "\n",
    "from sys import argv\n",
    "# leer el WYSS section para correr esto\n",
    "\n",
    "script, first, second, thirt = argv\n",
    "\n",
    "print(\" el script es llamado:\", script)\n",
    "print(\" tu primera variable es: \", first)\n",
    "print(\" tu segunda variable es:\", second)\n",
    "print( \" tu tercera variable es:\", third)\n",
    "\n",
    "# si creamos un script.py y lo corremos pasandole \n",
    "# los argumentos definidos podemos obtener los resultados esperados \n",
    "# generadso por print\n",
    "# par ello ejecutar: python3.6 nombre_script.py stuff thing that \n",
    "# ingresamos los parametros de entrada que necesita el script"
   ]
  },
  {
   "cell_type": "code",
   "execution_count": null,
   "metadata": {},
   "outputs": [],
   "source": [
    "#   hacer esto en un archivo llamado test_argv.py\n",
    "\n",
    "from sys import argv\n",
    "\n",
    "script, nombre_usuario = argv\n",
    "prompt = '> '\n",
    "\n",
    "print (f\" hola {nombre_usuario}, yo soy el {script} script.\")\n",
    "print (\" Me gustaria preguntar algunas cosas\")\n",
    "print (f\"Te gusta mi {nombre_usuario} ?\" )\n",
    "me_gusta = input(prompt)\n",
    "\n",
    "print(f\"Donde vives tu {nombre_usuario}\")\n",
    "direccion = input (prompt)\n",
    "\n",
    "print( \"Que clase de computadora tienes?\")\n",
    "computadora = input(prompt)\n",
    "\n",
    "print(f\"\"\"\n",
    "Bien, me has respondido que {me_gusta} te gusta tu nombre.\n",
    "Que tu vives en {direccion}. Aunque realmente no se donde esta eso.\n",
    "Y que tienes una computadora {computadora} ... que bichito lindo\n",
    "\"\"\")\n",
    "\n",
    "# para ejecutar  en terminar > python test_argv.py  theNoobMaster\n",
    "\"\"\"\n",
    "hola theNoobMaster, yo soy el test_argv.py script.\n",
    "Me gustaria preguntar algunas cosas\n",
    "Te gusta mi theNoobMaster ?\n",
    "> si\n",
    "Donde vives tu theNoobMaster\n",
    "> chaco\n",
    "Que clase de computadora tienes?\n",
    "> un maquina gamer\n",
    "\n",
    "Bien, me has respondido que si te gusta tu nombre.\n",
    "Que tu vives en chaco. Aunque realmente no se donde esta eso.\n",
    "Y que tienes una computadora un maquina gamer ... que bichito lindo\n",
    "\n",
    "\"\"\""
   ]
  },
  {
   "cell_type": "code",
   "execution_count": null,
   "metadata": {},
   "outputs": [],
   "source": [
    "from sys import argv\n",
    "\n",
    "# para correr el script requiero del nombre del script (ex15.py) y de un parametro de entrada (ex_15_sample.txt) para poder ejecutar mi script\n",
    "script, filename = argv\n",
    "\n",
    "# devuelve el \"file object\" el cual pude ser leido mas adelante en txt\n",
    "txt = open (filename)\n",
    "\n",
    "#muestra el nombre del script pasado como parametro\n",
    "print(f\"Aqui esta tu archivo {filename}:\")\n",
    "\n",
    "# muestra el contenido del script pasado a la variable txt\n",
    "print (txt.read())\n",
    "\n",
    "#solicita nuevamente que se ingrese el nombre del script (pasado como $parametro)\n",
    "print(\" Ingresa nuevamente el nombre del archivo:\")\n",
    "\n",
    "# permite que se abra una consolo para poder ingresar el nombre \n",
    "# del parametro (nombre del script a pasar)\n",
    "file_again = input (\"> \")\n",
    "\n",
    "# con el nombre pasado, y  se devuelve el \"file object\" el cual pude ser leido mas adelante en txt_again\n",
    "txt_again = open (file_again)\n",
    "\n",
    "# se muestra por pantalla el contenido del parametro/script pasado \n",
    "print(txt_again.read())\n",
    "\n"
   ]
  },
  {
   "cell_type": "code",
   "execution_count": null,
   "metadata": {},
   "outputs": [],
   "source": [
    "from sys import argv\n",
    "\n",
    "script, filename = argv\n",
    "\n",
    "print (f\" vamos a borrar el contenido de un archivo {filename})\n",
    "print(\"si no deseas borrarlo presiona CTRL-C \")\n",
    "print(\"Si tu quires eso, presiona RETURN\")\n",
    "\n",
    "# Ingreso \n",
    "input(\"?\")\n",
    "\n",
    "#abrimos el archivo que pasamos como parametro\n",
    "print(\"abriendo un archivo\")\n",
    "\n",
    "# abrimos el archivo en modo escritura(\"w\"), si solo lo abrimos sin \n",
    "# el modo escritura, por defecto open() esta en modo de solo lectura(\"r\") por # lo que no vamos  a poder hacer nuestra operacion de esta forma.\n",
    "target = open(filename, 'w')\n",
    "\n",
    "print(\"truncando el archivo. ADIOS archivito\")\n",
    "target.truncate()\n",
    "\n",
    "print(\"ahora voy a solicitarte que escribas 3 lineas de texto\")\n",
    "\n",
    "linea1 = input(\"line 1: \")\n",
    "linea2 = input(\"line 2: \")\n",
    "linea3 = input(\"line 3: \")\n",
    "\n",
    "print(\"ahora voy a pasar las lineas que escribiste a un archivo recien borrado\")\n",
    "\n",
    "target.write(linea1)\n",
    "target.write(\"\\n\")\n",
    "target.write(linea2)\n",
    "target.write(\"\\n\")\n",
    "target.write(linea3)\n",
    "target.write(\"\\n\")\n",
    "\n",
    "print(\"and finalmente, vamos a cerrar el archivo que abrimos al comienzo\")"
   ]
  },
  {
   "cell_type": "code",
   "execution_count": null,
   "metadata": {},
   "outputs": [],
   "source": [
    "from sys import argv\n",
    "from os.path import exists\n",
    "\n",
    "script, archivo_fuente, archivo_destino = argv\n",
    "\n",
    "print(f\"Copinado desde {archivo_destino} al {archivo_destino}\")\n",
    "\n",
    "# podemos hacer esto solo en una linea, COMO ?\n",
    "archivo_de_entrada = open(archivo_fuente)\n",
    "datos_in = archivo_de_entrada.read()\n",
    "\n",
    "print(f\"los archivos de entrada tiene {len(datos_in)} bytes de tamaño\"})\n",
    "\n",
    "print(f\" el archivo destino EXISTE? {exists(archivo_destino)}\")\n",
    "print(\"Listo, presionar ENTER para continuar, CRTL-C para abortar.\")\n",
    "input()\n",
    "\n",
    "archivo_resultado = open(archivo_destino,'w')\n",
    "archivo_resultado.write.(datos_in)\n",
    "\n",
    "print(\"Todo listo muchachos tu archivito esta escrito, bye bye\")\n",
    "\n",
    "archivo_de_entrada.close()\n",
    "archivo_resultado.close()\n",
    "\n",
    "\n",
    "\n",
    "\n",
    "\n",
    "\n",
    "\n",
    "\n"
   ]
  },
  {
   "cell_type": "code",
   "execution_count": 1,
   "metadata": {
    "tags": []
   },
   "outputs": [
    {
     "output_type": "stream",
     "name": "stdout",
     "text": "arg1: colonia, arg2:benitez\narg1: resistencia, arg2:chaco\narg1: Argentina\nno recibo nada de parametros pero devulvo un print al menos\n"
    }
   ],
   "source": [
    "# funciones en python\n",
    "\n",
    "def print_dos (*args):\n",
    "    arg1, arg2 = args\n",
    "    print(f\"arg1: {arg1}, arg2:{arg2}\")\n",
    "\n",
    "# lo mismo pero diferente\n",
    "\n",
    "def print_dos_devuelta(arg1, arg2):\n",
    "    print(f\"arg1: {arg1}, arg2:{arg2}\")\n",
    "\n",
    "# si solo toma un argumento\n",
    "def print_uno (arg1):\n",
    "    print(f\"arg1: {arg1}\")\n",
    "\n",
    "# Esta no toma ningun argumento\n",
    "def print_cero():\n",
    "    print(\"no recibo nada de parametros pero devulvo un print al menos\")\n",
    "\n",
    "print_dos(\"colonia\", \"benitez\")\n",
    "print_dos_devuelta(\"resistencia\", \"chaco\")\n",
    "print_uno(\"Argentina\")\n",
    "print_cero()\n",
    "\n",
    "\n",
    "\n",
    "\n",
    "\n",
    "\n"
   ]
  },
  {
   "cell_type": "code",
   "execution_count": 6,
   "metadata": {
    "tags": []
   },
   "outputs": [
    {
     "output_type": "stream",
     "name": "stdout",
     "text": "Podemos darle directamente numeros a la funcion\nvos tenes 20 piezas de queso\nvos tenes 34 cajas de galletitas\nWOW eso es suficiente para las fiesta!!!\nBusquemos una frazada. \n\n O, podemos usar variables de nuestro script\nvos tenes 32 piezas de queso\nvos tenes 34 cajas de galletitas\nWOW eso es suficiente para las fiesta!!!\nBusquemos una frazada. \n\nHasta podemos hacer matematicas con los parametros de la funcion\nvos tenes 7 piezas de queso\nvos tenes 46 cajas de galletitas\nWOW eso es suficiente para las fiesta!!!\nBusquemos una frazada. \n\nY hasta podemos conbinar las variables y la operaciones matematicas  para definir los parametros de entrada\nvos tenes 55 piezas de queso\nvos tenes 30 cajas de galletitas\nWOW eso es suficiente para las fiesta!!!\nBusquemos una frazada. \n\n"
    }
   ],
   "source": [
    "# mas funciones\n",
    "\n",
    "def queso_y_galletas(contador_queso, cajas_de_galletitas):\n",
    "    print(f\"vos tenes {contador_queso} piezas de queso\")\n",
    "    print(f\"vos tenes {cajas_de_galletitas} cajas de galletitas\")\n",
    "    print(\"WOW eso es suficiente para las fiesta!!!\")\n",
    "    print(\"Busquemos una frazada. \\n\")\n",
    "\n",
    "print(\"Podemos darle directamente numeros a la funcion\")\n",
    "queso_y_galletas(20, 34)\n",
    "\n",
    "print(\" O, podemos usar variables de nuestro script\")\n",
    "cantidad_galletitas = 32\n",
    "cantidad_piezas_queso = 34\n",
    "\n",
    "queso_y_galletas(cantidad_galletitas, cantidad_piezas_queso)\n",
    " \n",
    "print(\"Hasta podemos hacer matematicas con los parametros de la funcion\")\n",
    "queso_y_galletas(10 - 3, 43 + 3)\n",
    "\n",
    "print(\"Y hasta podemos conbinar las variables y la operaciones matematicas  para definir los parametros de entrada\")\n",
    "queso_y_galletas(cantidad_galletitas + 23, cantidad_piezas_queso - 4)\n",
    "\n",
    " "
   ]
  },
  {
   "cell_type": "code",
   "execution_count": null,
   "metadata": {},
   "outputs": [],
   "source": [
    "from sys import argv\n",
    "\n",
    "script, archivo_entrada = argv\n",
    "\n",
    "def print_todo(f):\n",
    "    print(f.read())\n",
    "\n",
    "def rewind(f):\n",
    "    f.seek(0)\n",
    "\n",
    "def print_a_line(contador_lineas, f):\n",
    "    print(contador_linea, f.readline())\n",
    "\n",
    "archivo_actual = open(archivo_entrada)\n",
    "\n",
    "print(\"Primero imprimamos todo el archivo: \\n\")\n",
    "\n",
    "print_todo(archivo_actual)\n",
    "\n",
    "print(\"ahora revovinemos el archivo, como si fuera una cinta\")\n",
    "\n",
    "rewind(archivo_actual)\n",
    "\n",
    "print(\"Imprimamos las 3 primeras lineas\")\n",
    "\n",
    "linea_actual = 1\n",
    "print_una_linea(linea_actual, archivo_actual)\n",
    "\n",
    "linea_actual = linea_actual + 1 \n",
    "print_una_linea(linea_actual, archivo_actual )\n",
    "\n",
    "linea_actual = linea_actual + 1\n",
    "print_una_linea(linea_actual, archivo_actual)\n",
    "\n",
    "\n",
    "\n",
    "\n",
    "\n",
    "\n",
    "\n",
    "\n",
    "           \n",
    "\n",
    "\n",
    "\n",
    "\n"
   ]
  },
  {
   "cell_type": "code",
   "execution_count": 8,
   "metadata": {
    "tags": []
   },
   "outputs": [
    {
     "output_type": "stream",
     "name": "stdout",
     "text": "Practiquemos unas operaciones matematicas: \nSumando: 23 + 5\nRestando: 178 - 5\nMultiplicando: 78 * 1.2\nDividiendo: 124 + 2\nla edad es:28, la altura es:173, el peso es:93.6, IQ:62.0\naqui esta un acertijo\nDividiendo: 62.0 + 2\nMultiplicando: 93.6 * 31.0\nRestando: 173 - 2901.6\nSumando: 28 + -2728.6\nEso te conviente en: -2700.6 Puedes hacerlo a mano?\n"
    }
   ],
   "source": [
    "def sumar(a, b):\n",
    "    print(f\"Sumando: {a} + {b}\")\n",
    "    return a + b\n",
    "\n",
    "def restar(a, b):\n",
    "    print(f\"Restando: {a} - {b}\")\n",
    "    return a - b\n",
    "\n",
    "def multiplicar(a, b):\n",
    "    print(f\"Multiplicando: {a} * {b}\")\n",
    "    return a * b\n",
    "\n",
    "def dividir(a, b):\n",
    "    print(f\"Dividiendo: {a} + {b}\")\n",
    "    return a / b \n",
    "\n",
    "print(\"Practiquemos unas operaciones matematicas: \")\n",
    "edad = sumar(23, 5)\n",
    "altura = restar( 178, 5)\n",
    "peso = multiplicar( 78, 1.2)\n",
    "iq = dividir(124, 2)\n",
    "\n",
    "print(f\"la edad es:{edad}, la altura es:{altura}, el peso es:{peso}, IQ:{iq}\")\n",
    "\n",
    "# un puzzle para creditos extra.\n",
    "\n",
    "print(\"aqui esta un acertijo\")\n",
    "\n",
    "que = sumar(edad, restar(altura, multiplicar(peso, dividir(iq,2))))\n",
    "\n",
    "print(\"Eso te conviente en:\", que, \"Puedes hacerlo a mano?\")\n",
    "\n",
    "\n",
    "\n"
   ]
  },
  {
   "cell_type": "code",
   "execution_count": null,
   "metadata": {},
   "outputs": [],
   "source": [
    "import sys \n",
    "\n",
    "script, entrada_codificada, error = sys.argv\n",
    "\n",
    "def main(archivo_lenguages, encoding, errors):\n",
    "    linea = archivo_lenguages.readline()\n",
    "    if linea:\n",
    "        print_linea(linea, encoding, errors)\n",
    "        return main(archivo_lenguages, encoding, errors)\n",
    "\n",
    "def print_linea(linea, encoding, errors):\n",
    "    proximo_leng = linea.strip()\n",
    "    raw_bytes = proximo_leng.encode(encoding, errors=errors)\n",
    "    string_cocinado = raw_bytes.decode(encoding, errors=errors)\n",
    "\n",
    "    print(raw_bytes, \"<===>\", string_cocinado)\n",
    "\n",
    "language = open(\"languages.txt\", encoding=\"utf-8\")\n",
    "\n",
    "main(language, entrada_codificada, error)\n"
   ]
  },
  {
   "cell_type": "code",
   "execution_count": 11,
   "metadata": {
    "tags": []
   },
   "outputs": [
    {
     "output_type": "stream",
     "name": "stdout",
     "text": "vamos a practicar de todo\nvos 'd necesitas saber ' acerca de los escapes con \\ que hacen\n\n nuevas lineas y \t tabulador\n-------------\n\n\t El mundo amoroso\ncon la logica tan firmemente plantada\nno puede disernir \n las necesidades del amor\nni tampoco comprender la pasion de la intuicion\nya que requiere de una explicacion\n\n\t\\ la cual no existe.\n\n-------------\nesto deberia dar cinco: 5\nCon un punto inicial de: 10000\nTenemos 5000000 maiz, 5000.0 miel, y 50.0 azucar.\nPodemos hacerlo de esta forma\nwe' tenemos 500000.0 maiz, 500.0 miel, y 5.0 azucar.\n"
    }
   ],
   "source": [
    "print(\"vamos a practicar de todo\")\n",
    "print(\"vos \\'d necesitas saber \\' acerca de los escapes con \\\\ que hacen\")\n",
    "print(\"\\n nuevas lineas y \\t tabulador\")\n",
    "\n",
    "poema = \"\"\"\n",
    "\\t El mundo amoroso\n",
    "con la logica tan firmemente plantada\n",
    "no puede disernir \\n las necesidades del amor\n",
    "ni tampoco comprender la pasion de la intuicion\n",
    "ya que requiere de una explicacion\n",
    "\\n\\t\\ la cual no existe.\n",
    "\"\"\"\n",
    "\n",
    "print(\"-------------\")\n",
    "print(poema)\n",
    "print(\"-------------\")\n",
    "\n",
    "cinco = 10 - 2 + 3 - 6 \n",
    "print(f\"esto deberia dar cinco: {cinco}\")\n",
    "\n",
    "def formula_secreta(comienzo):\n",
    "    caramelos = comienzo * 500\n",
    "    miel = caramelos / 1000\n",
    "    azucar = miel / 100\n",
    "    return caramelos, miel, azucar\n",
    "\n",
    "punto_inicial = 10000\n",
    "maiz, miel, azucar = formula_secreta(punto_inicial)\n",
    "\n",
    "# Esto es solo una forma de formatear un STRING\n",
    "\n",
    "print(\"Con un punto inicial de: {}\".format(punto_inicial))\n",
    "# Es solo otra forma de usar f \"\" string\n",
    "print(f\"Tenemos {maiz} maiz, {miel} miel, y {azucar} azucar.\")\n",
    "\n",
    "punto_inicial = punto_inicial / 10\n",
    "print(\"Podemos hacerlo de esta forma\")\n",
    "formula = formula_secreta(punto_inicial)\n",
    "# Esta es una forma facil de aplicar un formateo a un string\n",
    "print(\"we' tenemos {} maiz, {} miel, y {} azucar.\".format(*formula))"
   ]
  },
  {
   "cell_type": "code",
   "execution_count": 12,
   "metadata": {
    "tags": []
   },
   "outputs": [
    {
     "output_type": "stream",
     "name": "stdout",
     "text": "Deberiamos irnos en auto\ntal vez deberiamos tomar un camion\ntomemos los camiones muchachos\n"
    }
   ],
   "source": [
    "personas = 30\n",
    "autos = 40\n",
    "camiones = 15\n",
    "\n",
    "if autos > personas:\n",
    "    print(\"Deberiamos irnos en auto\")\n",
    "elif autos < personas:\n",
    "    print(\"No podemos usar los autos, no hay suficientes\")\n",
    "else:\n",
    "    print(\" no sabemos que hacer \")\n",
    "\n",
    "if camiones > autos:\n",
    "    print(\"esos son demasiados camiones\")\n",
    "elif camiones < autos:\n",
    "    print(\"tal vez deberiamos tomar un camion\")\n",
    "else:\n",
    "    print(\"todovia no podemos decidir\")\n",
    "\n",
    "if personas > camiones:\n",
    "    print(\"tomemos los camiones muchachos\")\n",
    "else:\n",
    "    print(\"quedemonos en casa nomas muchachos\")"
   ]
  },
  {
   "cell_type": "code",
   "execution_count": 2,
   "metadata": {
    "tags": []
   },
   "outputs": [
    {
     "output_type": "stream",
     "name": "stdout",
     "text": "Esta es la cuenta: 1\nEsta es la cuenta: 2\nEsta es la cuenta: 3\nEsta es la cuenta: 4\nEsta es la cuenta: 5\nmi fruta es: manzana\nmi fruta es: naranja\nmi fruta es: peras\nmi fruta es: tomate\n yo tengo:1\n yo tengo:peniques\n yo tengo:2\n yo tengo:libras\n yo tengo:3\n yo tengo:pesetas\nagregando 0 a la lista de elementos:\nagregando 1 a la lista de elementos:\nagregando 2 a la lista de elementos:\nagregando 3 a la lista de elementos:\nagregando 4 a la lista de elementos:\nagregando 5 a la lista de elementos:\nEltos en elementos:0\nEltos en elementos:1\nEltos en elementos:2\nEltos en elementos:3\nEltos en elementos:4\nEltos en elementos:5\n"
    }
   ],
   "source": [
    "la_cuenta = [1, 2, 3, 4, 5]\n",
    "frutas = [\"manzana\", \"naranja\", \"peras\", \"tomate\"]\n",
    "cambio = [1, \"peniques\", 2, \"libras\", 3, \"pesetas\"]\n",
    "\n",
    "for contador in la_cuenta:\n",
    "    print(f\"Esta es la cuenta: {contador}\")\n",
    "\n",
    "# lo mismo que arriba pero con ffrutas\n",
    "for fruta in frutas:\n",
    "        print(f\"mi fruta es: {fruta}\")\n",
    "\n",
    "# pdemos tener listas mescladas con cosas\n",
    "for i in cambio:\n",
    "        print(f\" yo tengo:{i}\")\n",
    "\n",
    "# Podemos construir listas comencemos con una lista vacia\n",
    "elementos = []\n",
    "\n",
    "# Luego utilicemos un funcion rango del 0 al 5 que cuente\n",
    "for i in range(0, 6):\n",
    "    print(f\"agregando {i} a la lista de elementos:\")\n",
    "    elementos.append(i)\n",
    "\n",
    "# ahora podemos imprimirlos\n",
    "for i in elementos:\n",
    "    print(f\"Eltos en elementos:{i}\")\n",
    "\n"
   ]
  },
  {
   "cell_type": "code",
   "execution_count": 6,
   "metadata": {
    "tags": []
   },
   "outputs": [
    {
     "output_type": "stream",
     "name": "stdout",
     "text": "en la cima de la lista esta el: 0\nImprimir los numeros: [0]\nen la cima de la lista esta el: 1\nImprimir los numeros: [0, 1]\nen la cima de la lista esta el: 2\nImprimir los numeros: [0, 1, 2]\nen la cima de la lista esta el: 3\nImprimir los numeros: [0, 1, 2, 3]\nen la cima de la lista esta el: 4\nImprimir los numeros: [0, 1, 2, 3, 4]\nen la cima de la lista esta el: 5\nImprimir los numeros: [0, 1, 2, 3, 4, 5]\n"
    }
   ],
   "source": [
    "# bucle mientras en python\n",
    "\n",
    "i = 0 \n",
    "numeros = []\n",
    "\n",
    "while i < 6:\n",
    "    print(f\"en la cima de la lista esta el: {i}\")\n",
    "    numeros.append(i)\n",
    "\n",
    "    i = i + 1\n",
    "    print(\"Imprimir los numeros:\", numeros)\n"
   ]
  },
  {
   "cell_type": "code",
   "execution_count": 8,
   "metadata": {
    "tags": []
   },
   "outputs": [
    {
     "output_type": "stream",
     "name": "stdout",
     "text": "oso\n"
    }
   ],
   "source": [
    "# acceso a elemenos de la lista\n",
    "animales = [\"oso\", \"tigre\", \"pinguino\", \"zebra\"]\n",
    "oso = animales[0]\n",
    "print(oso)"
   ]
  },
  {
   "cell_type": "code",
   "execution_count": 11,
   "metadata": {
    "tags": []
   },
   "outputs": [
    {
     "output_type": "stream",
     "name": "stdout",
     "text": "estas en un cuarto oscuro!!!\nHay una puerta a la izquierda y a la derecha\nCual tomaras para seguir con vida\nHay un OSO aqui\nel oso tiene un monton de miel\nEl Gran oso esta en frente de otra puerta\nComo vas a move al OSO\nno tengo idea de que va a pasar\nEl OSO se a mvido de la puerta\nAhora puedes usar la puerta\nno tengo idea de que va a pasar\nEste cuarto esta lleno de ORO. Cuanto quieres tomar?\nCodicioso, no te dicen el tio donalt Buen trabajo!\n"
    },
    {
     "output_type": "error",
     "ename": "SystemExit",
     "evalue": "0",
     "traceback": [
      "An exception has occurred, use %tb to see the full traceback.\n",
      "\u001b[0;31mSystemExit\u001b[0m\u001b[0;31m:\u001b[0m 0\n"
     ]
    }
   ],
   "source": [
    " from sys import exit\n",
    "\n",
    " def gold_room():\n",
    "     print(\"Este cuarto esta lleno de ORO. Cuanto quieres tomar?\")\n",
    "\n",
    "     choice = input(\">\")\n",
    "     if \"0\" in choice or \"1\" in choice:\n",
    "         how_much = int(choice)\n",
    "     else:\n",
    "         dead(\"Hombre aprende a escribir un numero\")\n",
    "    \n",
    "     if how_much < 50:\n",
    "         print(\"bueno, te pusiste codicioso ahora que sabes escribir numeros\")\n",
    "         exit(0)\n",
    "     else:\n",
    "         dead(\"Codicioso, no te dicen el tio donalt\")\n",
    "\n",
    " def bear_room():\n",
    "     print(\"Hay un OSO aqui\")\n",
    "     print(\"el oso tiene un monton de miel\")\n",
    "     print(\"El Gran oso esta en frente de otra puerta\")\n",
    "     print(\"Como vas a move al OSO\")\n",
    "     bear_moved = False\n",
    "\n",
    "     while True:\n",
    "         choice = input(\"> \")\n",
    "         if choice == \"tomar la miel\":\n",
    "            dead(\"el Oso te mira mal y te tira un sarpazo\")\n",
    "         elif choice == \"provocar al OSO\" and not bear_moved:\n",
    "             print(\"El OSO se a mvido de la puerta\")\n",
    "             print(\"Ahora puedes usar la puerta\")\n",
    "             bear_moved = True\n",
    "         elif choice == \"provocar al OSO\" and bear_moved:\n",
    "             dead(\"el oso se canso de tus burlas, se enojo y te arranco una pierna\")\n",
    "         elif choice == \"Abrir puerta\" and bear_moved:\n",
    "             gold_room()\n",
    "         else:\n",
    "             print(\"no tengo idea de que va a pasar\")\n",
    "         \n",
    " def cthulu_room():\n",
    "     print(\"Aqui puedes ver al Gran Mal KuTuLu\")\n",
    "     print(\"No lo mires, ya es tarde, has caido en la locura\")\n",
    "     print(\"Deseas escapar con todo tus fuerzas o caer en la locura\")\n",
    "\n",
    "     choice = input(\"> \")\n",
    "\n",
    "     if \"escapar\" in choice:\n",
    "         start()\n",
    "     elif \"cordura\" in choice:\n",
    "         dead(\" has perdido la cabeza\")\n",
    "     else:\n",
    "         cthulu_room()\n",
    "\n",
    " def dead(why):\n",
    "     print(why, \"Buen trabajo!\")\n",
    "     exit(0)\n",
    "\n",
    " def start():\n",
    "     print(\"estas en un cuarto oscuro!!!\")\n",
    "     print(\"Hay una puerta a la izquierda y a la derecha\")\n",
    "     print(\"Cual tomaras para seguir con vida\")\n",
    "\n",
    "     choice = input(\"> \")\n",
    "\n",
    "     if choice == \"izquierda\":\n",
    "         bear_room()\n",
    "     elif choice == \"derecha\":\n",
    "         cthulu_room()\n",
    "     else:\n",
    "         dead(\"Aquellos que no toman una desicion mueren de hambre\")\n",
    "\n",
    " start()\n",
    "\n",
    "\n",
    "\n",
    "\n",
    "\n"
   ]
  },
  {
   "cell_type": "code",
   "execution_count": 13,
   "metadata": {},
   "outputs": [
    {
     "output_type": "execute_result",
     "data": {
      "text/plain": "35"
     },
     "metadata": {},
     "execution_count": 13
    }
   ],
   "source": [
    "# devuelve un numero aleatorio entero dentro del rango establecido \n",
    "# (extremos incluidos)\n",
    "\n",
    "import random\n",
    "random.randint(1,423)"
   ]
  },
  {
   "cell_type": "code",
   "execution_count": null,
   "metadata": {},
   "outputs": [],
   "source": []
  },
  {
   "cell_type": "code",
   "execution_count": null,
   "metadata": {},
   "outputs": [],
   "source": [
    "from datetime import datetime \n",
    "import random \n",
    "import time \n",
    "\n",
    "odds = [ 1, 3,   5,  7,  9, 11, 13, 15, 17, 19,\n",
    "        21, 23, 25, 27, 29, 31, 33, 35, 37, 39,\n",
    "        41, 43, 45, 47, 49, 51, 53, 55, 57, 59 ]\n",
    "\n",
    "for i in range(5):\n",
    "    minuto_muestreado_ahora = datetime.today().minute\n",
    "    if minuto_muestreado_ahora in odds:\n",
    "        print(f\"Este minuto muestredado es impar:\", minuto_muestreado_ahora)\n",
    "    else:\n",
    "        print(f\"Este minuto es par:\", minuto_muestreado_ahora)\n",
    "    tiempo_de_espera = random.randint(1, 60)\n",
    "    time.sleep(tiempo_de_espera)\n"
   ]
  },
  {
   "cell_type": "code",
   "execution_count": null,
   "metadata": {},
   "outputs": [],
   "source": []
  },
  {
   "cell_type": "code",
   "execution_count": 6,
   "metadata": {
    "tags": []
   },
   "outputs": [
    {
     "output_type": "stream",
     "name": "stdout",
     "text": "O perdon aun no hay 10 cosas, vamos a arreglar eso\nagregar elto:  tucan  de lista A hacia la Lista B\n ahora existen: 7 item en la lista B\nagregar elto:  misa  de lista A hacia la Lista B\n ahora existen: 8 item en la lista B\nagregar elto:  furia  de lista A hacia la Lista B\n ahora existen: 9 item en la lista B\nagregar elto:  calor  de lista A hacia la Lista B\n ahora existen: 10 item en la lista B\nBueno terminamos ahora existen 10 cosas en las lista B\n['manzana', 'naranja', 'cuervos', 'telefono', 'luz', 'azucar', 'tucan', 'misa', 'furia', 'calor']\nmas operaciones sobre listas\nnaranja\ncalor\ncalor\nmanzana naranja cuervos telefono luz azucar tucan misa furia\ntelefono#luz\n"
    }
   ],
   "source": [
    "diez_cosas = \"manzana naranja cuervos telefono luz azucar\"\n",
    "\n",
    "print(\"O perdon aun no hay 10 cosas, vamos a arreglar eso\")\n",
    "\n",
    "cosas = diez_cosas.split(\" \")\n",
    "mas_cosas = [\"noche\", \"pulpo\", \"cancion\", \"nieve\", \n",
    "             \"calor\", \"furia\", \"misa\", \"tucan\"]\n",
    "\n",
    "while len(cosas) != 10:\n",
    "    proximo_elto = mas_cosas.pop()\n",
    "    print(\"agregar elto: \", proximo_elto ,\" de lista A hacia la Lista B\")\n",
    "    cosas.append(proximo_elto)\n",
    "    print(f\" ahora existen: {len(cosas)} item en la lista B\")\n",
    "\n",
    "print(\"Bueno terminamos ahora existen 10 cosas en las lista B\")\n",
    "print(cosas)\n",
    "\n",
    "print(\"mas operaciones sobre listas\")\n",
    "\n",
    "print(cosas[1])\n",
    "print(cosas[-1])\n",
    "print(cosas.pop())\n",
    "print(' '.join(cosas)) # que lindo\n",
    "print('#'.join(cosas[3:5])) # super lindo\n",
    "\n",
    "\n",
    "\n",
    "\n"
   ]
  },
  {
   "cell_type": "code",
   "execution_count": 9,
   "metadata": {
    "tags": []
   },
   "outputs": [
    {
     "output_type": "stream",
     "name": "stdout",
     "text": "b\nz\n"
    },
    {
     "output_type": "execute_result",
     "data": {
      "text/plain": "['a', 'z', 'c', 'd']"
     },
     "metadata": {},
     "execution_count": 9
    }
   ],
   "source": [
    "#  Listas vs Diccionarioos\n",
    "\n",
    "things = [ 'a', 'b', 'c', 'd']\n",
    "print(things[1])\n",
    "things[1] = 'z'\n",
    "print(things[1])\n",
    "things\n"
   ]
  },
  {
   "cell_type": "code",
   "execution_count": 17,
   "metadata": {
    "tags": []
   },
   "outputs": [
    {
     "output_type": "stream",
     "name": "stdout",
     "text": "gonza\n32\n45\nResistencia\n"
    }
   ],
   "source": [
    "cosas = {'nombre': 'gonza', 'edad': 32, 'altura': 3 * 3 * 5}\n",
    "print(cosas['nombre'])\n",
    "print(cosas[\"edad\"])\n",
    "print(cosas[\"altura\"])\n",
    "cosas[\"ciudad\"] = \"Resistencia\"\n",
    "print(cosas[\"ciudad\"])"
   ]
  },
  {
   "cell_type": "code",
   "execution_count": 20,
   "metadata": {
    "tags": []
   },
   "outputs": [
    {
     "output_type": "stream",
     "name": "stdout",
     "text": "soy una manzana\n"
    },
    {
     "output_type": "execute_result",
     "data": {
      "text/plain": "'soy una linea recta bastate dificil de hacer'"
     },
     "metadata": {},
     "execution_count": 20
    }
   ],
   "source": [
    "class MisCosas(object):\n",
    "\n",
    "    def __init__(self):\n",
    "        self.tangente = (f\"soy una linea recta bastate dificil de hacer\")\n",
    "\n",
    "    def manzana(self):\n",
    "        print(f\"soy una manzana\")\n",
    "\n",
    "unaCosa = MisCosas()\n",
    "unaCosa.manzana()\n",
    "unaCosa.tangente"
   ]
  },
  {
   "cell_type": "code",
   "execution_count": 28,
   "metadata": {
    "tags": []
   },
   "outputs": [
    {
     "output_type": "stream",
     "name": "stdout",
     "text": "Que los cumpla\nfeliz\nque lo cumpla\nfeliz\n*******************************\nque lindo torito\nestaba en la parada\nhay de mi que tenia una remera roja\nsali corriendo mas rapido que una libre\n*******************************\n"
    }
   ],
   "source": [
    "class Cancion(object):\n",
    "    \n",
    "    def __init__ (self, letras):\n",
    "        self.letras = letras\n",
    "    \n",
    "    def cantame_una_cancion(self):\n",
    "        for linea in self.letras:\n",
    "            print(linea)\n",
    "    \n",
    "\n",
    "feliz_cumple = Cancion([ \"Que los cumpla\",\n",
    "                          \"feliz\",\n",
    "                          \"que lo cumpla\",\n",
    "                          \"feliz\",\n",
    "                          \"*******************************\" ])\n",
    "\n",
    "toros_en_la_parada = Cancion([\"que lindo torito\", \n",
    "                               \"estaba en la parada\",\n",
    "                               \"hay de mi que tenia una remera roja\",\n",
    "                               \"sali corriendo mas rapido que una libre\",\n",
    "                               \"*******************************\"  ])\n",
    "\n",
    "feliz_cumple.cantame_una_cancion()\n",
    "\n",
    "toros_en_la_parada.cantame_una_cancion()"
   ]
  },
  {
   "cell_type": "code",
   "execution_count": null,
   "metadata": {},
   "outputs": [],
   "source": [
    "\"\"\"\n",
    "*What is this pattern about?\n",
    "Define a family of algorithms, encapsulate each one, and make them interchangeable.\n",
    "Strategy lets the algorithm vary independently from clients that use it.\n",
    "*TL;DR\n",
    "Enables selecting an algorithm at runtime.\n",
    "\"\"\"\n",
    "\n",
    "\n",
    "class Order:\n",
    "    def __init__(self, price, discount_strategy=None):\n",
    "        self.price = price\n",
    "        self.discount_strategy = discount_strategy\n",
    "\n",
    "    def price_after_discount(self):\n",
    "        if self.discount_strategy:\n",
    "            discount = self.discount_strategy(self)\n",
    "        else:\n",
    "            discount = 0\n",
    "        return self.price - discount\n",
    "\n",
    "    def __repr__(self):\n",
    "        fmt = \"<Price: {}, price after discount: {}>\"\n",
    "        return fmt.format(self.price, self.price_after_discount())\n",
    "\n",
    "\n",
    "def ten_percent_discount(order):\n",
    "    return order.price * 0.10\n",
    "\n",
    "\n",
    "def on_sale_discount(order):\n",
    "    return order.price * 0.25 + 20\n",
    "\n",
    "\n",
    "def main():\n",
    "    \"\"\"\n",
    "    >>> Order(100)\n",
    "    <Price: 100, price after discount: 100>\n",
    "    >>> Order(100, discount_strategy=ten_percent_discount)\n",
    "    <Price: 100, price after discount: 90.0>\n",
    "    >>> Order(1000, discount_strategy=on_sale_discount)\n",
    "    <Price: 1000, price after discount: 730.0>\n",
    "    \"\"\"\n",
    "\n",
    "\n",
    "if __name__ == \"__main__\":\n",
    "    import doctest\n",
    "    doctest.testmod()"
   ]
  },
  {
   "cell_type": "code",
   "execution_count": null,
   "metadata": {},
   "outputs": [],
   "source": [
    "# Animal is un objeto \n",
    "class Animal(object):\n",
    "    pass\n",
    "\n",
    "# Dog es un tipo de animal\n",
    "class Dog(Animal):\n",
    "    ## atributo de perro, su nombre\n",
    "    self.name = name\n",
    "\n",
    "## Cat es un tipo de Animal\n",
    "class Cat(Animal):\n",
    "    ## atributo de gato, su nombre\n",
    "    self.name = name\n",
    "\n",
    "# Person es una objeto\n",
    "class Person(object):\n",
    "\n",
    "    def __init__ (self, name):\n",
    "        # todas las personas tienen un nombre\n",
    "        self.name = name\n",
    "        # las personas tienen algun tipo de mascota\n",
    "        self.pet = None\n",
    "\n",
    "## Empleado es un tipo de Persona\n",
    "class Employee(Person):\n",
    "\n",
    "    def __init__(self, name, salary):\n",
    "        ## llamamos el metodo de Persona para asignar el nombre ingresado\n",
    "        ## DRY  no repitas codigo ya implementado. \n",
    "        super(Employee, self).__init__(name)\n",
    "        ## asignamos self salario de esta instancia un salario ingresado\n",
    "        self.salary = salary\n",
    "\n",
    "# Fish es un objecto\n",
    "class Fish(object):\n",
    "    pass\n",
    "\n",
    "# un salmon es un Fish\n",
    "class Salmon(Fish):\n",
    "    pass\n",
    "\n",
    "# class Halibut es un Fish\n",
    "class Halibut(Fish):\n",
    "    pass\n",
    "\n",
    "## rover es una instancia de Dog\n",
    "rover = Dog(\"Rover\")\n",
    "\n",
    "## santan es una instancia de Cat\n",
    "satan = Cat(\"Satan\")\n",
    "\n",
    "## mary es una instancia de Person\n",
    "mary = Person(\"Mary\")\n",
    "\n",
    "## asignamos una mascota a mary\n",
    "mary.pet = satan\n",
    "\n",
    "## frank es una nueva instancia de empleado\n",
    "frank = Employee(\"Frank\", 120000)\n",
    "\n",
    "# asignamos una mascota a frank porque es una persona\n",
    "frank.pet = rover\n",
    "\n",
    "## flipper tiene una isntancia de Fish\n",
    "flipper = Fish()\n",
    "\n",
    "## crouse es una instancia de Salmon()\n",
    "crouse = Salmon()\n",
    "\n",
    "## harry es una instancia de Halibut()\n",
    "harry = Halibut()\n",
    "\n",
    "\n",
    "\n",
    "\n",
    "\n",
    "\n"
   ]
  },
  {
   "cell_type": "code",
   "execution_count": 4,
   "metadata": {
    "tags": []
   },
   "outputs": [
    {
     "output_type": "stream",
     "name": "stdout",
     "text": "padre implicito()\npadre implicito()\n"
    }
   ],
   "source": [
    "# Herencia implicita (indirecta)\n",
    "\n",
    "class Parent(object):\n",
    "\n",
    "    def implicit(self):\n",
    "        print(\"padre implicito()\")\n",
    "\n",
    "class Child(Parent):\n",
    "    pass\n",
    "\n",
    "padre = Parent()\n",
    "hijo = Child()\n",
    "\n",
    "padre.implicit()\n",
    "hijo.implicit()"
   ]
  },
  {
   "cell_type": "code",
   "execution_count": 6,
   "metadata": {
    "tags": []
   },
   "outputs": [
    {
     "output_type": "stream",
     "name": "stdout",
     "text": "Parent sobrecarga metodo()\nChild class override metodo of clase padre\n"
    }
   ],
   "source": [
    "# Herenica Explicita (directa)\n",
    "\n",
    "class Parent(object):\n",
    "\n",
    "    def sobrecarga(self):\n",
    "        print(\"Parent sobrecarga metodo()\")\n",
    "\n",
    "class Child(Parent):\n",
    "\n",
    "    def sobrecarga(self):\n",
    "        print(\"Child class override metodo of clase padre\")\n",
    "\n",
    "dad = Parent()\n",
    "son = Child()\n",
    "dad.sobrecarga()\n",
    "son.sobrecarga()"
   ]
  },
  {
   "cell_type": "code",
   "execution_count": 11,
   "metadata": {
    "tags": []
   },
   "outputs": [
    {
     "output_type": "stream",
     "name": "stdout",
     "text": "Padre alterado\nChild, Antes PARENT ALTERED()\nPadre alterado\nChild, despues PADRE ALTERADO()\n"
    }
   ],
   "source": [
    "# tercera forma de uso de herencia \n",
    "\n",
    "class Parent(object):\n",
    "\n",
    "    def alterado(self):\n",
    "        print(\"Padre alterado\")\n",
    "\n",
    "class Child(Parent):\n",
    "\n",
    "    def alterado(self):\n",
    "        print(\"Child, Antes PARENT ALTERED()\")\n",
    "        super(Child, self).alterado()\n",
    "        print(\"Child, despues PADRE ALTERADO()\")\n",
    "\n",
    "dad = Parent()\n",
    "son = Child()\n",
    "dad.alterado()\n",
    "son.alterado()\n",
    " "
   ]
  },
  {
   "cell_type": "code",
   "execution_count": 13,
   "metadata": {},
   "outputs": [],
   "source": [
    "# uso de super para hacer algo en la clase Child y luego completar la inicializacion de la clase padre\n",
    "\n",
    "class Child(Parent):\n",
    "\n",
    "    def __init__(self, stuff):\n",
    "        self.stuff = stuff\n",
    "        super(Child, self).__init__()"
   ]
  },
  {
   "cell_type": "code",
   "execution_count": 16,
   "metadata": {
    "tags": []
   },
   "outputs": [
    {
     "output_type": "stream",
     "name": "stdout",
     "text": "other implicito()\nChild sobrecarga()\nChild, antes Other Alterado()\nOther altered()\nChild, despues Other alterado()\n"
    }
   ],
   "source": [
    "# Composicion en python\n",
    "\n",
    "class Other(object):\n",
    "\n",
    "    def sobrecarga(self):\n",
    "        print(\"Other sobrecarga()\")\n",
    "\n",
    "    def implicit(self):\n",
    "        print(\"other implicito()\")\n",
    "    \n",
    "    def alterado(self):\n",
    "        print(\"Other altered()\")\n",
    "\n",
    "class Child(object):\n",
    "\n",
    "    def __init__(self):\n",
    "        self.other = Other()\n",
    "\n",
    "    def implicit(self):\n",
    "        self.other.implicit()\n",
    "    \n",
    "    def sobrecarga(self):\n",
    "        print(\"Child sobrecarga()\")\n",
    "\n",
    "    def alterado(self):\n",
    "        print(\"Child, antes Other Alterado()\")\n",
    "        self.other.alterado()\n",
    "        print(\"Child, despues Other alterado()\")\n",
    "\n",
    "\n",
    "son = Child()\n",
    "\n",
    "son.implicit()\n",
    "son.sobrecarga()\n",
    "son.alterado()"
   ]
  },
  {
   "cell_type": "code",
   "execution_count": 5,
   "metadata": {
    "tags": []
   },
   "outputs": [
    {
     "output_type": "stream",
     "name": "stdout",
     "text": "{'nombre': 'Gonza', 'edad': 23, 'color': 'azul'}\n{'nombre': 'Gonza', 'edad': 23, 'color': 'azul'}\n"
    }
   ],
   "source": [
    "spam = {\"nombre\": \"Gonza\", \"edad\": 23}\n",
    "spam.setdefault(\"color\",\"azul\")\n",
    "print(spam)\n",
    "spam.setdefault(\"color\", \"negro\")\n",
    "print(spam)"
   ]
  },
  {
   "cell_type": "code",
   "execution_count": 16,
   "metadata": {
    "tags": []
   },
   "outputs": [
    {
     "output_type": "stream",
     "name": "stdout",
     "text": "=>  13\n,  =>  1\n.  =>  1\nA  =>  1\nI  =>  1\na  =>  4\nb  =>  1\nc  =>  3\nd  =>  3\ne  =>  5\ng  =>  2\nh  =>  3\ni  =>  6\nk  =>  2\nl  =>  3\nn  =>  4\no  =>  2\np  =>  1\nr  =>  5\ns  =>  3\nt  =>  6\nw  =>  2\ny  =>  1\n"
    }
   ],
   "source": [
    "import pprint\n",
    "message = 'It was a bright cold day in April, and the clocks were striking thirteen.'\n",
    "\n",
    "count = {}\n",
    "for character in message:\n",
    "    count.setdefault(character, 0)\n",
    "    count[character] = count[character] + 1\n",
    "\n",
    "for key in sorted(count):\n",
    "    print(key, \" => \", count[key])\n",
    "\n",
    " "
   ]
  },
  {
   "cell_type": "code",
   "execution_count": 32,
   "metadata": {},
   "outputs": [
    {
     "output_type": "execute_result",
     "data": {
      "text/plain": "(67, 3, 4)"
     },
     "metadata": {},
     "execution_count": 32
    }
   ],
   "source": [
    "tupla = (1, 2, 3, 4)\n",
    "\n",
    "# concatencacion de 2 tuplas\n",
    "tupla + (5, 6)\n",
    "\n",
    "# retorna el elto en la posicion 2 de la tupla\n",
    "tupla[2]\n",
    "\n",
    "# posicion del elto 4 en la tupla\n",
    "tupla.index(4)\n",
    "\n",
    "tupla = (67,) + tupla[2:]\n",
    "tupla"
   ]
  },
  {
   "cell_type": "code",
   "execution_count": 62,
   "metadata": {},
   "outputs": [
    {
     "output_type": "execute_result",
     "data": {
      "text/plain": "1100.0"
     },
     "metadata": {},
     "execution_count": 62
    }
   ],
   "source": [
    "class Worker(object):\n",
    "\n",
    "    def __init__(self, name, pay):\n",
    "        self.name = name\n",
    "        self.pay = pay\n",
    "\n",
    "    def lastName(self):\n",
    "        return self.name.split()[-1]\n",
    "    \n",
    "    def giveRaise(self, percent):\n",
    "        self.pay *=  (1.0 + percent)\n",
    "\n",
    "    \n",
    "chan = Worker(\"Pablo Escobar\", 1000)\n",
    "chan.lastName()\n",
    "chan.giveRaise(0.10)\n",
    "chan.pay"
   ]
  },
  {
   "cell_type": "code",
   "execution_count": 7,
   "metadata": {
    "tags": []
   },
   "outputs": [
    {
     "output_type": "stream",
     "name": "stdout",
     "text": "Inventario:\n1 rope\n6 torch\n53 gold coin\n1 dagger\n2 arrow\n('Numero total de items:', 5)\n"
    }
   ],
   "source": [
    " loot = {\"rope\": 1, \"torch\": 6, \"gold coin\": 53, \"dagger\": 1, \"arrow\": 2}\n",
    "  \n",
    "\n",
    " def displayInventory(un_inventorio):\n",
    "     print(\"Inventario:\")\n",
    "     total_items = 0\n",
    "     for k, v in un_inventorio.items():\n",
    "         print(v, k)\n",
    "         total_items = total_items + 1 \n",
    "     print((f\"Numero total de items:\",total_items ))\n",
    "\n",
    "displayInventory(loot)\n",
    "\n",
    "\n",
    "   "
   ]
  },
  {
   "cell_type": "code",
   "execution_count": 13,
   "metadata": {
    "tags": []
   },
   "outputs": [
    {
     "output_type": "stream",
     "name": "stdout",
     "text": "Opps!, Ese no era un numero valido, intentelo nuevamente.\nOpps!, Ese no era un numero valido, intentelo nuevamente.\nOpps!, Ese no era un numero valido, intentelo nuevamente.\nOpps!, Ese no era un numero valido, intentelo nuevamente.\nOpps!, Ese no era un numero valido, intentelo nuevamente.\nOpps!, Ese no era un numero valido, intentelo nuevamente.\nOpps!, Ese no era un numero valido, intentelo nuevamente.\nOpps!, Ese no era un numero valido, intentelo nuevamente.\n"
    },
    {
     "output_type": "error",
     "ename": "KeyboardInterrupt",
     "evalue": "",
     "traceback": [
      "\u001b[0;31m---------------------------------------------------------------------------\u001b[0m",
      "\u001b[0;31mKeyboardInterrupt\u001b[0m                         Traceback (most recent call last)",
      "\u001b[0;32m~/anaconda3/lib/python3.7/site-packages/ipykernel/kernelbase.py\u001b[0m in \u001b[0;36m_input_request\u001b[0;34m(self, prompt, ident, parent, password)\u001b[0m\n\u001b[1;32m    883\u001b[0m             \u001b[0;32mtry\u001b[0m\u001b[0;34m:\u001b[0m\u001b[0;34m\u001b[0m\u001b[0;34m\u001b[0m\u001b[0m\n\u001b[0;32m--> 884\u001b[0;31m                 \u001b[0mident\u001b[0m\u001b[0;34m,\u001b[0m \u001b[0mreply\u001b[0m \u001b[0;34m=\u001b[0m \u001b[0mself\u001b[0m\u001b[0;34m.\u001b[0m\u001b[0msession\u001b[0m\u001b[0;34m.\u001b[0m\u001b[0mrecv\u001b[0m\u001b[0;34m(\u001b[0m\u001b[0mself\u001b[0m\u001b[0;34m.\u001b[0m\u001b[0mstdin_socket\u001b[0m\u001b[0;34m,\u001b[0m \u001b[0;36m0\u001b[0m\u001b[0;34m)\u001b[0m\u001b[0;34m\u001b[0m\u001b[0;34m\u001b[0m\u001b[0m\n\u001b[0m\u001b[1;32m    885\u001b[0m             \u001b[0;32mexcept\u001b[0m \u001b[0mException\u001b[0m\u001b[0;34m:\u001b[0m\u001b[0;34m\u001b[0m\u001b[0;34m\u001b[0m\u001b[0m\n",
      "\u001b[0;32m~/anaconda3/lib/python3.7/site-packages/jupyter_client/session.py\u001b[0m in \u001b[0;36mrecv\u001b[0;34m(self, socket, mode, content, copy)\u001b[0m\n\u001b[1;32m    802\u001b[0m         \u001b[0;32mtry\u001b[0m\u001b[0;34m:\u001b[0m\u001b[0;34m\u001b[0m\u001b[0;34m\u001b[0m\u001b[0m\n\u001b[0;32m--> 803\u001b[0;31m             \u001b[0mmsg_list\u001b[0m \u001b[0;34m=\u001b[0m \u001b[0msocket\u001b[0m\u001b[0;34m.\u001b[0m\u001b[0mrecv_multipart\u001b[0m\u001b[0;34m(\u001b[0m\u001b[0mmode\u001b[0m\u001b[0;34m,\u001b[0m \u001b[0mcopy\u001b[0m\u001b[0;34m=\u001b[0m\u001b[0mcopy\u001b[0m\u001b[0;34m)\u001b[0m\u001b[0;34m\u001b[0m\u001b[0;34m\u001b[0m\u001b[0m\n\u001b[0m\u001b[1;32m    804\u001b[0m         \u001b[0;32mexcept\u001b[0m \u001b[0mzmq\u001b[0m\u001b[0;34m.\u001b[0m\u001b[0mZMQError\u001b[0m \u001b[0;32mas\u001b[0m \u001b[0me\u001b[0m\u001b[0;34m:\u001b[0m\u001b[0;34m\u001b[0m\u001b[0;34m\u001b[0m\u001b[0m\n",
      "\u001b[0;32m~/anaconda3/lib/python3.7/site-packages/zmq/sugar/socket.py\u001b[0m in \u001b[0;36mrecv_multipart\u001b[0;34m(self, flags, copy, track)\u001b[0m\n\u001b[1;32m    474\u001b[0m         \"\"\"\n\u001b[0;32m--> 475\u001b[0;31m         \u001b[0mparts\u001b[0m \u001b[0;34m=\u001b[0m \u001b[0;34m[\u001b[0m\u001b[0mself\u001b[0m\u001b[0;34m.\u001b[0m\u001b[0mrecv\u001b[0m\u001b[0;34m(\u001b[0m\u001b[0mflags\u001b[0m\u001b[0;34m,\u001b[0m \u001b[0mcopy\u001b[0m\u001b[0;34m=\u001b[0m\u001b[0mcopy\u001b[0m\u001b[0;34m,\u001b[0m \u001b[0mtrack\u001b[0m\u001b[0;34m=\u001b[0m\u001b[0mtrack\u001b[0m\u001b[0;34m)\u001b[0m\u001b[0;34m]\u001b[0m\u001b[0;34m\u001b[0m\u001b[0;34m\u001b[0m\u001b[0m\n\u001b[0m\u001b[1;32m    476\u001b[0m         \u001b[0;31m# have first part already, only loop while more to receive\u001b[0m\u001b[0;34m\u001b[0m\u001b[0;34m\u001b[0m\u001b[0;34m\u001b[0m\u001b[0m\n",
      "\u001b[0;32mzmq/backend/cython/socket.pyx\u001b[0m in \u001b[0;36mzmq.backend.cython.socket.Socket.recv\u001b[0;34m()\u001b[0m\n",
      "\u001b[0;32mzmq/backend/cython/socket.pyx\u001b[0m in \u001b[0;36mzmq.backend.cython.socket.Socket.recv\u001b[0;34m()\u001b[0m\n",
      "\u001b[0;32mzmq/backend/cython/socket.pyx\u001b[0m in \u001b[0;36mzmq.backend.cython.socket._recv_copy\u001b[0;34m()\u001b[0m\n",
      "\u001b[0;32m~/anaconda3/lib/python3.7/site-packages/zmq/backend/cython/checkrc.pxd\u001b[0m in \u001b[0;36mzmq.backend.cython.checkrc._check_rc\u001b[0;34m()\u001b[0m\n",
      "\u001b[0;31mKeyboardInterrupt\u001b[0m: ",
      "\nDuring handling of the above exception, another exception occurred:\n",
      "\u001b[0;31mKeyboardInterrupt\u001b[0m                         Traceback (most recent call last)",
      "\u001b[0;32m<ipython-input-13-14749571cf04>\u001b[0m in \u001b[0;36m<module>\u001b[0;34m\u001b[0m\n\u001b[1;32m      3\u001b[0m \u001b[0;32mwhile\u001b[0m \u001b[0;32mTrue\u001b[0m\u001b[0;34m:\u001b[0m\u001b[0;34m\u001b[0m\u001b[0;34m\u001b[0m\u001b[0m\n\u001b[1;32m      4\u001b[0m     \u001b[0;32mtry\u001b[0m\u001b[0;34m:\u001b[0m\u001b[0;34m\u001b[0m\u001b[0;34m\u001b[0m\u001b[0m\n\u001b[0;32m----> 5\u001b[0;31m         \u001b[0mentry_user_number\u001b[0m \u001b[0;34m=\u001b[0m \u001b[0mint\u001b[0m\u001b[0;34m(\u001b[0m\u001b[0minput\u001b[0m\u001b[0;34m(\u001b[0m\u001b[0;34m\"Por favor, ingrese un numero\"\u001b[0m\u001b[0;34m)\u001b[0m\u001b[0;34m)\u001b[0m\u001b[0;34m\u001b[0m\u001b[0;34m\u001b[0m\u001b[0m\n\u001b[0m\u001b[1;32m      6\u001b[0m         \u001b[0mprint\u001b[0m\u001b[0;34m(\u001b[0m\u001b[0;34m\"El numero ingresado era: \"\u001b[0m\u001b[0;34m,\u001b[0m \u001b[0mentry_user_number\u001b[0m\u001b[0;34m)\u001b[0m\u001b[0;34m\u001b[0m\u001b[0;34m\u001b[0m\u001b[0m\n\u001b[1;32m      7\u001b[0m         \u001b[0;32mbreak\u001b[0m\u001b[0;34m\u001b[0m\u001b[0;34m\u001b[0m\u001b[0m\n",
      "\u001b[0;32m~/anaconda3/lib/python3.7/site-packages/ipykernel/kernelbase.py\u001b[0m in \u001b[0;36mraw_input\u001b[0;34m(self, prompt)\u001b[0m\n\u001b[1;32m    857\u001b[0m             \u001b[0mself\u001b[0m\u001b[0;34m.\u001b[0m\u001b[0m_parent_ident\u001b[0m\u001b[0;34m,\u001b[0m\u001b[0;34m\u001b[0m\u001b[0;34m\u001b[0m\u001b[0m\n\u001b[1;32m    858\u001b[0m             \u001b[0mself\u001b[0m\u001b[0;34m.\u001b[0m\u001b[0m_parent_header\u001b[0m\u001b[0;34m,\u001b[0m\u001b[0;34m\u001b[0m\u001b[0;34m\u001b[0m\u001b[0m\n\u001b[0;32m--> 859\u001b[0;31m             \u001b[0mpassword\u001b[0m\u001b[0;34m=\u001b[0m\u001b[0;32mFalse\u001b[0m\u001b[0;34m,\u001b[0m\u001b[0;34m\u001b[0m\u001b[0;34m\u001b[0m\u001b[0m\n\u001b[0m\u001b[1;32m    860\u001b[0m         )\n\u001b[1;32m    861\u001b[0m \u001b[0;34m\u001b[0m\u001b[0m\n",
      "\u001b[0;32m~/anaconda3/lib/python3.7/site-packages/ipykernel/kernelbase.py\u001b[0m in \u001b[0;36m_input_request\u001b[0;34m(self, prompt, ident, parent, password)\u001b[0m\n\u001b[1;32m    887\u001b[0m             \u001b[0;32mexcept\u001b[0m \u001b[0mKeyboardInterrupt\u001b[0m\u001b[0;34m:\u001b[0m\u001b[0;34m\u001b[0m\u001b[0;34m\u001b[0m\u001b[0m\n\u001b[1;32m    888\u001b[0m                 \u001b[0;31m# re-raise KeyboardInterrupt, to truncate traceback\u001b[0m\u001b[0;34m\u001b[0m\u001b[0;34m\u001b[0m\u001b[0;34m\u001b[0m\u001b[0m\n\u001b[0;32m--> 889\u001b[0;31m                 \u001b[0;32mraise\u001b[0m \u001b[0mKeyboardInterrupt\u001b[0m\u001b[0;34m\u001b[0m\u001b[0;34m\u001b[0m\u001b[0m\n\u001b[0m\u001b[1;32m    890\u001b[0m             \u001b[0;32melse\u001b[0m\u001b[0;34m:\u001b[0m\u001b[0;34m\u001b[0m\u001b[0;34m\u001b[0m\u001b[0m\n\u001b[1;32m    891\u001b[0m                 \u001b[0;32mbreak\u001b[0m\u001b[0;34m\u001b[0m\u001b[0;34m\u001b[0m\u001b[0m\n",
      "\u001b[0;31mKeyboardInterrupt\u001b[0m: "
     ]
    }
   ],
   "source": [
    "# excepeciones ejemplo\n",
    "\n",
    "while True:\n",
    "    try:\n",
    "        entry_user_number = int(input(\"Por favor, ingrese un numero\"))\n",
    "        print(\"El numero ingresado era: \", entry_user_number)\n",
    "        break\n",
    "    except ValueError:\n",
    "        print(\"Opps!, Ese no era un numero valido, intentelo nuevamente.\")\n"
   ]
  },
  {
   "cell_type": "code",
   "execution_count": 1,
   "metadata": {
    "tags": []
   },
   "outputs": [
    {
     "output_type": "stream",
     "name": "stdout",
     "text": "Manejando un error en tiempo de ejecucion division by zero\n"
    }
   ],
   "source": [
    "def esto_fallara():\n",
    "    x = 1/0\n",
    "\n",
    "try:\n",
    "    esto_fallara()\n",
    "except ZeroDivisionError as err:\n",
    "    print(\"Manejando un error en tiempo de ejecucion\", err)\n",
    "    "
   ]
  },
  {
   "cell_type": "code",
   "execution_count": 8,
   "metadata": {
    "tags": []
   },
   "outputs": [
    {
     "output_type": "stream",
     "name": "stdout",
     "text": "El resultado es:  15.0\nclausula final ejecutada\nDivision por zero!\nclausula final ejecutada\n"
    }
   ],
   "source": [
    " def dividir(x, y):\n",
    "     try:\n",
    "         resultado = x / y\n",
    "     except ZeroDivisionError:\n",
    "         print(\"Division por zero!\")\n",
    "     else:\n",
    "         print(\"El resultado es: \", resultado)\n",
    "     finally:\n",
    "         print(\"clausula final ejecutada\")\n",
    "\n",
    "\n",
    "dividir(45, 3)\n",
    "dividir(34, 0)"
   ]
  },
  {
   "cell_type": "code",
   "execution_count": 30,
   "metadata": {
    "tags": []
   },
   "outputs": [
    {
     "output_type": "stream",
     "name": "stdout",
     "text": "12345\nA simple example class\n"
    }
   ],
   "source": [
    "class MyClass:\n",
    "    \"\"\"A simple example class\"\"\"\n",
    "    i = 12345\n",
    "\n",
    "    def f(self):\n",
    "        return \"hello world\"\n",
    "\n",
    "\n",
    "x = MyClass.i\n",
    "print(x)\n",
    "\n",
    "z = MyClass().f\n",
    " \n",
    "\n",
    "y = MyClass().__doc__\n",
    "print(y)\n",
    " \n",
    " "
   ]
  },
  {
   "cell_type": "code",
   "execution_count": 39,
   "metadata": {
    "tags": []
   },
   "outputs": [
    {
     "output_type": "stream",
     "name": "stdout",
     "text": "( 3 , -4.5 )\n"
    }
   ],
   "source": [
    "class Complejo:\n",
    "    def __init__(self, parte_real, parte_imaginaria):\n",
    "        self.r = parte_real\n",
    "        self.i = parte_imaginaria\n",
    "    \n",
    "    def print_numero_complejo(self):\n",
    "        print(f\"( {self.r} , {self.i} )\")\n",
    "\n",
    "x = Complejo(3, -4.5)\n",
    "x.r, x.i\n",
    "x.print_numero_complejo()"
   ]
  },
  {
   "cell_type": "code",
   "execution_count": 1,
   "metadata": {
    "tags": []
   },
   "outputs": [
    {
     "output_type": "stream",
     "name": "stdout",
     "text": "one\ntwo\n"
    }
   ],
   "source": [
    "for key in {'one':1, 'two':2}:\n",
    "    print(key)"
   ]
  },
  {
   "cell_type": "code",
   "execution_count": 13,
   "metadata": {
    "tags": []
   },
   "outputs": [
    {
     "output_type": "stream",
     "name": "stdout",
     "text": "(10, 7)\n(20, 5)\n(30, 3)\n"
    }
   ],
   "source": [
    "xvec = [10, 20, 30]\n",
    "yvec = [7, 5, 3]\n",
    "a  = zip(xvec, yvec)\n",
    "for elto in a:\n",
    "    print(elto)"
   ]
  },
  {
   "cell_type": "code",
   "execution_count": 5,
   "metadata": {
    "tags": []
   },
   "outputs": [
    {
     "output_type": "stream",
     "name": "stdout",
     "text": "Numero Aleatorio:  63\nNumero Aleatorio:  74\nNumero Aleatorio:  11\nNumero Aleatorio:  38\nNumero Aleatorio:  14\n"
    }
   ],
   "source": [
    "from time import sleep\n",
    "from random import randint\n",
    "\n",
    "\n",
    "for contador in range(5):\n",
    "    print(\"Numero Aleatorio: \",randint(1, 100))\n",
    "    tiempo_de_espera = sleep(3)"
   ]
  },
  {
   "cell_type": "code",
   "execution_count": 6,
   "metadata": {
    "tags": []
   },
   "outputs": [
    {
     "output_type": "stream",
     "name": "stdout",
     "text": "99 botellas de cerveza en la pared.\n99 botellas de cerveza.\nToma una mas.\nPasala a los demas.\n98 botellas  de cervezas en la pared.\n\n98 botellas de cerveza en la pared.\n98 botellas de cerveza.\nToma una mas.\nPasala a los demas.\n97 botellas  de cervezas en la pared.\n\n97 botellas de cerveza en la pared.\n97 botellas de cerveza.\nToma una mas.\nPasala a los demas.\n96 botellas  de cervezas en la pared.\n\n96 botellas de cerveza en la pared.\n96 botellas de cerveza.\nToma una mas.\nPasala a los demas.\n95 botellas  de cervezas en la pared.\n\n95 botellas de cerveza en la pared.\n95 botellas de cerveza.\nToma una mas.\nPasala a los demas.\n94 botellas  de cervezas en la pared.\n\n94 botellas de cerveza en la pared.\n94 botellas de cerveza.\nToma una mas.\nPasala a los demas.\n93 botellas  de cervezas en la pared.\n\n93 botellas de cerveza en la pared.\n93 botellas de cerveza.\nToma una mas.\nPasala a los demas.\n92 botellas  de cervezas en la pared.\n\n92 botellas de cerveza en la pared.\n92 botellas de cerveza.\nToma una mas.\nPasala a los demas.\n91 botellas  de cervezas en la pared.\n\n91 botellas de cerveza en la pared.\n91 botellas de cerveza.\nToma una mas.\nPasala a los demas.\n90 botellas  de cervezas en la pared.\n\n90 botellas de cerveza en la pared.\n90 botellas de cerveza.\nToma una mas.\nPasala a los demas.\n89 botellas  de cervezas en la pared.\n\n89 botellas de cerveza en la pared.\n89 botellas de cerveza.\nToma una mas.\nPasala a los demas.\n88 botellas  de cervezas en la pared.\n\n88 botellas de cerveza en la pared.\n88 botellas de cerveza.\nToma una mas.\nPasala a los demas.\n87 botellas  de cervezas en la pared.\n\n87 botellas de cerveza en la pared.\n87 botellas de cerveza.\nToma una mas.\nPasala a los demas.\n86 botellas  de cervezas en la pared.\n\n86 botellas de cerveza en la pared.\n86 botellas de cerveza.\nToma una mas.\nPasala a los demas.\n85 botellas  de cervezas en la pared.\n\n85 botellas de cerveza en la pared.\n85 botellas de cerveza.\nToma una mas.\nPasala a los demas.\n84 botellas  de cervezas en la pared.\n\n84 botellas de cerveza en la pared.\n84 botellas de cerveza.\nToma una mas.\nPasala a los demas.\n83 botellas  de cervezas en la pared.\n\n83 botellas de cerveza en la pared.\n83 botellas de cerveza.\nToma una mas.\nPasala a los demas.\n82 botellas  de cervezas en la pared.\n\n82 botellas de cerveza en la pared.\n82 botellas de cerveza.\nToma una mas.\nPasala a los demas.\n81 botellas  de cervezas en la pared.\n\n81 botellas de cerveza en la pared.\n81 botellas de cerveza.\nToma una mas.\nPasala a los demas.\n80 botellas  de cervezas en la pared.\n\n80 botellas de cerveza en la pared.\n80 botellas de cerveza.\nToma una mas.\nPasala a los demas.\n79 botellas  de cervezas en la pared.\n\n79 botellas de cerveza en la pared.\n79 botellas de cerveza.\nToma una mas.\nPasala a los demas.\n78 botellas  de cervezas en la pared.\n\n78 botellas de cerveza en la pared.\n78 botellas de cerveza.\nToma una mas.\nPasala a los demas.\n77 botellas  de cervezas en la pared.\n\n77 botellas de cerveza en la pared.\n77 botellas de cerveza.\nToma una mas.\nPasala a los demas.\n76 botellas  de cervezas en la pared.\n\n76 botellas de cerveza en la pared.\n76 botellas de cerveza.\nToma una mas.\nPasala a los demas.\n75 botellas  de cervezas en la pared.\n\n75 botellas de cerveza en la pared.\n75 botellas de cerveza.\nToma una mas.\nPasala a los demas.\n74 botellas  de cervezas en la pared.\n\n74 botellas de cerveza en la pared.\n74 botellas de cerveza.\nToma una mas.\nPasala a los demas.\n73 botellas  de cervezas en la pared.\n\n73 botellas de cerveza en la pared.\n73 botellas de cerveza.\nToma una mas.\nPasala a los demas.\n72 botellas  de cervezas en la pared.\n\n72 botellas de cerveza en la pared.\n72 botellas de cerveza.\nToma una mas.\nPasala a los demas.\n71 botellas  de cervezas en la pared.\n\n71 botellas de cerveza en la pared.\n71 botellas de cerveza.\nToma una mas.\nPasala a los demas.\n70 botellas  de cervezas en la pared.\n\n70 botellas de cerveza en la pared.\n70 botellas de cerveza.\nToma una mas.\nPasala a los demas.\n69 botellas  de cervezas en la pared.\n\n69 botellas de cerveza en la pared.\n69 botellas de cerveza.\nToma una mas.\nPasala a los demas.\n68 botellas  de cervezas en la pared.\n\n68 botellas de cerveza en la pared.\n68 botellas de cerveza.\nToma una mas.\nPasala a los demas.\n67 botellas  de cervezas en la pared.\n\n67 botellas de cerveza en la pared.\n67 botellas de cerveza.\nToma una mas.\nPasala a los demas.\n66 botellas  de cervezas en la pared.\n\n66 botellas de cerveza en la pared.\n66 botellas de cerveza.\nToma una mas.\nPasala a los demas.\n65 botellas  de cervezas en la pared.\n\n65 botellas de cerveza en la pared.\n65 botellas de cerveza.\nToma una mas.\nPasala a los demas.\n64 botellas  de cervezas en la pared.\n\n64 botellas de cerveza en la pared.\n64 botellas de cerveza.\nToma una mas.\nPasala a los demas.\n63 botellas  de cervezas en la pared.\n\n63 botellas de cerveza en la pared.\n63 botellas de cerveza.\nToma una mas.\nPasala a los demas.\n62 botellas  de cervezas en la pared.\n\n62 botellas de cerveza en la pared.\n62 botellas de cerveza.\nToma una mas.\nPasala a los demas.\n61 botellas  de cervezas en la pared.\n\n61 botellas de cerveza en la pared.\n61 botellas de cerveza.\nToma una mas.\nPasala a los demas.\n60 botellas  de cervezas en la pared.\n\n60 botellas de cerveza en la pared.\n60 botellas de cerveza.\nToma una mas.\nPasala a los demas.\n59 botellas  de cervezas en la pared.\n\n59 botellas de cerveza en la pared.\n59 botellas de cerveza.\nToma una mas.\nPasala a los demas.\n58 botellas  de cervezas en la pared.\n\n58 botellas de cerveza en la pared.\n58 botellas de cerveza.\nToma una mas.\nPasala a los demas.\n57 botellas  de cervezas en la pared.\n\n57 botellas de cerveza en la pared.\n57 botellas de cerveza.\nToma una mas.\nPasala a los demas.\n56 botellas  de cervezas en la pared.\n\n56 botellas de cerveza en la pared.\n56 botellas de cerveza.\nToma una mas.\nPasala a los demas.\n55 botellas  de cervezas en la pared.\n\n55 botellas de cerveza en la pared.\n55 botellas de cerveza.\nToma una mas.\nPasala a los demas.\n54 botellas  de cervezas en la pared.\n\n54 botellas de cerveza en la pared.\n54 botellas de cerveza.\nToma una mas.\nPasala a los demas.\n53 botellas  de cervezas en la pared.\n\n53 botellas de cerveza en la pared.\n53 botellas de cerveza.\nToma una mas.\nPasala a los demas.\n52 botellas  de cervezas en la pared.\n\n52 botellas de cerveza en la pared.\n52 botellas de cerveza.\nToma una mas.\nPasala a los demas.\n51 botellas  de cervezas en la pared.\n\n51 botellas de cerveza en la pared.\n51 botellas de cerveza.\nToma una mas.\nPasala a los demas.\n50 botellas  de cervezas en la pared.\n\n50 botellas de cerveza en la pared.\n50 botellas de cerveza.\nToma una mas.\nPasala a los demas.\n49 botellas  de cervezas en la pared.\n\n49 botellas de cerveza en la pared.\n49 botellas de cerveza.\nToma una mas.\nPasala a los demas.\n48 botellas  de cervezas en la pared.\n\n48 botellas de cerveza en la pared.\n48 botellas de cerveza.\nToma una mas.\nPasala a los demas.\n47 botellas  de cervezas en la pared.\n\n47 botellas de cerveza en la pared.\n47 botellas de cerveza.\nToma una mas.\nPasala a los demas.\n46 botellas  de cervezas en la pared.\n\n46 botellas de cerveza en la pared.\n46 botellas de cerveza.\nToma una mas.\nPasala a los demas.\n45 botellas  de cervezas en la pared.\n\n45 botellas de cerveza en la pared.\n45 botellas de cerveza.\nToma una mas.\nPasala a los demas.\n44 botellas  de cervezas en la pared.\n\n44 botellas de cerveza en la pared.\n44 botellas de cerveza.\nToma una mas.\nPasala a los demas.\n43 botellas  de cervezas en la pared.\n\n43 botellas de cerveza en la pared.\n43 botellas de cerveza.\nToma una mas.\nPasala a los demas.\n42 botellas  de cervezas en la pared.\n\n42 botellas de cerveza en la pared.\n42 botellas de cerveza.\nToma una mas.\nPasala a los demas.\n41 botellas  de cervezas en la pared.\n\n41 botellas de cerveza en la pared.\n41 botellas de cerveza.\nToma una mas.\nPasala a los demas.\n40 botellas  de cervezas en la pared.\n\n40 botellas de cerveza en la pared.\n40 botellas de cerveza.\nToma una mas.\nPasala a los demas.\n39 botellas  de cervezas en la pared.\n\n39 botellas de cerveza en la pared.\n39 botellas de cerveza.\nToma una mas.\nPasala a los demas.\n38 botellas  de cervezas en la pared.\n\n38 botellas de cerveza en la pared.\n38 botellas de cerveza.\nToma una mas.\nPasala a los demas.\n37 botellas  de cervezas en la pared.\n\n37 botellas de cerveza en la pared.\n37 botellas de cerveza.\nToma una mas.\nPasala a los demas.\n36 botellas  de cervezas en la pared.\n\n36 botellas de cerveza en la pared.\n36 botellas de cerveza.\nToma una mas.\nPasala a los demas.\n35 botellas  de cervezas en la pared.\n\n35 botellas de cerveza en la pared.\n35 botellas de cerveza.\nToma una mas.\nPasala a los demas.\n34 botellas  de cervezas en la pared.\n\n34 botellas de cerveza en la pared.\n34 botellas de cerveza.\nToma una mas.\nPasala a los demas.\n33 botellas  de cervezas en la pared.\n\n33 botellas de cerveza en la pared.\n33 botellas de cerveza.\nToma una mas.\nPasala a los demas.\n32 botellas  de cervezas en la pared.\n\n32 botellas de cerveza en la pared.\n32 botellas de cerveza.\nToma una mas.\nPasala a los demas.\n31 botellas  de cervezas en la pared.\n\n31 botellas de cerveza en la pared.\n31 botellas de cerveza.\nToma una mas.\nPasala a los demas.\n30 botellas  de cervezas en la pared.\n\n30 botellas de cerveza en la pared.\n30 botellas de cerveza.\nToma una mas.\nPasala a los demas.\n29 botellas  de cervezas en la pared.\n\n29 botellas de cerveza en la pared.\n29 botellas de cerveza.\nToma una mas.\nPasala a los demas.\n28 botellas  de cervezas en la pared.\n\n28 botellas de cerveza en la pared.\n28 botellas de cerveza.\nToma una mas.\nPasala a los demas.\n27 botellas  de cervezas en la pared.\n\n27 botellas de cerveza en la pared.\n27 botellas de cerveza.\nToma una mas.\nPasala a los demas.\n26 botellas  de cervezas en la pared.\n\n26 botellas de cerveza en la pared.\n26 botellas de cerveza.\nToma una mas.\nPasala a los demas.\n25 botellas  de cervezas en la pared.\n\n25 botellas de cerveza en la pared.\n25 botellas de cerveza.\nToma una mas.\nPasala a los demas.\n24 botellas  de cervezas en la pared.\n\n24 botellas de cerveza en la pared.\n24 botellas de cerveza.\nToma una mas.\nPasala a los demas.\n23 botellas  de cervezas en la pared.\n\n23 botellas de cerveza en la pared.\n23 botellas de cerveza.\nToma una mas.\nPasala a los demas.\n22 botellas  de cervezas en la pared.\n\n22 botellas de cerveza en la pared.\n22 botellas de cerveza.\nToma una mas.\nPasala a los demas.\n21 botellas  de cervezas en la pared.\n\n21 botellas de cerveza en la pared.\n21 botellas de cerveza.\nToma una mas.\nPasala a los demas.\n20 botellas  de cervezas en la pared.\n\n20 botellas de cerveza en la pared.\n20 botellas de cerveza.\nToma una mas.\nPasala a los demas.\n19 botellas  de cervezas en la pared.\n\n19 botellas de cerveza en la pared.\n19 botellas de cerveza.\nToma una mas.\nPasala a los demas.\n18 botellas  de cervezas en la pared.\n\n18 botellas de cerveza en la pared.\n18 botellas de cerveza.\nToma una mas.\nPasala a los demas.\n17 botellas  de cervezas en la pared.\n\n17 botellas de cerveza en la pared.\n17 botellas de cerveza.\nToma una mas.\nPasala a los demas.\n16 botellas  de cervezas en la pared.\n\n16 botellas de cerveza en la pared.\n16 botellas de cerveza.\nToma una mas.\nPasala a los demas.\n15 botellas  de cervezas en la pared.\n\n15 botellas de cerveza en la pared.\n15 botellas de cerveza.\nToma una mas.\nPasala a los demas.\n14 botellas  de cervezas en la pared.\n\n14 botellas de cerveza en la pared.\n14 botellas de cerveza.\nToma una mas.\nPasala a los demas.\n13 botellas  de cervezas en la pared.\n\n13 botellas de cerveza en la pared.\n13 botellas de cerveza.\nToma una mas.\nPasala a los demas.\n12 botellas  de cervezas en la pared.\n\n12 botellas de cerveza en la pared.\n12 botellas de cerveza.\nToma una mas.\nPasala a los demas.\n11 botellas  de cervezas en la pared.\n\n11 botellas de cerveza en la pared.\n11 botellas de cerveza.\nToma una mas.\nPasala a los demas.\n10 botellas  de cervezas en la pared.\n\n10 botellas de cerveza en la pared.\n10 botellas de cerveza.\nToma una mas.\nPasala a los demas.\n9 botellas  de cervezas en la pared.\n\n9 botellas de cerveza en la pared.\n9 botellas de cerveza.\nToma una mas.\nPasala a los demas.\n8 botellas  de cervezas en la pared.\n\n8 botellas de cerveza en la pared.\n8 botellas de cerveza.\nToma una mas.\nPasala a los demas.\n7 botellas  de cervezas en la pared.\n\n7 botellas de cerveza en la pared.\n7 botellas de cerveza.\nToma una mas.\nPasala a los demas.\n6 botellas  de cervezas en la pared.\n\n6 botellas de cerveza en la pared.\n6 botellas de cerveza.\nToma una mas.\nPasala a los demas.\n5 botellas  de cervezas en la pared.\n\n5 botellas de cerveza en la pared.\n5 botellas de cerveza.\nToma una mas.\nPasala a los demas.\n4 botellas  de cervezas en la pared.\n\n4 botellas de cerveza en la pared.\n4 botellas de cerveza.\nToma una mas.\nPasala a los demas.\n3 botellas  de cervezas en la pared.\n\n3 botellas de cerveza en la pared.\n3 botellas de cerveza.\nToma una mas.\nPasala a los demas.\n2 botellas  de cervezas en la pared.\n\n2 botellas de cerveza en la pared.\n2 botellas de cerveza.\nToma una mas.\nPasala a los demas.\n1 botella  de cervezas en la pared.\n\n1 botella de cerveza en la pared.\n1 botella de cerveza.\nToma una mas.\nPasala a los demas.\nNo hay mas cervezas en la pared.\n\n"
    }
   ],
   "source": [
    "palabra = \"botellas\"\n",
    "for numero_cerveza in range(99, 0, -1):\n",
    "    print(numero_cerveza, palabra, \"de cerveza en la pared.\")\n",
    "    print(numero_cerveza, palabra, \"de cerveza.\")\n",
    "    print(\"Toma una mas.\")\n",
    "    print(\"Pasala a los demas.\")\n",
    "    if numero_cerveza == 1:\n",
    "        print(\"No hay mas cervezas en la pared.\")\n",
    "    else:\n",
    "        revisor_numero_cervezas = numero_cerveza - 1\n",
    "        if revisor_numero_cervezas == 1:\n",
    "            palabra = \"botella\"\n",
    "        print(revisor_numero_cervezas, palabra, \" de cervezas en la pared.\")\n",
    "    print()"
   ]
  },
  {
   "cell_type": "code",
   "execution_count": 7,
   "metadata": {
    "tags": []
   },
   "outputs": [
    {
     "output_type": "stream",
     "name": "stdout",
     "text": "Es una vocal:  i\nEs una vocal:  i\nEs una vocal:  a\n"
    }
   ],
   "source": [
    "vocales = [\"a\",\"e\",\"i\",\"o\",\"u\"]\n",
    "palabra = \"Milliways\"\n",
    "\n",
    "for letra in palabra:\n",
    "    if letra in vocales:\n",
    "        print(\"Es una vocal: \", letra)\n",
    "    "
   ]
  },
  {
   "cell_type": "code",
   "execution_count": 8,
   "metadata": {
    "tags": []
   },
   "outputs": [
    {
     "output_type": "stream",
     "name": "stdout",
     "text": "vocales recolectadas:  o\nvocales recolectadas:  a\nvocales recolectadas:  u\nvocales recolectadas:  e\nvocales recolectadas:  i\nvocales recolectadas:  o\nvocales recolectadas:  i\nvocales recolectadas:  a\nvocales recolectadas:  e\nvocales recolectadas:  o\n"
    }
   ],
   "source": [
    "vocales = [\"a\",\"e\",\"i\",\"o\",\"u\"]\n",
    "palabras = input(\"Ingrese palabras para recolectar sus vocales\")\n",
    "encontradas = []\n",
    "for letra in palabras:\n",
    "    if letra in vocales:\n",
    "        encontradas.append(letra)\n",
    "for voc  in encontradas:\n",
    "    print(\"vocales recolectadas: \", voc)"
   ]
  },
  {
   "cell_type": "code",
   "execution_count": 23,
   "metadata": {
    "tags": []
   },
   "outputs": [
    {
     "output_type": "stream",
     "name": "stdout",
     "text": "Don't panic!\n['D', 'o', 'n', \"'\", 't', ' ', 'p', 'a', 'n', 'i', 'c', '!']\n['o', 'n', ' ', 't', 'a', 'p']\non tap\n"
    }
   ],
   "source": [
    "frase = \"Don't panic!\"\n",
    "frase_list = list(frase)\n",
    "print(frase)\n",
    "print(frase_list)\n",
    "\n",
    "nueva_frase = frase_list\n",
    "nueva_frase = nueva_frase[1:8]\n",
    "nueva_frase.insert(2, \" \")\n",
    "nueva_frase.remove(\"'\")\n",
    "nueva_frase.insert(4, \"a\")\n",
    "nueva_frase.insert(5, \"p\")\n",
    "nueva_frase = nueva_frase[0:6]\n",
    "print(nueva_frase)\n",
    "new_frase = ''.join(nueva_frase)\n",
    "print(new_frase)"
   ]
  },
  {
   "cell_type": "code",
   "execution_count": 34,
   "metadata": {},
   "outputs": [
    {
     "output_type": "execute_result",
     "data": {
      "text/plain": "{'Nombre': 'Enry Ford',\n 'Sexo': 'Masculino',\n 'Ocupacion': 'Estudiante',\n 'Planeta': 'Betheljewes 7'}"
     },
     "metadata": {},
     "execution_count": 34
    }
   ],
   "source": [
    "#Dicionarios\n",
    "\n",
    "persona = { 'Nombre': \"Enry Ford\",\n",
    "            'Sexo': \"Masculino\",\n",
    "            'Ocupacion': \"Estudiante\",\n",
    "            'Planeta': \"Betheljewes 7\" }\n",
    "\n",
    "persona   "
   ]
  },
  {
   "cell_type": "code",
   "execution_count": 38,
   "metadata": {},
   "outputs": [
    {
     "output_type": "execute_result",
     "data": {
      "text/plain": "'Masculino'"
     },
     "metadata": {},
     "execution_count": 38
    }
   ],
   "source": [
    "persona[\"Sexo\"]"
   ]
  },
  {
   "cell_type": "code",
   "execution_count": 64,
   "metadata": {
    "tags": []
   },
   "outputs": [
    {
     "output_type": "stream",
     "name": "stdout",
     "text": "a fue encontrada:  2 veces\ne fue encontrada:  1 veces\ni fue encontrada:  1 veces\no fue encontrada:  1 veces\nu fue encontrada:  3 veces\n"
    }
   ],
   "source": [
    "\n",
    "# Lista de vocales a controlar\n",
    "vocales = ['a', 'e', 'i', 'o', 'u']\n",
    "\n",
    "# Solicito texto de entrada para obtener la frecuencia de aparicion de vocales\"\n",
    "texto = input(\"Ingrese un texto para contar las vocales en el.\")\n",
    "\n",
    "# Inicializo Diccionario para contar la frecuencia de aparicion de vocales\"\n",
    "found = {}\n",
    "\n",
    "# Analizo letra a letra las vocales y registro su aparicion en el diccionario. \n",
    "for letra in texto:\n",
    "    if letra in vocales:\n",
    "        found.setdefault(letra, 0)\n",
    "        found[letra] += 1\n",
    "\n",
    "# Muestro por pantalla la frecuencia de aparicion de cada vocal del texto ingresado\n",
    "for k, v in sorted(found.items()):\n",
    "    print(k, \"fue encontrada: \", v, \"veces\")"
   ]
  },
  {
   "cell_type": "code",
   "execution_count": 81,
   "metadata": {
    "tags": []
   },
   "outputs": [
    {
     "output_type": "stream",
     "name": "stdout",
     "text": "union de eltos entre palabra y vocales:\n  ['a', 'e', 'h', 'i', 'l', 'o', 'u']\ndiferencia de eltos que no aparecen en palabra pero si en el set de vocales:\n  {'u', 'a', 'i'}\nInterseccion de eltos entre palabra y set de vocales:  {'e', 'o'}\n"
    }
   ],
   "source": [
    "vocales = set('aeiou')\n",
    "palabra = \"hello\"\n",
    "\n",
    "union = vocales.union(set(palabra))\n",
    "union_list = sorted(list(union))\n",
    "print(f\"union de eltos entre palabra y vocales:\\n \",union_list)\n",
    " \n",
    "# muestro los eltos que no existe en palabra pero si en vocales \n",
    "diff = vocales.difference(set(palabra))\n",
    "print(f\"diferencia de eltos que no aparecen en palabra pero si en el set de vocales:\\n \",diff) \n",
    "\n",
    "inter = vocales.intersection(set(palabra))\n",
    "print(f\"Interseccion de eltos entre palabra y set de vocales: \", inter)"
   ]
  },
  {
   "cell_type": "code",
   "execution_count": 14,
   "metadata": {
    "tags": []
   },
   "outputs": [
    {
     "output_type": "stream",
     "name": "stdout",
     "text": "Numero de telefono encotrado:  265-245-5488\nNumero de telefono encotrado:  111-235-3333\nNumero de telefono encotrado:  111-235-3333\nCodigo de area:    111\nNumero principal:  235 - 3333\n"
    }
   ],
   "source": [
    "#modulo necesaro para usar expresiones regulares en python\n",
    "import re\n",
    "\n",
    "# Expresines regulares\n",
    "# \\d = Es un caracter que es un digito o sea (\"0\",\"1\",\"2\",\"3\"...\"9\")\n",
    "\n",
    "#Encontrando patrones en string\n",
    "\n",
    "numTelefonoReExp = re.compile(r\"\\d\\d\\d-\\d\\d\\d-\\d\\d\\d\\d\")\n",
    "numTelefonoReExp2 = re.compile(r\"\\d{3}-\\d{3}-\\d{4}\")\n",
    "numTelefonoReExp3 = re.compile(r\"(\\d{3})-(\\d{3})-(\\d{4})\")\n",
    "mo = numTelefonoReExp.search(\"Mi numero de telefono es: 265-245-5488\")\n",
    "mu = numTelefonoReExp2.search(\"Mi numero de telefono es: 111-235-3333\")\n",
    "ma = numTelefonoReExp3.search(\"Mi numero de telefono es: 111-235-3333\")\n",
    "print(\"Numero de telefono encotrado: \", mo.group())\n",
    "print(\"Numero de telefono encotrado: \", mu.group())\n",
    "print(\"Numero de telefono encotrado: \", ma.group())\n",
    "\n",
    "# uso de parentesis para extrar eltos del coincidencia encontrada por RegExp\n",
    "\n",
    "cod_area = ma.group(1)\n",
    "segundo_elto = ma.group(2)\n",
    "tercer_elto = ma.group(3)\n",
    "print(f\"Codigo de area:   \",cod_area)\n",
    "print(f\"Numero principal: \",segundo_elto,\"-\",tercer_elto)\n",
    " \n"
   ]
  },
  {
   "cell_type": "code",
   "execution_count": 5,
   "metadata": {},
   "outputs": [
    {
     "output_type": "execute_result",
     "data": {
      "text/plain": "'Spider Man'"
     },
     "metadata": {},
     "execution_count": 5
    }
   ],
   "source": [
    "#modulo necesaro para usar expresiones regulares en python\n",
    "import re\n",
    "\n",
    "# Expresines regulares\n",
    "# | (pipe)= permite encontrar la primera coincidencia (a | b) de un \n",
    "# strig dado, pero solo a o b (la primera que encuentre)\n",
    "\n",
    "#Encontrando patrones en string con pipe |\n",
    "\n",
    "#Encontrando la primera coincidencia exacta dentro de las opciones dadas.\n",
    "\n",
    "heroesPipe = re.compile (r\"Superman|Spider Man\")\n",
    "mo1 = heroesPipe.search(\"las Increibles aventuras de Spider Man y Superman.\")\n",
    "mo1.group()"
   ]
  },
  {
   "cell_type": "code",
   "execution_count": 11,
   "metadata": {},
   "outputs": [
    {
     "output_type": "execute_result",
     "data": {
      "text/plain": "'baticueva'"
     },
     "metadata": {},
     "execution_count": 11
    }
   ],
   "source": [
    "#modulo necesaro para usar expresiones regulares en python\n",
    "import re\n",
    "\n",
    "# Expresines regulares\n",
    "# | (pipe)= permite encontrar la primera coincidencia (a | b) de un \n",
    "# strig dado, pero solo a o b (la primera que encuentre)\n",
    "\n",
    "#Encontrando patrones en string con pipe |\n",
    "\n",
    "#Encontrando la primera coincidencia exacta dentro de las opciones dadas.\n",
    "\n",
    "batRegExp = re.compile (r\"bati(movil|chica|cueva|herramietas)\")\n",
    "mo = batRegExp.search(\"el villano joker mato a su archienemigo, tirandolo de la baticueva, mas no contaba con batichica y sus batiherramientas, mas la ayuda del batimovil pudiendon salvar a...\")\n",
    "mo.group()"
   ]
  },
  {
   "cell_type": "code",
   "execution_count": 12,
   "metadata": {
    "tags": []
   },
   "outputs": [
    {
     "output_type": "stream",
     "name": "stdout",
     "text": "Batman\nBatwoman\n"
    }
   ],
   "source": [
    "#modulo necesaro para usar expresiones regulares en python\n",
    "import re\n",
    "\n",
    "# Expresines regulares\n",
    "# | (pipe)= permite encontrar la primera coincidencia (a | b) de un \n",
    "# strig dado, pero solo a o b (la primera que encuentre)\n",
    "\n",
    "#Encontrando patrones en string  y con un opcional\n",
    "\n",
    "#Encontrando la primera coincidencia exacta o con un opcional\n",
    "\n",
    "batReg = re.compile(r\"Bat(wo)?man\")\n",
    "mu = batReg.search(\" las aventuras de Batman y Batwoman\")\n",
    "print(mu.group())\n",
    "me = batReg.search(\" las aventuras de Batwoman y Batman\")\n",
    "print(me.group())"
   ]
  },
  {
   "cell_type": "code",
   "execution_count": 15,
   "metadata": {
    "tags": []
   },
   "outputs": [
    {
     "output_type": "stream",
     "name": "stdout",
     "text": "batwoman\nbatman\nbatwoman\nbatwowowowoman\n"
    }
   ],
   "source": [
    "#modulo necesaro para usar expresiones regulares en python\n",
    "import re\n",
    "\n",
    "# Expresines regulares\n",
    "# | (pipe)= permite encontrar la primera coincidencia (a | b) de un \n",
    "# strig dado, pero solo a o b (la primera que encuentre)\n",
    "\n",
    "#Encontrando patrones en string  y con un opcional\n",
    "\n",
    "#Encontrando la primera coincidencia exacta o con un opcional\n",
    "\n",
    "# The * (called the star or asterisk) significa \n",
    "# “coincidencia con zero  or mas” \n",
    "# o sea ma(sa)*to = mato, masato, masasasasato\n",
    "#  -> todas correctas (devuelve la primera correcta)\n",
    "\n",
    "superRegex = re.compile ( r\"bat(wo)*man\")\n",
    "coincidencia1 = \" las aventauras de batwoman y batman\"\n",
    "coincidencia2 = \" las aventauras de batman y batwoman\"\n",
    "coincidencia3 = \" las aventauras de batwowowowwo y batwoman\"\n",
    "coincidencia4 = \" las aventauras de batwowowowoman y batwoman\"\n",
    "ma1 = superRegex.search(coincidencia1)\n",
    "ma2 = superRegex.search(coincidencia2)\n",
    "ma3 = superRegex.search(coincidencia3)\n",
    "ma4 = superRegex.search(coincidencia4)\n",
    "print(ma1.group())\n",
    "print(ma2.group())\n",
    "print(ma3.group())\n",
    "print(ma4.group())"
   ]
  },
  {
   "cell_type": "code",
   "execution_count": 16,
   "metadata": {
    "tags": []
   },
   "outputs": [
    {
     "output_type": "stream",
     "name": "stdout",
     "text": "batwoman\nbatwoman\nbatwoman\nbatwowowowoman\n"
    }
   ],
   "source": [
    "#modulo necesaro para usar expresiones regulares en python\n",
    "import re\n",
    "\n",
    "# Expresines regulares\n",
    "# | (pipe)= permite encontrar la primera coincidencia (a | b) de un \n",
    "# strig dado, pero solo a o b (la primera que encuentre)\n",
    "\n",
    "#Encontrando patrones en string  y con un opcional\n",
    "\n",
    "#Encontrando la primera coincidencia exacta o con un opcional\n",
    "\n",
    "# The + (1 al menos) significa \n",
    "# “coincidencia con uno  or mas”  (exige 1 al menos)\n",
    "# o sea ma(sa)+to = masato, masasasasato\n",
    "#  -> todas correctas (devuelve la primera correcta)\n",
    "\n",
    "superRegex = re.compile ( r\"bat(wo)+man\")\n",
    "coincidencia1 = \" las aventauras de batwoman y batman\"\n",
    "coincidencia2 = \" las aventauras de batman y batwoman\"\n",
    "coincidencia3 = \" las aventauras de batwowowowwo y batwoman\"\n",
    "coincidencia4 = \" las aventauras de batwowowowoman y batwoman\"\n",
    "ma1 = superRegex.search(coincidencia1)\n",
    "ma2 = superRegex.search(coincidencia2)\n",
    "ma3 = superRegex.search(coincidencia3)\n",
    "ma4 = superRegex.search(coincidencia4)\n",
    "print(ma1.group())\n",
    "print(ma2.group())\n",
    "print(ma3.group())\n",
    "print(ma4.group())\n",
    "\n",
    "# batman no es una coincidencia valida porque exigo que tenga \n",
    "# al menos un \"wo\" en el string"
   ]
  },
  {
   "cell_type": "code",
   "execution_count": 25,
   "metadata": {
    "tags": []
   },
   "outputs": [
    {
     "output_type": "stream",
     "name": "stdout",
     "text": "hahaha\nNone\n********************\nhahahahaha\nhahaha\nhahahahaha\n"
    }
   ],
   "source": [
    "#modulo necesaro para usar expresiones regulares en python\n",
    "import re\n",
    "\n",
    "# Expresines regulares\n",
    "# | (pipe)= permite encontrar la primera coincidencia (a | b) de un \n",
    "# strig dado, pero solo a o b (la primera que encuentre)\n",
    "\n",
    "#Encontrando patrones en string  y con un opcional\n",
    "\n",
    "#Encontrando la primera coincidencia exacta o con un opcional\n",
    "\n",
    "#  Encontrando coincidencias que se repiten varias veces de manera\n",
    "#  continua o sea Ha (1 vez), haha(2 veces), hahaha(3 veces)\n",
    "#  \n",
    "\n",
    " \n",
    "superRegexHa1 = re.compile ( r\"(ha){3}\")\n",
    "coincidencia1 = \" el chiste uno estuvo para hahaha 3 de risa\"\n",
    "coincidencia2 = \" el chiste uno estuvo para haha 2 de risa\"\n",
    "\n",
    "#por defecto nos devuelve la coicidencia codiciosa o sea el\n",
    "#string mas largo que cumple con lo solicitado\n",
    "superRegexHa2 = re.compile ( r\"(ha){3,5}\" )\n",
    "coincidencia3 = \" el chiste uno estuvo para hahahahaha 5 de risa\"\n",
    "coincidencia4 = \" el chiste uno estuvo para hahaha 3 de risa\"\n",
    "coincidencia5 = \" el chiste uno estuvo para hahahahahahaha 6 de risa\"\n",
    "ma1 = superRegexHa1.search(coincidencia1)\n",
    "ma2 = superRegexHa1.search(coincidencia2)\n",
    "ma3 = superRegexHa2.search(coincidencia3)\n",
    "ma4 = superRegexHa2.search(coincidencia4)\n",
    "ma5 = superRegexHa2.search(coincidencia5)\n",
    "print(ma1.group())\n",
    "print(ma2)\n",
    "print(\"********************\")\n",
    "print(ma3.group())\n",
    "print(ma4.group())\n",
    "print(ma5.group())"
   ]
  },
  {
   "cell_type": "code",
   "execution_count": 27,
   "metadata": {},
   "outputs": [
    {
     "output_type": "execute_result",
     "data": {
      "text/plain": "'HaHaHaHaHa'"
     },
     "metadata": {},
     "execution_count": 27
    }
   ],
   "source": [
    "#por defecto nos devuelve la coicidencia codiciosa o sea el\n",
    "#string mas largo que cumple con lo solicitado (5 o 4) sino 3\n",
    " greedyHaRegex = re.compile(r'(Ha){3,5}')\n",
    " mo1 = greedyHaRegex.search('HaHaHaHaHa')\n",
    " mo1.group()\n",
    " "
   ]
  },
  {
   "cell_type": "code",
   "execution_count": 28,
   "metadata": {},
   "outputs": [
    {
     "output_type": "execute_result",
     "data": {
      "text/plain": "'HaHaHa'"
     },
     "metadata": {},
     "execution_count": 28
    }
   ],
   "source": [
    " #por defecto nos devuelve la coicidencia humilde o sea el\n",
    "# string de menor logitud que cumple con lo solicitado (3 o 4) sino 5\n",
    " nongreedyHaRegex = re.compile(r'(Ha){3,5}?')\n",
    " mo2 = nongreedyHaRegex.search('HaHaHaHaHa')\n",
    " mo2.group()"
   ]
  },
  {
   "cell_type": "code",
   "execution_count": 12,
   "metadata": {
    "tags": []
   },
   "outputs": [
    {
     "output_type": "stream",
     "name": "stdout",
     "text": "uso de seach()  265-245-5488\n*******************************************\nuso de findall()  ['265-245-5488', '111-235-3333', '111-235-3333']\ncantidad de eltos de la tupla 3\nprimer  eltos de la tupla 265-245-5488\n"
    }
   ],
   "source": [
    "import re\n",
    "# findall() vs search()\n",
    "\n",
    "# findall() devuelve una tupla con la cantidad los eltos que cumplieron\n",
    "# la expresion regular establecida\n",
    "\n",
    "# search() solo nos devuelve un string que es la primera coincidencia\n",
    "# del elto que cumplio con la expresion regular establecida.\n",
    "\n",
    "\n",
    "numTelefonoReExp3 = re.compile(r\"\\d{3}-\\d{3}-\\d{4}\")\n",
    "\n",
    "usando_search = numTelefonoReExp3.search(\"Mi celular es: 265-245-5488, Mi telefono de trabajo: 111-235-3333 y mi telefono de casa es:111-235-3333\")\n",
    "print(\"uso de seach() \",usando_search.group())\n",
    "print(\"*******************************************\")\n",
    "usando_findall = numTelefonoReExp3.findall(\"Mi celular es: 265-245-5488, Mi telefono de trabajo: 111-235-3333 y mi telefono de casa es:111-235-3333\")\n",
    "print(\"uso de findall() \",usando_findall)\n",
    "print(\"cantidad de eltos de la tupla\",len(usando_findall))\n",
    "print(\"primer  eltos de la tupla\", usando_findall[0])"
   ]
  },
  {
   "cell_type": "code",
   "execution_count": 36,
   "metadata": {
    "tags": []
   },
   "outputs": [
    {
     "output_type": "stream",
     "name": "stdout",
     "text": "\n Nombre del restaurate:             Luiyi .\n Estilo de cocina:                  Tratoria .\n\n Nombre del restaurate:             Cordona .\n Estilo de cocina:                  Francesa .\n\n Nombre del restaurate:             La Chaucha Feliz .\n Estilo de cocina:                  Vegy friend .\n Especialidad de la casa:           Chauchas Fritas .\n"
    }
   ],
   "source": [
    "class Restorante(object):\n",
    "    \n",
    "    def __init__(self, nombre_restorante, estilo_cocina):\n",
    "        \"\"\" Inicializa los atributos nombre_restorante y estilo_cocina\"\"\"\n",
    "        self.nombre_restorante = nombre_restorante\n",
    "        self.estilo_cocina = estilo_cocina \n",
    "\n",
    "    def describir_restorante(self):\n",
    "        \"\"\" Describe las caracteristicas de un restorante\"\"\"\n",
    "        print(\"\\n Nombre del restaurate:            \",self.nombre_restorante,\".\")\n",
    "        print(\" Estilo de cocina:                 \",self.estilo_cocina,\".\")\n",
    "\n",
    "\n",
    "class RestoranteVegy(Restorante):\n",
    "\n",
    "    def __init__(self, nombre_restorante, estilo_cocina, especialidad):\n",
    "        super().__init__(nombre_restorante, estilo_cocina)\n",
    "        self.especialidad = especialidad\n",
    "\n",
    "    def describir_restorante(self):\n",
    "        super().describir_restorante()\n",
    "        print(\" Especialidad de la casa:          \", self.especialidad,\".\")\n",
    "\n",
    "un_restaurante = Restorante(\"Luiyi\", \"Tratoria\")\n",
    "otro_restorante = Restorante(\"Cordona\", \"Francesa\")\n",
    "\n",
    "un_restaurante.describir_restorante()\n",
    "otro_restorante.describir_restorante()\n",
    "\n",
    "resto_vegi = RestoranteVegy(\"La Chaucha Feliz\", \"Vegy friend\", \"Chauchas Fritas\")\n",
    "resto_vegi.describir_restorante()"
   ]
  },
  {
   "cell_type": "code",
   "execution_count": 80,
   "metadata": {
    "tags": []
   },
   "outputs": [
    {
     "output_type": "stream",
     "name": "stdout",
     "text": "Nombre de usuario:  TpKiller\nNombre: Juan  Martinez\nEmail: JuanMtez@gmail.com\nSexo: Masculino\nPais de origen: Argentina\nEdad: 23 \n\nUn gusto de verte de vuelta por aqui: TpKiller \n\nNombre de usuario:  AdminKiller\nNombre: Jures  Martd\nEmail: JurAdmin@gmail.com\nSexo: Masculino\nPais de origen: Argentina\nEdad: 34 \n\n"
    },
    {
     "output_type": "error",
     "ename": "TypeError",
     "evalue": "add_privilegio_to_admin() takes 1 positional argument but 2 were given",
     "traceback": [
      "\u001b[0;31m---------------------------------------------------------------------------\u001b[0m",
      "\u001b[0;31mTypeError\u001b[0m                                 Traceback (most recent call last)",
      "\u001b[0;32m<ipython-input-80-71f5f4b54ccd>\u001b[0m in \u001b[0;36m<module>\u001b[0;34m\u001b[0m\n\u001b[1;32m     72\u001b[0m \u001b[0;34m\u001b[0m\u001b[0m\n\u001b[1;32m     73\u001b[0m \u001b[0madmin_user\u001b[0m\u001b[0;34m.\u001b[0m\u001b[0mdescribir_usuario\u001b[0m\u001b[0;34m(\u001b[0m\u001b[0;34m)\u001b[0m\u001b[0;34m\u001b[0m\u001b[0;34m\u001b[0m\u001b[0m\n\u001b[0;32m---> 74\u001b[0;31m \u001b[0madmin_user\u001b[0m\u001b[0;34m.\u001b[0m\u001b[0madd_privilegio_to_admin\u001b[0m\u001b[0;34m(\u001b[0m\u001b[0;34m\"POST\"\u001b[0m\u001b[0;34m)\u001b[0m\u001b[0;34m\u001b[0m\u001b[0;34m\u001b[0m\u001b[0m\n\u001b[0m\u001b[1;32m     75\u001b[0m \u001b[0madmin_user\u001b[0m\u001b[0;34m.\u001b[0m\u001b[0mmostrar_privilegios\u001b[0m\u001b[0;34m(\u001b[0m\u001b[0;34m)\u001b[0m\u001b[0;34m\u001b[0m\u001b[0;34m\u001b[0m\u001b[0m\n",
      "\u001b[0;31mTypeError\u001b[0m: add_privilegio_to_admin() takes 1 positional argument but 2 were given"
     ]
    }
   ],
   "source": [
    "class Usuario(object):\n",
    "    \"\"\"Modela un simple usuario\"\"\"\n",
    "\n",
    "    def __init__(self, nombre, apellido, nombre_usuario, email, sexo, pais, edad):\n",
    "        \"\"\"Inicializa los atributos de un usuario\"\"\"\n",
    "        self.nombre = nombre\n",
    "        self.apellido = apellido\n",
    "        self.nombre_usuario = nombre_usuario\n",
    "        self.email = email\n",
    "        self.sexo = sexo\n",
    "        self.pais = pais\n",
    "        self.edad = edad\n",
    "\n",
    "\n",
    "    def describir_usuario(self):\n",
    "        \"\"\"\\n Describe los atributos del usuario \"\"\"\n",
    "        print(\"Nombre de usuario: \", self.nombre_usuario)\n",
    "        print(\"Nombre:\", self.nombre,\"\", self.apellido)\n",
    "        print(\"Email:\", self.email)\n",
    "        print(\"Sexo:\", self.sexo)\n",
    "        print(\"Pais de origen:\", self.pais)\n",
    "        print(\"Edad:\", self.edad, \"\\n\")\n",
    "\n",
    "\n",
    "    def bienvenido_user(self):\n",
    "        \"\"\"Muestra un mensaje de bienvenida para un usuario\"\"\"\n",
    "        print(\"Un gusto de verte de vuelta por aqui:\", self.nombre_usuario, \"\\n\")\n",
    "\n",
    "\n",
    "class Admin(Usuario):\n",
    "    \"\"\"Modela un usuario del tipo administrador\"\"\"\n",
    "\n",
    "    def __init__(self, nombre, apellido, nombre_usuario, email, sexo, pais, edad):\n",
    "        super().__init__(nombre, apellido, nombre_usuario, email, sexo, pais, edad)\n",
    "        self.privilegio = Privilegio()\n",
    "\n",
    "    def mostrar_privilegios(self):\n",
    "        \"\"\"Muestra los privilegios actuales asignados al usuario\"\"\"\n",
    "        self.privilegio.mostrar_privilegios()\n",
    "\n",
    "    def add_privilegio_to_admin(un_privilegio):\n",
    "        self.privilegio.agregar_un_privilegio(un_privilegio)\n",
    "\n",
    "\n",
    "\n",
    "class Privilegio(object):\n",
    "    \"\"\"Modela los privilegios que un usuario administrador puede tener\"\"\"\n",
    "\n",
    "\n",
    "    def __init__(self, privilegio=[]):\n",
    "        \"\"\"Asigna los privilegios disponibles al objeto privilegio\"\"\"\n",
    "        self.privilegio = privilegio\n",
    "\n",
    "    def mostrar_privilegios(self):\n",
    "        print(\"<>--<>--> Listado de Privilegios disponibles <--<>--<>\\n\")\n",
    "        for un_privilegio in self.privilegio:\n",
    "            print(un_privilegio)\n",
    "        print(\"<>--<>--> Fin de Privilegios disponibles<--<>--<>\")\n",
    "\n",
    "    def agregar_un_privilegio(un_privilegio):\n",
    "        self.privilegio.append(un_privilegio)\n",
    "    \n",
    "    def remover_un_privilegio(un_privilegio):\n",
    "        self.privilegio.remove(un_privilegio)\n",
    "\n",
    "an_user = Usuario(\"Juan\",\"Martinez\",\"TpKiller\",\"JuanMtez@gmail.com\",\"Masculino\",\"Argentina\",\"23\")\n",
    "\n",
    "an_user.describir_usuario()\n",
    "an_user.bienvenido_user()\n",
    "\n",
    "admin_user = Admin(\"Jures\", \"Martd\", \"AdminKiller\", \"JurAdmin@gmail.com\", \"Masculino\", \"Argentina\", \"34\")\n",
    "\n",
    "admin_user.describir_usuario()\n",
    "admin_user.add_privilegio_to_admin(\"POST\")\n",
    "admin_user.mostrar_privilegios()"
   ]
  },
  {
   "cell_type": "code",
   "execution_count": 4,
   "metadata": {},
   "outputs": [
    {
     "output_type": "error",
     "ename": "AttributeError",
     "evalue": "'list' object has no attribute 'center'",
     "traceback": [
      "\u001b[0;31m---------------------------------------------------------------------------\u001b[0m",
      "\u001b[0;31mAttributeError\u001b[0m                            Traceback (most recent call last)",
      "\u001b[0;32m<ipython-input-4-cc69da1cd594>\u001b[0m in \u001b[0;36m<module>\u001b[0;34m\u001b[0m\n\u001b[1;32m      1\u001b[0m \u001b[0;34m\"\"\"FORMAT CENTER AND  PRINT A MESSAGE\"\"\"\u001b[0m\u001b[0;34m\u001b[0m\u001b[0;34m\u001b[0m\u001b[0m\n\u001b[1;32m      2\u001b[0m \u001b[0mmessage\u001b[0m \u001b[0;34m=\u001b[0m \u001b[0;34m[\u001b[0m\u001b[0;34m\"         Good day to all  !!!! \"\u001b[0m\u001b[0;34m]\u001b[0m\u001b[0;34m\u001b[0m\u001b[0;34m\u001b[0m\u001b[0m\n\u001b[0;32m----> 3\u001b[0;31m \u001b[0mprint\u001b[0m\u001b[0;34m(\u001b[0m\u001b[0mmessage\u001b[0m\u001b[0;34m.\u001b[0m\u001b[0mcenter\u001b[0m\u001b[0;34m(\u001b[0m\u001b[0;36m10\u001b[0m\u001b[0;34m)\u001b[0m\u001b[0;34m)\u001b[0m\u001b[0;34m\u001b[0m\u001b[0;34m\u001b[0m\u001b[0m\n\u001b[0m",
      "\u001b[0;31mAttributeError\u001b[0m: 'list' object has no attribute 'center'"
     ]
    }
   ],
   "source": [
    "\"\"\"FORMAT CENTER AND  PRINT A MESSAGE\"\"\"\n",
    "message = [\"         Good day to all  !!!! \"]\n",
    "print(message.center(10))"
   ]
  },
  {
   "cell_type": "code",
   "execution_count": 48,
   "metadata": {
    "tags": []
   },
   "outputs": [
    {
     "output_type": "stream",
     "name": "stdout",
     "text": "Good morning in the EEUU, I'am Gonzalo and we are in 2020 !!!\n"
    }
   ],
   "source": [
    "message = (\"Good morning in the {}, I'am {} and we are in {} !!!\").format(\"EEUU\", \"Gonzalo\", 2000 + 20)\n",
    "print(message)"
   ]
  },
  {
   "cell_type": "code",
   "execution_count": 52,
   "metadata": {
    "tags": []
   },
   "outputs": [
    {
     "output_type": "stream",
     "name": "stdout",
     "text": "98\n"
    }
   ],
   "source": [
    "x = int(98.6)\n",
    "print(x)"
   ]
  },
  {
   "cell_type": "code",
   "execution_count": 55,
   "metadata": {
    "tags": []
   },
   "outputs": [
    {
     "output_type": "stream",
     "name": "stdout",
     "text": "Hello Sara\n"
    }
   ],
   "source": [
    "# The code below almost works\n",
    "\n",
    "name = input(\"Enter your name\")\n",
    "print(\"Hello\",name)"
   ]
  },
  {
   "cell_type": "code",
   "execution_count": 57,
   "metadata": {
    "tags": []
   },
   "outputs": [
    {
     "output_type": "stream",
     "name": "stdout",
     "text": "Pay: 96.25\n"
    }
   ],
   "source": [
    "# This first line is provided for you\n",
    "\n",
    "hrs = input(\"Enter Hours:\")\n",
    "rate = input(\"Enter rate per hour:\")\n",
    "pay = int(hrs) * float(rate)\n",
    "print(\"Pay:\",pay)"
   ]
  },
  {
   "cell_type": "code",
   "execution_count": 8,
   "metadata": {
    "tags": []
   },
   "outputs": [
    {
     "output_type": "stream",
     "name": "stdout",
     "text": "Is 6\nIs Still 6\nThird 6\n"
    }
   ],
   "source": [
    "x = 6\n",
    "if x == 6 :\n",
    "   print('Is 6')\n",
    "   print('Is Still 6')\n",
    "   print('Third 6')"
   ]
  },
  {
   "cell_type": "code",
   "execution_count": 7,
   "metadata": {
    "tags": []
   },
   "outputs": [
    {
     "output_type": "stream",
     "name": "stdout",
     "text": "Is 5\nIs Still 5\nThird 5\n"
    }
   ],
   "source": [
    "m = 5\n",
    "if  m == 5:\n",
    "     print('Is 5')\n",
    "     print('Is Still 5')\n",
    "     print('Third 5')"
   ]
  },
  {
   "cell_type": "code",
   "execution_count": 35,
   "metadata": {
    "tags": []
   },
   "outputs": [
    {
     "output_type": "stream",
     "name": "stdout",
     "text": "Horas trabajadas ingresadas: 45.0\nPago por hora ingresado 10.5\n498.75\n"
    }
   ],
   "source": [
    "\"Escriba un programa para solicitar al usuario las horas y la tarifa por hora utilizando la entrada para calcular el pago bruto. Pague la tarifa por hora por las horas hasta 40 y 1.5 veces la tarifa por hora por todas las horas trabajadas por encima de las 40 horas. Use 45 horas y una tasa de 10.50 por hora para probar el programa (el pago debe ser 498.75). Debe usar input para leer una cadena y float () para convertir la cadena en un número. No se preocupe por el error al verificar la entrada del usuario; suponga que el usuario escribe los números correctamente.\"\n",
    "\n",
    "hrs = input(\"Enter Hours:\")\n",
    "rate = input(\"Enter rate for hours:\")\n",
    "try :\n",
    "    h = float(hrs)\n",
    "    r = float(rate)\n",
    "except:\n",
    "    print(\"Error, por favor ingrese un valor numerico\")\n",
    "    quit()\n",
    "\n",
    "print(\"Horas trabajadas ingresadas:\",h)\n",
    "print(\"Pago por hora ingresado\",r)\n",
    "if h > 40 :\n",
    "    normal_pay = 40 * r\n",
    "    extra_hours = h - 40\n",
    "    extra_rate_pay = 1.5 * r\n",
    "    bonus_pay = extra_hours * extra_rate_pay\n",
    "    pay = normal_pay + bonus_pay\n",
    "elif  ( h >= 0 and h <= 40 ) :\n",
    "    pay = h * r\n",
    "else:\n",
    "    pay = 0.0\n",
    "print(pay)"
   ]
  },
  {
   "cell_type": "code",
   "execution_count": 52,
   "metadata": {
    "tags": []
   },
   "outputs": [
    {
     "output_type": "stream",
     "name": "stdout",
     "text": "B\n"
    }
   ],
   "source": [
    "\"\"\"3.3 Write a program to prompt for a score between 0.0 and 1.0. If the score is out of range, print an error. If the score is between 0.0 and 1.0, print a grade using the following table:\n",
    "Score Grade\n",
    ">= 0.9 A\n",
    ">= 0.8 B\n",
    ">= 0.7 C\n",
    ">= 0.6 D\n",
    "< 0.6 F\n",
    "If the user enters a value out of range, print a suitable error message and exit. For the test, enter a score of 0.85.\"\"\"\n",
    "\n",
    "score = input(\"Enter Score: \")\n",
    "try :\n",
    "    s = float(score)\n",
    "except:\n",
    "    print(\"Es necesario un valor numerico para el score entre 0.0 y 1.0\")\n",
    "    quit()\n",
    "\n",
    "if s > 1.0 or s < 0.0 :\n",
    "    print(\"Error: El valor del score valido esta entre 0.0 hasta 1.0, se ingreso\", s)\n",
    "elif s >= 0.9 :\n",
    "    print(\"A\")\n",
    "elif s >= 0.8 and s < 0.9 :\n",
    "    print(\"B\")\n",
    "elif s >= 0.7 and s < 0.8 :\n",
    "    print(\"C\")\n",
    "elif s >= 0.6 and s < 0.7 :\n",
    "    print(\"D\")\n",
    "else:\n",
    "    print(\"F\")\n"
   ]
  },
  {
   "cell_type": "code",
   "execution_count": 56,
   "metadata": {
    "tags": []
   },
   "outputs": [
    {
     "output_type": "stream",
     "name": "stdout",
     "text": "Hello\n"
    },
    {
     "output_type": "execute_result",
     "data": {
      "text/plain": "'0'"
     },
     "metadata": {},
     "execution_count": 56
    }
   ],
   "source": [
    "def stuff():\n",
    "    print('Hello')\n",
    "    return  \n",
    "    print('World')\n",
    "\n",
    "stuff()"
   ]
  },
  {
   "cell_type": "code",
   "execution_count": 57,
   "metadata": {
    "tags": []
   },
   "outputs": [
    {
     "output_type": "stream",
     "name": "stdout",
     "text": "Bonjour Michael\n"
    }
   ],
   "source": [
    "def greet(lang):\n",
    "    if lang == 'es':\n",
    "        return 'Hola'\n",
    "    elif lang == 'fr':\n",
    "        return 'Bonjour'\n",
    "    else:\n",
    "        return 'Hello'\n",
    "\n",
    "print(greet('fr'),'Michael')"
   ]
  },
  {
   "cell_type": "code",
   "execution_count": 68,
   "metadata": {
    "tags": []
   },
   "outputs": [
    {
     "output_type": "stream",
     "name": "stdout",
     "text": "Pay 498.75\n"
    }
   ],
   "source": [
    "\"\"\"Write a program to prompt the user for hours and rate per hour using input to compute gross pay. Pay should be the normal rate for hours up to 40 and time-and-a-half for the hourly rate for all hours worked above 40 hours. Put the logic to do the computation of pay in a function called computepay() and use the function to do the computation. The function should return a value. Use 45 hours and a rate of 10.50 per hour to test the program (the pay should be 498.75). You should use input to read a string and float() to convert the string to a number. Do not worry about error checking the user input unless you want to - you can assume the user types numbers properly. Do not name your variable sum or use the sum() function.\"\"\"\n",
    "  \n",
    " \n",
    "hrs = input(\"Enter Hours:\")\n",
    "rate = input(\"Enter rate for hours:\")\n",
    "try :\n",
    "    h = float(hrs)\n",
    "    r = float(rate)\n",
    "except:\n",
    "    print(\"Error, por favor ingrese un valor numerico\")\n",
    "    quit()\n",
    "\n",
    "def computepay(h,r):\n",
    "    if h > 40 :\n",
    "        normal_pay = 40 * r\n",
    "        extra_hours = h - 40\n",
    "        extra_rate_pay = 1.5 * r\n",
    "        bonus_pay = extra_hours * extra_rate_pay\n",
    "        pay = normal_pay + bonus_pay\n",
    "    elif ( h >= 0 and h <= 40 ) :\n",
    "        pay = h * r\n",
    "    else:\n",
    "        pay = 0.0\n",
    "    return pay\n",
    "\n",
    "p = computepay(h, r)\n",
    "print(\"Pay\",p)"
   ]
  },
  {
   "cell_type": "code",
   "execution_count": 69,
   "metadata": {
    "tags": []
   },
   "outputs": [
    {
     "output_type": "stream",
     "name": "stdout",
     "text": "5\n"
    }
   ],
   "source": [
    "tot = 0 \n",
    "for i in [5, 4, 3, 2, 1] :\n",
    "    tot = tot + 1\n",
    "print(tot)"
   ]
  },
  {
   "cell_type": "code",
   "execution_count": 70,
   "metadata": {
    "tags": []
   },
   "outputs": [
    {
     "output_type": "stream",
     "name": "stdout",
     "text": "-1\n"
    }
   ],
   "source": [
    "smallest_so_far = -1\n",
    "for the_num in [9, 41, 12, 3, 74, 15] :\n",
    "   if the_num < smallest_so_far :\n",
    "      smallest_so_far = the_num\n",
    "print(smallest_so_far)"
   ]
  },
  {
   "cell_type": "code",
   "execution_count": 89,
   "metadata": {
    "tags": []
   },
   "outputs": [
    {
     "output_type": "stream",
     "name": "stdout",
     "text": "Invalid input\nMaximum is 10\nMinumun is 2\n"
    }
   ],
   "source": [
    "\"5.2 Write a program that repeatedly prompts a user for integer numbers until the user enters 'done'. Once 'done' is entered, print out the largest and smallest of the numbers. If the user enters anything other than a valid number catch it with a try/except and put out an appropriate message and ignore the number. Enter 7, 2, bob, 10, and 4 and match the output below.\"\n",
    "\n",
    "largest = None\n",
    "smallest = None\n",
    "while True:\n",
    "    num = input(\"Enter a number: \")\n",
    "    if num == \"done\" :\n",
    "         break\n",
    "    try :\n",
    "        num = int(num)\n",
    "    except :\n",
    "        print(\"Invalid input\")\n",
    "        continue\n",
    "    if num < 0 :\n",
    "        print(\"Invalid input\")\n",
    "        continue\n",
    "    if smallest == None and largest == None :\n",
    "        largest = num\n",
    "        smallest = num\n",
    "    if largest < num :\n",
    "        largest = num\n",
    "    if smallest > num :\n",
    "        smallest = num\n",
    "\n",
    "print(\"Maximum is\", largest)\n",
    "print(\"Minumun is\", smallest)"
   ]
  },
  {
   "cell_type": "code",
   "execution_count": 1,
   "metadata": {
    "tags": []
   },
   "outputs": [
    {
     "output_type": "stream",
     "name": "stdout",
     "text": "b a\n"
    }
   ],
   "source": [
    "# Python for everybody > capitulo 6\n",
    "# Strings\n",
    "\n",
    "fruta = \"banana\"\n",
    "letra = fruta[0]\n",
    "final_letra = fruta[5]\n",
    "print(letra, final_letra)\n",
    "\n"
   ]
  },
  {
   "cell_type": "code",
   "execution_count": 12,
   "metadata": {
    "tags": []
   },
   "outputs": [
    {
     "output_type": "stream",
     "name": "stdout",
     "text": "a\n"
    }
   ],
   "source": [
    "# Tamaño de una cadena\n",
    "\n",
    "tamaño = len(fruta)\n",
    "ultima_letra = fruta[tamaño-1]\n",
    "print(ultima_letra)"
   ]
  },
  {
   "cell_type": "code",
   "execution_count": 14,
   "metadata": {
    "tags": []
   },
   "outputs": [
    {
     "output_type": "stream",
     "name": "stdout",
     "text": "b\na\nn\na\nn\na\n"
    }
   ],
   "source": [
    "for caracter_de_fruta in fruta :\n",
    "    print(caracter_de_fruta)\n"
   ]
  },
  {
   "cell_type": "code",
   "execution_count": 15,
   "metadata": {
    "tags": []
   },
   "outputs": [
    {
     "output_type": "stream",
     "name": "stdout",
     "text": "b\na\nn\na\nn\na\n"
    }
   ],
   "source": [
    "indice = 0\n",
    "while indice < len(fruta) :\n",
    "    letra = fruta[indice]\n",
    "    print(letra)\n",
    "    indice = indice + 1\n"
   ]
  },
  {
   "cell_type": "code",
   "execution_count": 18,
   "metadata": {
    "tags": []
   },
   "outputs": [
    {
     "output_type": "stream",
     "name": "stdout",
     "text": "Monty\nPython\n"
    }
   ],
   "source": [
    "# Rebanando una cadena\n",
    "\n",
    "s = \"Monty Python\"\n",
    "print(s[0:5])\n",
    "print(s[6:(len(s))])"
   ]
  },
  {
   "cell_type": "code",
   "execution_count": 20,
   "metadata": {},
   "outputs": [
    {
     "output_type": "execute_result",
     "data": {
      "text/plain": "'ban'"
     },
     "metadata": {},
     "execution_count": 20
    }
   ],
   "source": [
    "fruta = \"banana\"\n",
    "fruta[:3]"
   ]
  },
  {
   "cell_type": "code",
   "execution_count": 21,
   "metadata": {},
   "outputs": [
    {
     "output_type": "execute_result",
     "data": {
      "text/plain": "'ana'"
     },
     "metadata": {},
     "execution_count": 21
    }
   ],
   "source": [
    "fruta[3:]"
   ]
  },
  {
   "cell_type": "code",
   "execution_count": 22,
   "metadata": {},
   "outputs": [
    {
     "output_type": "execute_result",
     "data": {
      "text/plain": "'banana'"
     },
     "metadata": {},
     "execution_count": 22
    }
   ],
   "source": [
    "fruta[:]"
   ]
  },
  {
   "cell_type": "code",
   "execution_count": 51,
   "metadata": {
    "tags": []
   },
   "outputs": [
    {
     "output_type": "error",
     "ename": "SyntaxError",
     "evalue": "invalid syntax (<ipython-input-51-d1c662201214>, line 10)",
     "traceback": [
      "\u001b[0;36m  File \u001b[0;32m\"<ipython-input-51-d1c662201214>\"\u001b[0;36m, line \u001b[0;32m10\u001b[0m\n\u001b[0;31m    print(f\"la palabra {una_palabra}, tiene letras\",cuenta(una_palabra, una_letra),\"{una_letra}   que parecen el ella en ella\".( una_palabra = \"elefante\", una_letra = \"e\"))\u001b[0m\n\u001b[0m                                                                                                                               ^\u001b[0m\n\u001b[0;31mSyntaxError\u001b[0m\u001b[0;31m:\u001b[0m invalid syntax\n"
     ]
    }
   ],
   "source": [
    "def cuenta(palabra, letra):\n",
    "    \"\"\" Cuenta la cantidad de letras que aparece en la palabra ingresada\"\"\"\n",
    "    contador_letra = 0\n",
    "    for caracter in palabra :\n",
    "        if letra == caracter :\n",
    "            contador_letra = contador_letra + 1\n",
    "    return contador_letra   \n"
   ]
  },
  {
   "cell_type": "code",
   "execution_count": 52,
   "metadata": {},
   "outputs": [
    {
     "output_type": "execute_result",
     "data": {
      "text/plain": "True"
     },
     "metadata": {},
     "execution_count": 52
    }
   ],
   "source": [
    "# el operador in\n",
    "\n",
    "# la subcadena \"a\" forma parte de la cadena \"banana\"\n",
    "\"a\" in \"banana\""
   ]
  },
  {
   "cell_type": "code",
   "execution_count": 54,
   "metadata": {},
   "outputs": [
    {
     "output_type": "execute_result",
     "data": {
      "text/plain": "str"
     },
     "metadata": {},
     "execution_count": 54
    }
   ],
   "source": [
    "# que tipo de objecto estoy manejando\n",
    "# uso de type\n",
    "\n",
    "cosa = \" HOLA MUNDO \"\n",
    "type(cosa)\n"
   ]
  },
  {
   "cell_type": "code",
   "execution_count": 55,
   "metadata": {},
   "outputs": [
    {
     "output_type": "execute_result",
     "data": {
      "text/plain": "['__add__',\n '__class__',\n '__contains__',\n '__delattr__',\n '__dir__',\n '__doc__',\n '__eq__',\n '__format__',\n '__ge__',\n '__getattribute__',\n '__getitem__',\n '__getnewargs__',\n '__gt__',\n '__hash__',\n '__init__',\n '__init_subclass__',\n '__iter__',\n '__le__',\n '__len__',\n '__lt__',\n '__mod__',\n '__mul__',\n '__ne__',\n '__new__',\n '__reduce__',\n '__reduce_ex__',\n '__repr__',\n '__rmod__',\n '__rmul__',\n '__setattr__',\n '__sizeof__',\n '__str__',\n '__subclasshook__',\n 'capitalize',\n 'casefold',\n 'center',\n 'count',\n 'encode',\n 'endswith',\n 'expandtabs',\n 'find',\n 'format',\n 'format_map',\n 'index',\n 'isalnum',\n 'isalpha',\n 'isascii',\n 'isdecimal',\n 'isdigit',\n 'isidentifier',\n 'islower',\n 'isnumeric',\n 'isprintable',\n 'isspace',\n 'istitle',\n 'isupper',\n 'join',\n 'ljust',\n 'lower',\n 'lstrip',\n 'maketrans',\n 'partition',\n 'replace',\n 'rfind',\n 'rindex',\n 'rjust',\n 'rpartition',\n 'rsplit',\n 'rstrip',\n 'split',\n 'splitlines',\n 'startswith',\n 'strip',\n 'swapcase',\n 'title',\n 'translate',\n 'upper',\n 'zfill']"
     },
     "metadata": {},
     "execution_count": 55
    }
   ],
   "source": [
    "# que metodos tiene el objecto que estoy manejando\n",
    "\n",
    "dir(cosa)"
   ]
  },
  {
   "cell_type": "code",
   "execution_count": 56,
   "metadata": {
    "tags": []
   },
   "outputs": [
    {
     "output_type": "stream",
     "name": "stdout",
     "text": "Help on method_descriptor:\n\njoin(self, iterable, /)\n    Concatenate any number of strings.\n    \n    The string whose method is called is inserted in between each given string.\n    The result is returned as a new string.\n    \n    Example: '.'.join(['ab', 'pq', 'rs']) -> 'ab.pq.rs'\n\n"
    }
   ],
   "source": [
    "# como saber el detalle de un metodo del objecto en particular\n",
    "\n",
    "help(str.join)"
   ]
  },
  {
   "cell_type": "code",
   "execution_count": 57,
   "metadata": {
    "tags": []
   },
   "outputs": [
    {
     "output_type": "stream",
     "name": "stdout",
     "text": "Help on method_descriptor:\n\ncapitalize(self, /)\n    Return a capitalized version of the string.\n    \n    More specifically, make the first character have upper case and the rest lower\n    case.\n\n"
    }
   ],
   "source": [
    "help(str.capitalize)"
   ]
  },
  {
   "cell_type": "code",
   "execution_count": 1,
   "metadata": {
    "tags": []
   },
   "outputs": [
    {
     "output_type": "execute_result",
     "data": {
      "text/plain": "['Hola', 'Mundo', 'Argentina', 'Francia']"
     },
     "metadata": {},
     "execution_count": 1
    }
   ],
   "source": [
    "camello = [\"hola\", \"mundo\", \"argentina\", \"francia\"]\n",
    "[x.capitalize() for x in camello]\n"
   ]
  },
  {
   "cell_type": "code",
   "execution_count": 2,
   "metadata": {},
   "outputs": [
    {
     "output_type": "execute_result",
     "data": {
      "text/plain": "['HOLA', 'MUNDO', 'ARGENTINA', 'FRANCIA']"
     },
     "metadata": {},
     "execution_count": 2
    }
   ],
   "source": [
    "camello = [\"hola\", \"mundo\", \"argentina\", \"francia\"]\n",
    "[x.upper() for x in camello]"
   ]
  },
  {
   "cell_type": "code",
   "execution_count": 5,
   "metadata": {},
   "outputs": [
    {
     "output_type": "execute_result",
     "data": {
      "text/plain": "[3, -1, 0, 2]"
     },
     "metadata": {},
     "execution_count": 5
    }
   ],
   "source": [
    "camello = [\"hola\", \"mundo\", \"argentina\", \"francia\"]\n",
    "[x.find(\"a\") for x in camello]"
   ]
  },
  {
   "cell_type": "code",
   "execution_count": 7,
   "metadata": {
    "tags": []
   },
   "outputs": [
    {
     "output_type": "stream",
     "name": "stdout",
     "text": "Help on method_descriptor:\n\ncount(...)\n    S.count(sub[, start[, end]]) -> int\n    \n    Return the number of non-overlapping occurrences of substring sub in\n    string S[start:end].  Optional arguments start and end are\n    interpreted as in slice notation.\n\n"
    }
   ],
   "source": [
    "help(str.count)\n"
   ]
  },
  {
   "cell_type": "code",
   "execution_count": 16,
   "metadata": {},
   "outputs": [
    {
     "output_type": "execute_result",
     "data": {
      "text/plain": "1"
     },
     "metadata": {},
     "execution_count": 16
    }
   ],
   "source": [
    " (\"asuaNa\").count(\"sua\",1)\n"
   ]
  },
  {
   "cell_type": "code",
   "execution_count": 20,
   "metadata": {
    "tags": []
   },
   "outputs": [
    {
     "output_type": "execute_result",
     "data": {
      "text/plain": "'hola    mundo , eres muy grande'"
     },
     "metadata": {},
     "execution_count": 20
    }
   ],
   "source": [
    "# removiendo espacios en blanco\n",
    "\n",
    "mi_linea = \" hola    mundo , eres muy grande   \"\n",
    "\n",
    "# Se remueven los espacios exteriores del string\n",
    "mi_linea.strip()\n",
    "\n"
   ]
  },
  {
   "cell_type": "code",
   "execution_count": 22,
   "metadata": {},
   "outputs": [
    {
     "output_type": "execute_result",
     "data": {
      "text/plain": "True"
     },
     "metadata": {},
     "execution_count": 22
    }
   ],
   "source": [
    "# La subcadena pertenece a la palabra?\n",
    "\n",
    "mi_linea.startswith(\" hola\")"
   ]
  },
  {
   "cell_type": "code",
   "execution_count": 23,
   "metadata": {},
   "outputs": [
    {
     "output_type": "execute_result",
     "data": {
      "text/plain": "False"
     },
     "metadata": {},
     "execution_count": 23
    }
   ],
   "source": [
    "mi_linea.startswith(\" Hola\")"
   ]
  },
  {
   "cell_type": "code",
   "execution_count": 29,
   "metadata": {
    "tags": []
   },
   "outputs": [
    {
     "output_type": "stream",
     "name": "stdout",
     "text": "21\n31\nuct.ac.za\n"
    }
   ],
   "source": [
    "\n",
    "dato = 'From stephen.marquard@uct.ac.za Sat Jan 5 09:14:16 2008'\n",
    "get_arroba_position = dato.find(\"@\")\n",
    "print(get_arroba_position)\n",
    "get_blank_position = dato.find(\" \", get_arroba_position)\n",
    "print(get_blank_position) \n",
    "dominio_correo = dato[get_arroba_position+1:get_blank_position]\n",
    "print(dominio_correo)\n",
    "\n"
   ]
  },
  {
   "cell_type": "code",
   "execution_count": 26,
   "metadata": {
    "tags": []
   },
   "outputs": [
    {
     "output_type": "stream",
     "name": "stdout",
     "text": "Help on method_descriptor:\n\nfind(...)\n    S.find(sub[, start[, end]]) -> int\n    \n    Return the lowest index in S where substring sub is found,\n    such that sub is contained within S[start:end].  Optional\n    arguments start and end are interpreted as in slice notation.\n    \n    Return -1 on failure.\n\n"
    }
   ],
   "source": [
    "help(str.find)"
   ]
  },
  {
   "cell_type": "code",
   "execution_count": 36,
   "metadata": {
    "tags": []
   },
   "outputs": [
    {
     "output_type": "stream",
     "name": "stdout",
     "text": "yo he visto 5 elfantes, 5 hipopotamos, que pesaban 3424234.34 kg\n he visto 3 pajaritos,  con 34.453 gramos de oro\n"
    }
   ],
   "source": [
    "casa = (\"yo he visto {} elfantes, 5 {}, que pesaban {} kg\").format(5, \"hipopotamos\", 3424234.34)\n",
    "print(casa)\n",
    "\n",
    "sala = (\" he visto %d pajaritos,  con %g gramos de %s\" % (3, 34.453, \"oro\"))\n",
    "print(sala)"
   ]
  },
  {
   "cell_type": "code",
   "execution_count": 1,
   "metadata": {
    "tags": []
   },
   "outputs": [
    {
     "output_type": "stream",
     "name": "stdout",
     "text": "quit\n¡Terminado!\n"
    }
   ],
   "source": [
    "while True :\n",
    "    linea = input('> ')\n",
    "    if linea[0] == '#' :\n",
    "        continue\n",
    "    if linea == 'fin':\n",
    "        break\n",
    "    print(linea)\n",
    "print('¡Terminado!')"
   ]
  },
  {
   "cell_type": "code",
   "execution_count": 7,
   "metadata": {
    "tags": []
   },
   "outputs": [
    {
     "output_type": "stream",
     "name": "stdout",
     "text": "0.8475\n<class 'float'>\n"
    }
   ],
   "source": [
    "# ejercicio 6.14 \n",
    "\n",
    "stra = 'X-DSPAM-Confidence:0.8475' \n",
    "\n",
    "def find_and_convert(un_string):\n",
    "    elto = un_string.find(\":\")\n",
    "    recortar_float = un_string[elto + 1 : len(un_string)]\n",
    "    return float(recortar_float)\n",
    "\n",
    "print(find_and_convert(stra))\n",
    "print(type(find_and_convert(stra)))"
   ]
  },
  {
   "cell_type": "code",
   "execution_count": 1,
   "metadata": {},
   "outputs": [
    {
     "output_type": "execute_result",
     "data": {
      "text/plain": "True"
     },
     "metadata": {},
     "execution_count": 1
    }
   ],
   "source": [
    "# Diccionarios= {\"clave1\": \"valor1\", \"clave2\": \"valor2\"}\n",
    "\n",
    "eng2esp = {\"one\": \"uno\", \"two\": \"dos\", \"three\": \"tres\"}\n",
    "\n",
    "# Busqueda de una clave x en un diccionario\n",
    "\n",
    "\"one\" in eng2esp\n"
   ]
  },
  {
   "cell_type": "code",
   "execution_count": 2,
   "metadata": {},
   "outputs": [
    {
     "output_type": "execute_result",
     "data": {
      "text/plain": "True"
     },
     "metadata": {},
     "execution_count": 2
    }
   ],
   "source": [
    "# Busqueda de un valor en un diccionario\n",
    "\n",
    "valor_buscado_en_dic = list(eng2esp.values())\n",
    "\"uno\" in valor_buscado_en_dic"
   ]
  },
  {
   "cell_type": "code",
   "execution_count": 3,
   "metadata": {},
   "outputs": [
    {
     "output_type": "execute_result",
     "data": {
      "text/plain": "3"
     },
     "metadata": {},
     "execution_count": 3
    }
   ],
   "source": [
    "# mostrar la cantidad de eltos de un diccionario\n",
    "\n",
    "len(eng2esp)"
   ]
  },
  {
   "cell_type": "code",
   "execution_count": 4,
   "metadata": {
    "tags": []
   },
   "outputs": [
    {
     "output_type": "stream",
     "name": "stdout",
     "text": "uno\n"
    }
   ],
   "source": [
    "# imprimir el valor de un elto dada una clave\n",
    "\n",
    "print(eng2esp[\"one\"])"
   ]
  },
  {
   "cell_type": "code",
   "execution_count": 29,
   "metadata": {
    "tags": []
   },
   "outputs": [
    {
     "output_type": "stream",
     "name": "stdout",
     "text": "True\nFalse\n"
    }
   ],
   "source": [
    "#Escribe un programa que lee las palabras en words.txt y las almacena\n",
    "#como claves en un diccionario. No importa qué valores tenga. Luego\n",
    "#puedes utilizar el operador in como una forma rápida de revisar si una\n",
    "#cadena está en el diccionario. \n",
    "diccionario_palabras = dict()\n",
    "try :\n",
    "    mi_handler_file = open(\"words.txt\")\n",
    "except :\n",
    "    print(\"archivo no encotrado !!!\")\n",
    "contador_palabra = 0\n",
    "for linea in mi_handler_file :\n",
    "    linea = linea.rstrip()\n",
    "    linea_de_palabras = linea.split()\n",
    "    for palabra in linea_de_palabras :\n",
    "        contador_palabra = contador_palabra + 1\n",
    "        diccionario_palabras[\"palabra_\"+str(contador_palabra)] = palabra\n",
    "palabra_in_my_dic = list(diccionario_palabras.values())\n",
    "\n",
    "print(\"have\" in palabra_in_my_dic)\n",
    "print(\"haves\" in palabra_in_my_dic )"
   ]
  },
  {
   "cell_type": "code",
   "execution_count": 19,
   "metadata": {},
   "outputs": [
    {
     "output_type": "execute_result",
     "data": {
      "text/plain": "'holasd1'"
     },
     "metadata": {},
     "execution_count": 19
    }
   ],
   "source": [
    "\"hola\"+\"sd\"+str(1)"
   ]
  },
  {
   "cell_type": "code",
   "execution_count": 8,
   "metadata": {
    "tags": []
   },
   "outputs": [
    {
     "output_type": "stream",
     "name": "stdout",
     "text": "{'onesd': 'uno'}\n"
    }
   ],
   "source": [
    "aaa = dict() \n",
    "aaa[('one'+\"sd\")] = 'uno'\n",
    "print(aaa)"
   ]
  },
  {
   "cell_type": "code",
   "execution_count": 7,
   "metadata": {
    "tags": []
   },
   "outputs": [
    {
     "output_type": "stream",
     "name": "stdout",
     "text": "{'b': 1, 'r': 2, 'o': 3, 'n': 1, 't': 1, 's': 1, 'a': 1, 'u': 1, 'i': 1}\n"
    }
   ],
   "source": [
    "#Supongamos que recibes una cadena y quieres contar cuántas veces aparece cada letra. \n",
    " \n",
    "una_palabra = \"brontosaurio\"\n",
    "mi_diccionario_letras = dict()\n",
    "for caracter in una_palabra :\n",
    "    if caracter not in mi_diccionario_letras :\n",
    "        mi_diccionario_letras[caracter] = 1\n",
    "    else :\n",
    "        mi_diccionario_letras[caracter] = mi_diccionario_letras[caracter] + 1\n",
    "print(mi_diccionario_letras)"
   ]
  },
  {
   "cell_type": "code",
   "execution_count": 8,
   "metadata": {
    "tags": []
   },
   "outputs": [
    {
     "output_type": "stream",
     "name": "stdout",
     "text": "{'t': 1, 'i': 1, 'r': 3, 'a': 2, 'n': 1, 'o': 2, 's': 2, 'u': 2, 'e': 1, 'x': 1}\n"
    }
   ],
   "source": [
    "# uso de get para simplificar la cuenta\n",
    "\n",
    "una_palabra = \"tiranosaurousrex\"\n",
    "d = dict()\n",
    "for c in una_palabra :\n",
    "    d[c] = d.get(c, 0) + 1\n",
    "print(d)"
   ]
  },
  {
   "cell_type": "code",
   "execution_count": 11,
   "metadata": {
    "tags": []
   },
   "outputs": [
    {
     "output_type": "stream",
     "name": "stdout",
     "text": "But 1\nsoft 1\nwhat 1\nlight 1\nthrough 1\nyonder 1\nwindow 1\nbreaks 1\nIt 1\nis 3\nthe 3\neast 1\nand 3\nJuliet 1\nsun 2\nArise 1\nfair 1\nkill 1\nenvious 1\nmoon 1\nWho 1\nalready 1\nsick 1\npale 1\nwith 1\ngrief 1\n"
    }
   ],
   "source": [
    "#amos a escribir un programa de Python para leer a través de las líneas del archivo,dividiendo cada línea en una lista de palabras, y después iterando a través de cada una de las palabras en la línea y contando cada palabra utilizando un diccionario\n",
    "\n",
    "fname = input(\"Ingrese el nombre del archivo:\")\n",
    "try : \n",
    "    fhandler = open(fname)\n",
    "except :\n",
    "    print(\"archivo no se puede abrir\", fname)\n",
    "    exit()\n",
    "mi_dic = dict()\n",
    "for linea in fhandler :\n",
    "    linea = linea.rstrip()\n",
    "    palabras = linea.split()\n",
    "    for una_palabra in palabras :\n",
    "        mi_dic[una_palabra] = mi_dic.get(una_palabra, 0) + 1\n",
    "\n",
    "for clave in mi_dic :\n",
    "    print(clave, mi_dic[clave]) "
   ]
  },
  {
   "cell_type": "code",
   "execution_count": 12,
   "metadata": {
    "tags": []
   },
   "outputs": [
    {
     "output_type": "stream",
     "name": "stdout",
     "text": "is 3\nthe 3\nand 3\n"
    }
   ],
   "source": [
    "# filtrar eltos con x cantidad de apariciones usando dicionarios\n",
    "\n",
    "for clave in mi_dic :\n",
    "    if mi_dic[clave] > 2 :\n",
    "        print(clave, mi_dic[clave])"
   ]
  },
  {
   "cell_type": "code",
   "execution_count": 16,
   "metadata": {
    "tags": []
   },
   "outputs": [
    {
     "output_type": "stream",
     "name": "stdout",
     "text": "['But', 'soft', 'what', 'light', 'through', 'yonder', 'window', 'breaks', 'It', 'is', 'the', 'east', 'and', 'Juliet', 'sun', 'Arise', 'fair', 'kill', 'envious', 'moon', 'Who', 'already', 'sick', 'pale', 'with', 'grief']\nArise 1\nBut 1\nIt 1\nJuliet 1\nWho 1\nalready 1\nand 3\nbreaks 1\neast 1\nenvious 1\nfair 1\ngrief 1\nis 3\nkill 1\nlight 1\nmoon 1\npale 1\nsick 1\nsoft 1\nsun 2\nthe 3\nthrough 1\nwhat 1\nwindow 1\nwith 1\nyonder 1\n"
    }
   ],
   "source": [
    "# ordenar por clave un diccionario y mostrarlo por pantalla.\n",
    "\n",
    "mi_list = list(mi_dic.keys())\n",
    "print(mi_list)\n",
    "mi_list.sort()\n",
    "for clave in mi_list :\n",
    "    print(clave, mi_dic[clave])"
   ]
  },
  {
   "cell_type": "code",
   "execution_count": 5,
   "metadata": {
    "tags": []
   },
   "outputs": [
    {
     "output_type": "error",
     "ename": "NameError",
     "evalue": "name 'fname' is not defined",
     "traceback": [
      "\u001b[0;31m---------------------------------------------------------------------------\u001b[0m",
      "\u001b[0;31mFileNotFoundError\u001b[0m                         Traceback (most recent call last)",
      "\u001b[0;32m<ipython-input-5-2609276432d9>\u001b[0m in \u001b[0;36m<module>\u001b[0;34m\u001b[0m\n\u001b[1;32m      8\u001b[0m \u001b[0;32mtry\u001b[0m \u001b[0;34m:\u001b[0m\u001b[0;34m\u001b[0m\u001b[0;34m\u001b[0m\u001b[0m\n\u001b[0;32m----> 9\u001b[0;31m     \u001b[0mfhands\u001b[0m \u001b[0;34m=\u001b[0m \u001b[0mopen\u001b[0m\u001b[0;34m(\u001b[0m\u001b[0mffname\u001b[0m\u001b[0;34m)\u001b[0m\u001b[0;34m\u001b[0m\u001b[0;34m\u001b[0m\u001b[0m\n\u001b[0m\u001b[1;32m     10\u001b[0m \u001b[0;32mexcept\u001b[0m \u001b[0;34m:\u001b[0m\u001b[0;34m\u001b[0m\u001b[0;34m\u001b[0m\u001b[0m\n",
      "\u001b[0;31mFileNotFoundError\u001b[0m: [Errno 2] No such file or directory: 'romeoyjulietaconpuntuacion.txt'",
      "\nDuring handling of the above exception, another exception occurred:\n",
      "\u001b[0;31mNameError\u001b[0m                                 Traceback (most recent call last)",
      "\u001b[0;32m<ipython-input-5-2609276432d9>\u001b[0m in \u001b[0;36m<module>\u001b[0;34m\u001b[0m\n\u001b[1;32m      9\u001b[0m     \u001b[0mfhands\u001b[0m \u001b[0;34m=\u001b[0m \u001b[0mopen\u001b[0m\u001b[0;34m(\u001b[0m\u001b[0mffname\u001b[0m\u001b[0;34m)\u001b[0m\u001b[0;34m\u001b[0m\u001b[0;34m\u001b[0m\u001b[0m\n\u001b[1;32m     10\u001b[0m \u001b[0;32mexcept\u001b[0m \u001b[0;34m:\u001b[0m\u001b[0;34m\u001b[0m\u001b[0;34m\u001b[0m\u001b[0m\n\u001b[0;32m---> 11\u001b[0;31m     \u001b[0mprint\u001b[0m\u001b[0;34m(\u001b[0m\u001b[0;34m\"archivo no se puede abrir\"\u001b[0m\u001b[0;34m,\u001b[0m \u001b[0mfname\u001b[0m\u001b[0;34m)\u001b[0m\u001b[0;34m\u001b[0m\u001b[0;34m\u001b[0m\u001b[0m\n\u001b[0m\u001b[1;32m     12\u001b[0m     \u001b[0mexit\u001b[0m\u001b[0;34m(\u001b[0m\u001b[0;34m)\u001b[0m\u001b[0;34m\u001b[0m\u001b[0;34m\u001b[0m\u001b[0m\n\u001b[1;32m     13\u001b[0m \u001b[0ma_dic\u001b[0m \u001b[0;34m=\u001b[0m \u001b[0mdict\u001b[0m\u001b[0;34m(\u001b[0m\u001b[0;34m)\u001b[0m\u001b[0;34m\u001b[0m\u001b[0;34m\u001b[0m\u001b[0m\n",
      "\u001b[0;31mNameError\u001b[0m: name 'fname' is not defined"
     ]
    }
   ],
   "source": [
    "#Análisis avanzado de texto En el ejemplo anterior utilizando el archivo romeo.txt, hicimos el archivo tan simple como fue posible removiendo los signos de puntuación a mano.\n",
    "\n",
    "# uso de lower,punctuation, y translate. Ademas de import string\n",
    "import string\n",
    " \n",
    "# romeoyjuliteconputuacion\n",
    "ffname = input(\"Ingrese el nombre del archivo:\")\n",
    "try : \n",
    "    fhands = open(ffname)\n",
    "except :\n",
    "    print(\"archivo no se puede abrir\", fname)\n",
    "    exit()\n",
    "a_dic = dict()\n",
    "for linea in fhands :\n",
    "    linea = linea.rstrip()\n",
    "    linea = linea.translate(linea.maketrans(\"\",\"\", string.punctuation))\n",
    "    linea = linea.lower()\n",
    "    palabras = linea.split()\n",
    "    for mi_palabra in palabras :\n",
    "        a_dic[mi_palabra] = a_dic.get(mi_palabra, 0) + 1\n",
    "print(a_dic)"
   ]
  },
  {
   "cell_type": "code",
   "execution_count": 14,
   "metadata": {
    "tags": []
   },
   "outputs": [
    {
     "output_type": "stream",
     "name": "stdout",
     "text": "{'Sat': 1, 'Fri': 20, 'Thu': 6}\n"
    }
   ],
   "source": [
    "#Ejercicio 2: Escribir un programa que clasifica cada mensaje de correo dependiendo del día de la semana en que se recibió. Para hacer esto busca las líneas que comienzan con “From”, después busca por la tercer palabra y mantén un contador para cada uno de los días de la semana. Al final del programa imprime los contenidos de tu diccionario (el orden no importa).Línea de ejemplo: From stephen.marquard@uct.ac.za Sat Jan 5 09:14:16 2008\n",
    "# Fri Thu Sat Mon Wed Tue Sun\n",
    "\n",
    "try :\n",
    "    handle_f = open(\"mbox-short.txt\")\n",
    "except:\n",
    "    print(\"No se puede abrir el archivo:\",handle_f)\n",
    "a_dict = dict()\n",
    "for linea in handle_f :\n",
    "    linea = linea.rstrip()\n",
    "    if linea.startswith(\"From\") and len(linea.split()) > 2 :\n",
    "        palabras_en_linea = linea.split()\n",
    "        select_dia_semana = palabras_en_linea[2]\n",
    "        a_dict[select_dia_semana] = a_dict.get(select_dia_semana, 0) + 1\n",
    "print(a_dict)\n",
    "\n"
   ]
  },
  {
   "cell_type": "code",
   "execution_count": 20,
   "metadata": {
    "tags": []
   },
   "outputs": [
    {
     "output_type": "stream",
     "name": "stdout",
     "text": "cwen@iupui.edu 5\n"
    }
   ],
   "source": [
    "#Ejercicio 3: Escribe un programa para leer a través de un historial de correos, construye un histograma utilizando un diccionario para contar cuántos mensajes han llegado de cada dirección de correo electrónico, e imprime el diccionario.\n",
    "\n",
    "try :\n",
    "    handle_f = open(\"mbox-short.txt\")\n",
    "except:\n",
    "    print(\"No se puede abrir el archivo:\",handle_f)\n",
    "a_dict = dict()\n",
    "max_msg = 0\n",
    "for linea in handle_f :\n",
    "    linea = linea.rstrip()\n",
    "    if linea.startswith(\"From\") and len(linea.split()) > 2  :\n",
    "        palabras_en_linea = linea.split()\n",
    "        direccion_email = palabras_en_linea[1]\n",
    "        a_dict[direccion_email] = a_dict.get(direccion_email, 0) + 1\n",
    "for clave_email in a_dict :\n",
    "    if max_msg < a_dict[clave_email] :\n",
    "        max_msg = a_dict[clave_email]\n",
    "        max_clave = clave_email\n",
    "print(max_clave,a_dict[max_clave])\n"
   ]
  },
  {
   "cell_type": "code",
   "execution_count": 21,
   "metadata": {
    "tags": []
   },
   "outputs": [
    {
     "output_type": "stream",
     "name": "stdout",
     "text": "{'uct.ac.za': 6, 'media.berkeley.edu': 4, 'umich.edu': 7, 'iupui.edu': 8, 'caret.cam.ac.uk': 1, 'gmail.com': 1}\n"
    }
   ],
   "source": [
    "#Ejercicio 5: Este programa almacena el nombre del dominio (en vez de\n",
    "#la dirección) desde donde fue enviado el mensaje en vez de quién envió\n",
    "#el mensaje (es decir, la dirección de correo electrónica completa). Al\n",
    "#final del programa, imprime el contenido de tu diccionario.\n",
    "\n",
    "try :\n",
    "    handle_f = open(\"mbox-short.txt\")\n",
    "except:\n",
    "    print(\"No se puede abrir el archivo:\",handle_f)\n",
    "a_dict = dict()\n",
    "for linea in handle_f :\n",
    "    linea = linea.rstrip()\n",
    "    if linea.startswith(\"From\") and len(linea.split()) > 2 :\n",
    "        palabras_en_linea = linea.split()\n",
    "        email = palabras_en_linea[1]\n",
    "        dominio = email[(email.find(\"@\") + 1):(len(email))]\n",
    "        a_dict[dominio] = a_dict.get(dominio, 0) + 1\n",
    "print(a_dict)"
   ]
  },
  {
   "cell_type": "code",
   "execution_count": 1,
   "metadata": {
    "tags": []
   },
   "outputs": [
    {
     "output_type": "stream",
     "name": "stdout",
     "text": "('a', 'l', 'c', 'a', 'h', 'u', 'e', 't', 'e')\n"
    }
   ],
   "source": [
    "# tuplas \n",
    "# guardan valores de cualquier tipos\n",
    "# indexada por numero enteros\n",
    "# INMUTABLES\n",
    "# pueden comparables y  dispersables (haseables) o sea se pueden ordenar\n",
    "# se pueden usar como clave en diccionarios en python\n",
    "\n",
    "# crear una tupla -> formas\n",
    "\n",
    "# no es necesario el () pero ayuda a identificar una tupla mas facilmete\n",
    "una_tupla = (\"a\", \"b\", \"c\", \"d\", \"e\")\n",
    "\n",
    "otra_tupla = (\"a\",) # se debe poner la coma para que se reconosca como una tupla\n",
    "\n",
    "mi_tupla = tuple()\n",
    "\n",
    "# si le paso un string a una tupla , se genera una tupla con los eltos dell string\n",
    "\n",
    "t = tuple(\"alcahuete\")\n",
    "print(t)"
   ]
  },
  {
   "cell_type": "code",
   "execution_count": 2,
   "metadata": {
    "tags": []
   },
   "outputs": [
    {
     "output_type": "stream",
     "name": "stdout",
     "text": "a\n"
    }
   ],
   "source": [
    "# obtener un elto de la tupla por indice\n",
    "\n",
    "print(t[0]) "
   ]
  },
  {
   "cell_type": "code",
   "execution_count": 3,
   "metadata": {
    "tags": []
   },
   "outputs": [
    {
     "output_type": "stream",
     "name": "stdout",
     "text": "('a', 'h', 'u', 'e', 't', 'e')\n"
    }
   ],
   "source": [
    "# el operador slice : tambien funciona para seleccionar o  retornar un rango de elementos dados\n",
    "\n",
    "print(t[3:])"
   ]
  },
  {
   "cell_type": "code",
   "execution_count": 4,
   "metadata": {},
   "outputs": [
    {
     "output_type": "error",
     "ename": "TypeError",
     "evalue": "'tuple' object does not support item assignment",
     "traceback": [
      "\u001b[0;31m---------------------------------------------------------------------------\u001b[0m",
      "\u001b[0;31mTypeError\u001b[0m                                 Traceback (most recent call last)",
      "\u001b[0;32m<ipython-input-4-c560ed50f7a5>\u001b[0m in \u001b[0;36m<module>\u001b[0;34m\u001b[0m\n\u001b[1;32m      1\u001b[0m \u001b[0;31m# como las tuplas son inmutables no se permite modificar eltos de una tupla defida\u001b[0m\u001b[0;34m\u001b[0m\u001b[0;34m\u001b[0m\u001b[0;34m\u001b[0m\u001b[0m\n\u001b[1;32m      2\u001b[0m \u001b[0;34m\u001b[0m\u001b[0m\n\u001b[0;32m----> 3\u001b[0;31m \u001b[0mt\u001b[0m\u001b[0;34m[\u001b[0m\u001b[0;36m0\u001b[0m\u001b[0;34m]\u001b[0m \u001b[0;34m=\u001b[0m \u001b[0;34m\"m\"\u001b[0m\u001b[0;34m\u001b[0m\u001b[0;34m\u001b[0m\u001b[0m\n\u001b[0m",
      "\u001b[0;31mTypeError\u001b[0m: 'tuple' object does not support item assignment"
     ]
    }
   ],
   "source": [
    "# como las tuplas son inmutables no se permite modificar eltos de una tupla defida\n",
    "\n",
    "t[0] = \"m\""
   ]
  },
  {
   "cell_type": "code",
   "execution_count": 7,
   "metadata": {
    "tags": []
   },
   "outputs": [
    {
     "output_type": "stream",
     "name": "stdout",
     "text": "('A', 'l', 'c', 'a', 'h', 'u', 'e', 't', 'e')\n"
    }
   ],
   "source": [
    "# pero si se permite concatener una tupla nueva sin el elto de la tupla por actualizar\n",
    "\n",
    "t = (\"A\",) + t[1:]\n",
    "print(t)"
   ]
  },
  {
   "cell_type": "code",
   "execution_count": 9,
   "metadata": {
    "tags": []
   },
   "outputs": [
    {
     "output_type": "stream",
     "name": "stdout",
     "text": "['allis,', 'aapero', 'aadeja', 'aqui', 'Pero', 'ver', 'que', 'qse', 'luz', 'no']\n"
    }
   ],
   "source": [
    "# Patron DSU\n",
    "# DECORAR -> USO DE TUPLA (n, \"palabritas\")\n",
    "# SORT> ORDENAR\n",
    "# UnDECORATE > QUITA LA DECORACION\n",
    "\n",
    "#lista de palabras que se quieren ordenar de la más larga a la más corta:\n",
    "\n",
    "txt = \"Pero que luz qse aadeja ver allis, aapero no aqui\"\n",
    "palabras = txt.split()\n",
    "t = list()\n",
    "for palabra in palabras :\n",
    "    t.append((len(palabra), palabra))\n",
    "\n",
    "t.sort(reverse=True)\n",
    "\n",
    "resultado = list()\n",
    "for longitud, palabra in t :\n",
    "    resultado.append(palabra)\n",
    "\n",
    "print(resultado)\n"
   ]
  },
  {
   "cell_type": "code",
   "execution_count": 10,
   "metadata": {
    "tags": []
   },
   "outputs": [
    {
     "output_type": "stream",
     "name": "stdout",
     "text": "Hola\nmundo\n"
    }
   ],
   "source": [
    "# asignacion de tupla en el lado izquierdo de la asignacion\n",
    "\n",
    "m = [\"Hola\", \"mundo\"]\n",
    "(x, y) = m\n",
    "print(x)\n",
    "print(y)\n",
    "# python aproximadamente traduce la asignacion de la tupla a partir de la lista dada\n",
    "\n"
   ]
  },
  {
   "cell_type": "code",
   "execution_count": 11,
   "metadata": {
    "tags": []
   },
   "outputs": [
    {
     "output_type": "stream",
     "name": "stdout",
     "text": "mariatolosa\ngmail.com\n"
    }
   ],
   "source": [
    "# del lado derecho pordemos tener \"cadenas\", \"tuplas\", listas siempre y cuando el numeros de valores sean iguales a los de las tuplas del lado izquierdo\n",
    "\n",
    "# a, b = 1, 2, 3  # aca da error \n",
    "\n",
    "dir = \"mariatolosa@gmail.com\"\n",
    "nombreus, dominio = dir.split(\"@\") # el valor de retorno de split es una lista con 2 eltos que son asignadoas a la tupla.\n",
    "print(nombreus)\n",
    "print(dominio)\n"
   ]
  },
  {
   "cell_type": "code",
   "execution_count": 19,
   "metadata": {
    "tags": []
   },
   "outputs": [
    {
     "output_type": "stream",
     "name": "stdout",
     "text": "[('a', 10), ('k', 333), ('c', 42)]\n[('a', 10), ('c', 42), ('k', 333)]\n"
    }
   ],
   "source": [
    "# Los dicionarios tienne un metodo llamado items que reotrnauna lista de tuplas, donde cada tupla es un par clave-valor:\n",
    "\n",
    "un_dic = {\"a\": 10, \"k\": 333, \"c\": 42}\n",
    "una_lista = list(un_dic.items())\n",
    "print(una_lista)\n",
    "\n",
    "# ordenar un diccionario segun su CLAVES al convertirlo en una lista de tuplas como tenemos en \"una_lista\"\n",
    "\n",
    "una_lista.sort()\n",
    "print(una_lista)"
   ]
  },
  {
   "cell_type": "code",
   "execution_count": 26,
   "metadata": {
    "tags": []
   },
   "outputs": [
    {
     "output_type": "stream",
     "name": "stdout",
     "text": "61 i\n42 and\n40 romeo\n34 to\n34 the\n32 thou\n32 juliet\n30 that\n29 my\n24 thee\n"
    }
   ],
   "source": [
    "# Volviendo al ejemplo anterior del texto de Romeo y Julieta, Acto 2, Escena 2, podemos mejorar nuestro programa para hacer uso de esta técnica para imprimir las diez palabras más comunes en el texto, como se ve a continuación:\n",
    "\n",
    "import string\n",
    "manejador = open(\"romeo-full.txt\")\n",
    "contador_pal = dict()\n",
    "for linea in manejador :\n",
    "    linea = linea.translate(str.maketrans(\"\",\"\", string.punctuation))\n",
    "    linea = linea.lower()\n",
    "    palabras = linea.split()\n",
    "    for palabra in palabras :\n",
    "        if palabra not in contador_pal :\n",
    "            contador_pal[palabra] = 1\n",
    "        else :\n",
    "            contador_pal[palabra] += 1\n",
    "\n",
    "# orderar diccionario por valor\n",
    "lst = list()\n",
    "for clave, valor in list(contador_pal.items()):\n",
    "    lst.append((valor, clave))\n",
    "\n",
    "lst.sort(reverse=True)\n",
    "\n",
    "for clave, valor in lst[:10]:\n",
    "    print(clave, valor)\n"
   ]
  },
  {
   "cell_type": "code",
   "execution_count": 1,
   "metadata": {
    "tags": []
   },
   "outputs": [
    {
     "output_type": "stream",
     "name": "stdout",
     "text": "zqian@umich.edu 195\n"
    }
   ],
   "source": [
    "# Ejercicio 1: Revisa el programa anterior de este modo: Lee y analiza las líneas “From” y extrae las direcciones de correo. Cuenta el número de mensajes de cada persona utilizando un diccionario. Después de que todos los datos hayan sido leídos, imprime la persona con más envíos, creando una lista de tuplas (contador, email) del diccionario. Después ordena la lista en orden inverso e imprime la persona que tiene más envíos.\n",
    "\n",
    "import string\n",
    "try:\n",
    "    hand_file = open(\"mbox.txt\")\n",
    "except:\n",
    "    print(\"No se puedo abrir el archivo:\",hand_file)\n",
    "    exit()\n",
    "\n",
    "contador_direcciones = dict()\n",
    "for linea in hand_file :\n",
    "    linea = linea.rstrip()\n",
    "    if linea.startswith(\"From \") :\n",
    "        palabras = linea.split()\n",
    "        un_email = palabras[1]\n",
    "        if un_email not in contador_direcciones :\n",
    "            contador_direcciones[un_email] = 1\n",
    "        else :\n",
    "            contador_direcciones[un_email] += 1\n",
    "        \n",
    "lista_persona_mas_envios = list()\n",
    "for un_email, cant_envios in list(contador_direcciones.items()) :\n",
    "    lista_persona_mas_envios.append((cant_envios, un_email))\n",
    "\n",
    "lista_persona_mas_envios.sort(reverse=True)\n",
    "\n",
    "persona_mas_envios = lista_persona_mas_envios[0]\n",
    "print(persona_mas_envios[1],persona_mas_envios[0])\n"
   ]
  },
  {
   "cell_type": "code",
   "execution_count": 7,
   "metadata": {
    "tags": []
   },
   "outputs": [
    {
     "output_type": "stream",
     "name": "stdout",
     "text": "04 3\n06 1\n07 1\n09 2\n10 3\n11 6\n14 1\n15 2\n16 4\n17 2\n18 1\n19 1\n"
    }
   ],
   "source": [
    "#Ejercicio 2: Este programa cuenta la distribución de la hora del día para cada uno de los mensajes. Puedes extraer la hora de la línea “From” buscando la cadena horaria y luego dividiendo la cadena en partes utilizando el carácter colon. Una vez que hayas acumulado las cuentas para cada hora, imprime las cuentas, una por línea, ordenadas por hora tal como se muestra debajo.\n",
    "\n",
    "try :\n",
    "    han_file = open(\"mbox-short.txt\")\n",
    "except :\n",
    "    print(\"No se puede abrir el archivo:\", han_file)\n",
    "\n",
    "contador_frecuencia_hora = dict()\n",
    "\n",
    "for linea in han_file :\n",
    "    linea = linea.rstrip()\n",
    "    if linea.startswith(\"From \") :\n",
    "        palabras = linea.split()\n",
    "        horario = palabras[5]\n",
    "        horario = horario.split(\":\")\n",
    "        hora = horario[0]\n",
    "        if hora not in contador_frecuencia_hora :\n",
    "            contador_frecuencia_hora[hora] = 1\n",
    "        else :\n",
    "            contador_frecuencia_hora[hora] += 1\n",
    "\n",
    "lista_hora_cant_envios = list()\n",
    "for una_hora, cant_envio in list(contador_frecuencia_hora.items()) :#[(02, 43), (12, 5)]\n",
    "    lista_hora_cant_envios.append((una_hora, cant_envio))\n",
    "    \n",
    "lista_hora_cant_envios.sort() # ordena la hora de menor a mayor\n",
    "\n",
    "for envios in lista_hora_cant_envios :\n",
    "    print(envios[0],envios[1])"
   ]
  },
  {
   "cell_type": "code",
   "execution_count": null,
   "metadata": {},
   "outputs": [],
   "source": [
    "#Ejercicio 3: Escribe un programa que lee un archivo e imprime las letras en order decreciente de frecuencia.\n",
    "# a 14\n",
    "# k 3 \n",
    "# x 2\n",
    "# z 1\n",
    "#  El programa debe convertir todas las entradas a minúsculas y contar solamente las letras a-z. El programa no debe contar espacios, dígitos, signos de puntuación, o cualquier cosa que no sean las letras a-z. Encuentra ejemplos de texto en idiomas diferentes, y observa cómo la frecuencia de letras es diferente en cada idioma. Compara tus resultados con las tablas en https://es.wikipedia.org/wiki/Frecuencia_de_aparici%C3%B3n_de_letras."
   ]
  }
 ],
 "metadata": {
  "kernelspec": {
   "display_name": "Python 3",
   "language": "python",
   "name": "python3"
  },
  "language_info": {
   "codemirror_mode": {
    "name": "ipython",
    "version": 3
   },
   "file_extension": ".py",
   "mimetype": "text/x-python",
   "name": "python",
   "nbconvert_exporter": "python",
   "pygments_lexer": "ipython3",
   "version": "3.7.6-final"
  }
 },
 "nbformat": 4,
 "nbformat_minor": 4
}