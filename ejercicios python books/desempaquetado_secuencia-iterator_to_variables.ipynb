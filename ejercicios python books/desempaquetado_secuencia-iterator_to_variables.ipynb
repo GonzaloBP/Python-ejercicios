{
 "metadata": {
  "language_info": {
   "codemirror_mode": {
    "name": "ipython",
    "version": 3
   },
   "file_extension": ".py",
   "mimetype": "text/x-python",
   "name": "python",
   "nbconvert_exporter": "python",
   "pygments_lexer": "ipython3",
   "version": "3.7.6-final"
  },
  "orig_nbformat": 2,
  "kernelspec": {
   "name": "python37664bitbaseb146522dad1b413994ca3aeab4129a2d",
   "display_name": "Python 3.7.6 64-bit ('base')",
   "language": "python"
  }
 },
 "nbformat": 4,
 "nbformat_minor": 2,
 "cells": [
  {
   "cell_type": "code",
   "execution_count": 12,
   "metadata": {},
   "outputs": [
    {
     "output_type": "stream",
     "name": "stdout",
     "text": [
      "Dave\ndave@example.com\n['773-555-1212', '847-555-1212']\n(1490749.4285714286, 4535345)\nfoo 1 2\nbar hello\nfoo 3 4\n"
     ]
    }
   ],
   "source": [
    "#desempaquetado de una tupla con diferentes eltos pero con varios eltos que pertenecen a una mismo tipo (telefonos)\n",
    "\n",
    "user_record = ('Dave', 'dave@example.com', '773-555-1212', '847-555-1212')\n",
    "name, email, *phone_numbers = user_record\n",
    "print(name)\n",
    "print(email)\n",
    "print(phone_numbers) # salida como lista de telefonos\n",
    "\n",
    "\n",
    "\n",
    "\n",
    "# desempaquetado de registro de resultado de semestres comparando el resultado del ultimo semestre vs los otros 7 anteriores\n",
    "\n",
    "def avg_comparison(resultado_sem):\n",
    "    *trailing_qtrs, current_qtr = resultado_sem\n",
    "    trailing_avg = sum(trailing_qtrs) / len(trailing_qtrs)\n",
    "    return (trailing_avg, current_qtr)\n",
    "\n",
    "resultado_semestres = [213123, 123123, 432432, 543534, 6546456, 234234, 2342344, 4535345]\n",
    "print(avg_comparison(resultado_semestres))\n",
    "\n",
    "\n",
    "# desempaquetado de 2 tuplas diferentes que requieren tratamiento diferentes\n",
    "records = [\n",
    "('foo', 1, 2),\n",
    "('bar', 'hello'),\n",
    "('foo', 3, 4),\n",
    "]\n",
    "\n",
    "def do_foo(x, y):\n",
    "    print('foo', x, y)\n",
    "\n",
    "def do_bar(s):\n",
    "    print('bar', s)\n",
    "\n",
    "for tag, *args in records:\n",
    "    if tag == 'foo':\n",
    "        do_foo(*args)\n",
    "    elif tag == 'bar':\n",
    "        do_bar(*args)"
   ]
  },
  {
   "cell_type": "code",
   "execution_count": null,
   "metadata": {},
   "outputs": [],
   "source": []
  }
 ]
}